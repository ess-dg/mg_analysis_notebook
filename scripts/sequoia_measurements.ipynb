{
 "cells": [
  {
   "cell_type": "markdown",
   "metadata": {},
   "source": [
    "<font size=\"20\">\n",
    "\n",
    "# SEQUOIA measurements\n",
    "\n",
    "<font size=\"3\">\n",
    "    \n",
    "> __Author:__ A. Backis\n",
    "<br/>__Institute:__ European Spallation Source (ESS), University of Glasgow (UoG)\n",
    "<br/>__Date:__ 9/3-2020\n",
    "\n",
    "_Abstract:_\n",
    "This notebook contains the data-analysis tools used for the measurements at the SEQUOIA instrument at SNS. It describes how the analysis was performed, and summarizes the results."
   ]
  },
  {
   "cell_type": "markdown",
   "metadata": {},
   "source": [
    "# Contents\n",
    "    \n",
    "* [1. Introduction](#INTRODUCTION)\n",
    "    * [1.1 Packages](#PACKAGES)\n",
    "    * [1.2 Global parameters](#PACKAGES)\n",
    "* [2. Data](#DATA)\n",
    "    * [2.1 Descriptions](#EXTRACT)\n",
    "    * [2.2 Paths](#LOAD)\n",
    "    * [2.3 Extract](#FILTER)\n",
    "    * [2.4 Load](#FILTER)\n",
    "    * [2.5 Filter](#FILTER)\n",
    "    * [2.6 Plotting](#DATA)\n",
    "* [3. Results](#DATA)\n",
    "* [Acknowledgements](#ACKNOWLEDGEMENTS)\n",
    "* [References](#REFERENCES)"
   ]
  },
  {
   "cell_type": "markdown",
   "metadata": {},
   "source": [
    "# 1. Introduction"
   ]
  },
  {
   "cell_type": "markdown",
   "metadata": {},
   "source": []
  },
  {
   "cell_type": "markdown",
   "metadata": {},
   "source": [
    "## 1.1 Packages"
   ]
  },
  {
   "cell_type": "code",
   "execution_count": null,
   "metadata": {},
   "outputs": [],
   "source": [
    "# Autoload packages when doing an external change\n",
    "%load_ext autoreload\n",
    "%autoreload 2\n",
    "\n",
    "# General packages\n",
    "import os\n",
    "import numpy as np\n",
    "import pandas as pd\n",
    "import matplotlib.pyplot as plt\n",
    "from matplotlib.colors import LogNorm\n",
    "\n",
    "# Data handling\n",
    "import mg.file_handling.read as mg_read\n",
    "\n",
    "# Plotting\n",
    "import mg_let.basic_plot as mg_basic_plot\n",
    "\n",
    "# Helper functions\n",
    "import mg.helper_functions.misc as mg_hf\n",
    "\n",
    "# Make matplotlib interactive mode in notebook\n",
    "%matplotlib inline\n",
    "%matplotlib notebook"
   ]
  },
  {
   "cell_type": "markdown",
   "metadata": {},
   "source": [
    "## 1.2 Global parameters"
   ]
  },
  {
   "cell_type": "code",
   "execution_count": null,
   "metadata": {},
   "outputs": [],
   "source": [
    "US_TO_TDC = 1 / (62.5e-9 * 1e6)\n",
    "H_TO_TDC = 1 / ((62.5e-9) * 60*60)\n",
    "RAW_FOLDER = '../data/sequoia/raw/'\n",
    "PROCESSED_FOLDER = '../data/sequoia/processed/'"
   ]
  },
  {
   "cell_type": "markdown",
   "metadata": {},
   "source": [
    "# 2. Data"
   ]
  },
  {
   "cell_type": "markdown",
   "metadata": {},
   "source": [
    "## 2.1 Descriptions"
   ]
  },
  {
   "cell_type": "markdown",
   "metadata": {},
   "source": []
  },
  {
   "cell_type": "markdown",
   "metadata": {},
   "source": [
    "## 2.2 Paths"
   ]
  },
  {
   "cell_type": "code",
   "execution_count": null,
   "metadata": {},
   "outputs": [],
   "source": [
    "''' \n",
    "Declare paths to data\n",
    "\n",
    "'''\n",
    "\n",
    "HR_PATHS = {'2_meV_part_1': RAW_FOLDER + 'mvmelst_125_V_2meV_HR_part1.zip',\n",
    "            '2_meV_part_2': RAW_FOLDER + 'mvmelst_126_V_2meV_HR_part2.zip',\n",
    "            '3_meV': RAW_FOLDER + 'mvmelst_127_V_3meV_HR.zip',\n",
    "            '4_meV': RAW_FOLDER + 'mvmelst_129_V_4meV_HR.zip',\n",
    "            '5_meV': RAW_FOLDER + 'mvmelst_130_V_5meV_HR.zip',\n",
    "            '6_meV': RAW_FOLDER + 'mvmelst_131_V_6meV_HR.zip',\n",
    "            '7_meV_part_1': RAW_FOLDER + 'mvmelst_132_V_7meV_HR_part1.zip',\n",
    "            '7_meV_part_2': RAW_FOLDER + 'mvmelst_133_V_7meV_HR_part2.zip',\n",
    "            '8_meV_part_1': RAW_FOLDER + 'mvmelst_134_V_8meV_HR_part1.zip',\n",
    "            '8_meV_part_2': RAW_FOLDER + 'mvmelst_136_V_8meV_HR_part2.zip',\n",
    "            '9_meV': RAW_FOLDER + 'mvmelst_137_V_9meV_HR.zip',\n",
    "            '10_meV': RAW_FOLDER + 'mvmelst_138_V_10meV_HR.zip',\n",
    "            '12_meV': RAW_FOLDER + 'mvmelst_139_V_12meV_HR.zip',\n",
    "            '14_meV': RAW_FOLDER + 'mvmelst_140_V_14meV_HR.zip',\n",
    "            '16_meV': RAW_FOLDER + 'mvmelst_141_V_16meV_HR.zip',\n",
    "            '18_meV_part_1': RAW_FOLDER + 'mvmelst_142_V_18meV_HR_part1.zip',\n",
    "            '18_meV_part_2': RAW_FOLDER + 'mvmelst_143_V_18meV_HR_part2.zip',\n",
    "            '18_meV_part_3': RAW_FOLDER + 'mvmelst_144_V_18meV_HR_part3.zip',\n",
    "            '20_meV_part_1': RAW_FOLDER + 'mvmelst_145_V_20meV_HR_part1.zip',\n",
    "            '20_meV_part_2': RAW_FOLDER + 'mvmelst_146_V_20meV_HR_part2.zip'\n",
    "            }   "
   ]
  },
  {
   "cell_type": "markdown",
   "metadata": {},
   "source": [
    "## 2.3 Extract"
   ]
  },
  {
   "cell_type": "code",
   "execution_count": null,
   "metadata": {},
   "outputs": [],
   "source": [
    "def extract_mg_data(zipped_path, clusters_save_path, events_save_path):\n",
    "    unzipped_path = mg_read.unzip_data(zipped_path)\n",
    "    data = mg_read.import_data(unzipped_path)\n",
    "    # Extract clusters and save to disc\n",
    "    clusters = mg_read.extract_clusters(data)\n",
    "    mg_read.save_data(clusters, clusters_save_path)\n",
    "    clusters = None\n",
    "    # Extract events and save to disc\n",
    "    events = mg_read.extract_events(data)\n",
    "    mg_read.save_data(events, events_save_path)\n",
    "    events = None\n",
    "    # Clear data\n",
    "    data = None"
   ]
  },
  {
   "cell_type": "code",
   "execution_count": null,
   "metadata": {},
   "outputs": [],
   "source": [
    "# Extract data, cluster, and save to file\n",
    "def extract_and_save(run, raw_path):\n",
    "    clusters_path = PROCESSED_FOLDER + run + '_clu.h5'\n",
    "    events_path = PROCESSED_FOLDER + run + '_ev.h5'\n",
    "    extract_mg_data(raw_path, clusters_path, events_path)"
   ]
  },
  {
   "cell_type": "markdown",
   "metadata": {},
   "source": [
    "### Extract data"
   ]
  },
  {
   "cell_type": "code",
   "execution_count": null,
   "metadata": {},
   "outputs": [],
   "source": [
    "extract_and_save('2_meV_part_1', HR_PATHS['2_meV_part_1'])\n",
    "extract_and_save('2_meV_part_2', HR_PATHS['2_meV_part_2'])\n",
    "\n",
    "extract_and_save('3_meV', HR_PATHS['3_meV'])\n",
    "extract_and_save('4_meV', HR_PATHS['4_meV'])\n",
    "extract_and_save('5_meV', HR_PATHS['5_meV'])\n",
    "extract_and_save('6_meV', HR_PATHS['6_meV'])\n",
    "\n",
    "extract_and_save('7_meV_part_1', HR_PATHS['7_meV_part_1'])\n",
    "extract_and_save('7_meV_part_2', HR_PATHS['7_meV_part_2'])\n",
    "\n",
    "extract_and_save('8_meV_part_1', HR_PATHS['8_meV_part_1'])\n",
    "extract_and_save('8_meV_part_2', HR_PATHS['8_meV_part_2'])\n",
    "\n",
    "extract_and_save('9_meV', HR_PATHS['9_meV'])\n",
    "extract_and_save('10_meV', HR_PATHS['10_meV'])\n",
    "extract_and_save('12_meV', HR_PATHS['12_meV'])\n",
    "extract_and_save('14_meV', HR_PATHS['14_meV'])\n",
    "extract_and_save('16_meV', HR_PATHS['16_meV'])\n",
    "\n"
   ]
  }
 ],
 "metadata": {
  "kernelspec": {
   "display_name": "Python 3",
   "language": "python",
   "name": "python3"
  },
  "language_info": {
   "codemirror_mode": {
    "name": "ipython",
    "version": 3
   },
   "file_extension": ".py",
   "mimetype": "text/x-python",
   "name": "python",
   "nbconvert_exporter": "python",
   "pygments_lexer": "ipython3",
   "version": "3.7.7"
  }
 },
 "nbformat": 4,
 "nbformat_minor": 2
}
