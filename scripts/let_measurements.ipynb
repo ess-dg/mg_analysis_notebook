{
 "cells": [
  {
   "cell_type": "markdown",
   "metadata": {},
   "source": [
    "<font size=\"20\">\n",
    "\n",
    "# LET measurements, April 2020\n",
    "\n",
    "<font size=\"3\">\n",
    "    \n",
    "> __Author:__ A. Backis\n",
    "<br/>__Institute:__ European Spallation Source (ESS), University of Glasgow (UoG)\n",
    "<br/>__Date:__ 4/3-2020\n",
    "\n",
    "_Abstract:_\n",
    "This notebook contains the data-analysis tools used for the measurements at the LET instrument at ISIS. It describes how the analysis was performed, and summarizes the results."
   ]
  },
  {
   "cell_type": "markdown",
   "metadata": {},
   "source": [
    "# Contents\n",
    "    \n",
    "* [1. Introduction](#INTRODUCTION)\n",
    "    * [1.1 Packages](#PACKAGES)\n",
    "    * [1.2 Global parameters](#PACKAGES)\n",
    "* [2. Data](#DATA)\n",
    "    * [2.1 Descriptions](#EXTRACT)\n",
    "    * [2.2 Paths](#LOAD)\n",
    "    * [2.3 Extract](#FILTER)\n",
    "    * [2.4 Load](#FILTER)\n",
    "    * [2.5 Filter](#FILTER)\n",
    "    * [2.6 Plotting](#DATA)\n",
    "* [4. Utgård](#DATA)\n",
    "* [Acknowledgements](#ACKNOWLEDGEMENTS)\n",
    "* [References](#REFERENCES)"
   ]
  },
  {
   "cell_type": "markdown",
   "metadata": {},
   "source": [
    "# 1. Introduction"
   ]
  },
  {
   "cell_type": "markdown",
   "metadata": {},
   "source": [
    "This notebook summarizes the details of the measurements performed at the LET instrument, at ISIS, England. The notebook contains all details on the preparations leading up to the beam time on the 28:th and 29:th April 2020. This includes preparations at Utgård and initial background testing at ISIS."
   ]
  },
  {
   "cell_type": "markdown",
   "metadata": {},
   "source": [
    "## 1.1 Packages<a class=\"anchor\" id=\"PACKAGES\"></a>"
   ]
  },
  {
   "cell_type": "code",
   "execution_count": null,
   "metadata": {},
   "outputs": [],
   "source": [
    "# Autoload packages when doing an external change\n",
    "%load_ext autoreload\n",
    "%autoreload 2\n",
    "\n",
    "# General packages\n",
    "import os\n",
    "import numpy as np\n",
    "import pandas as pd\n",
    "import matplotlib.pyplot as plt\n",
    "from matplotlib.colors import LogNorm\n",
    "import plotly.graph_objects as go\n",
    "from plotly.offline import iplot, plot\n",
    "\n",
    "# Data handling\n",
    "import mg.file_handling.read as mg_read\n",
    "import mg_cncs.read as cncs_read\n",
    "\n",
    "# Plotting\n",
    "import mg_let.basic_plot as mg_basic_plot\n",
    "\n",
    "# Helper functions\n",
    "import mg.helper_functions.misc as mg_hf\n",
    "import mg_cncs.helper_functions as cncs_hf\n",
    "\n",
    "# Make matplotlib interactive mode in notebook\n",
    "#%matplotlib notebook\n",
    "#%matplotlib inline\n",
    "\n",
    "# Import widgets\n",
    "import ipywidgets as widgets\n",
    "from ipywidgets import interact, interact_manual, HBox, Label\n",
    "\n",
    "# For animation\n",
    "import imageio\n",
    "import shutil"
   ]
  },
  {
   "cell_type": "markdown",
   "metadata": {},
   "source": [
    "## 1.2 Global parameters"
   ]
  },
  {
   "cell_type": "code",
   "execution_count": null,
   "metadata": {},
   "outputs": [],
   "source": [
    "US_TO_TDC = 1 / (62.5e-9 * 1e6)\n",
    "RAW_FOLDER = '../data/let/raw/'\n",
    "PROCESSED_FOLDER = '../data/let/processed/'"
   ]
  },
  {
   "cell_type": "code",
   "execution_count": null,
   "metadata": {},
   "outputs": [],
   "source": [
    "print(mg_hf.meV_to_A(2))\n",
    "print(mg_hf.meV_to_A(168))"
   ]
  },
  {
   "cell_type": "markdown",
   "metadata": {},
   "source": [
    "# 2. Data"
   ]
  },
  {
   "cell_type": "markdown",
   "metadata": {},
   "source": [
    "## 2.1 Paths<a class=\"anchor\" id=\"EXTRACT\"></a>"
   ]
  },
  {
   "cell_type": "code",
   "execution_count": null,
   "metadata": {},
   "outputs": [],
   "source": [
    "''' Declare paths to data '''\n",
    "# UTGÅRD - PREVIOUS MEASUREMENTS\n",
    "PREVIOUS_PATHS = {'previous_run_1': RAW_FOLDER + 'mvmelst_042_noShielding_68h.zip',\n",
    "                  'previous_run_2': RAW_FOLDER + 'mvmelst_045_Shielding_1100V_114h22m.zip',\n",
    "                  'previous_run_3': RAW_FOLDER + 'mvmelst_078_2det_45h56m_1vertical.zip',\n",
    "                  \n",
    "                  'previous_run_4': RAW_FOLDER + 'mvmelst_171_191018_130129_First_SEQUOIA_II_Meauserement.zip',\n",
    "                  'previous_run_5': RAW_FOLDER + 'mvmelst_179_191118_065800_SEQUOIA_II_18_11_2019_to_20_11_2019_no_mirrorbor_shielding.zip',\n",
    "                  'previous_run_6': RAW_FOLDER + 'mvmelst_181_191120_100402_SEQUOIA__II_20_11_2019_to_22_11_2019_mirrorbor_shielding_top_and_bottom.zip',\n",
    "                  'previous_run_7': RAW_FOLDER + 'mvmelst_188_191203_101632_SEQUOIA_II_1350_V_03_12_2019_to_05_12_2019_SEQUOIA_II_shielded_with_polyethylene_and_mirrorbor_sides_and_front.zip',\n",
    "                  'previous_run_8': RAW_FOLDER + 'mvmelst_189_191205_093810_SEQUOIA_I_06_12_2019_to_09_12_2019_inside_new_cave.zip'\n",
    "                  }      \n",
    "\n",
    "# UTGÅRD - PREPARATION MEASUREMENTS\n",
    "UTGARD_PATHS = {'utgard_run_1': RAW_FOLDER + 'mvmelst_191_200305_111506_utgard_first_run.zip',\n",
    "                'utgard_run_2': RAW_FOLDER + 'mvmelst_193_200306_040827_mirrobor_covering_front_and_sides.zip',\n",
    "                'utgard_run_3': RAW_FOLDER + 'mvmelst_194_200307_102939_unshielded.zip',\n",
    "                'utgard_run_4': RAW_FOLDER + 'mvmelst_195_200309_033822_mirrorbor_shielding_opening_in_middle.zip',\n",
    "                'utgard_run_5': RAW_FOLDER + 'mvmelst_196_200311_121940_mirrorbor_shielding_opening_at_top.zip',\n",
    "                'utgard_run_6': RAW_FOLDER + 'mvmelst_197_200312_045631_unshielded_first_t0_test.zip',\n",
    "                'utgard_run_7': RAW_FOLDER + 'mvmelst_198_200312_075113_unshielded_second_t0_test.zip',\n",
    "                'utgard_run_8': RAW_FOLDER + 'mvmelst_199_200312_084636_unshielded_no_t0_signals_sent.zip',\n",
    "                'utgard_run_9': RAW_FOLDER + 'mvmelst_200_200312_103913_unshielded_LVgournding_to_be_changed.zip',\n",
    "                'utgard_run_10': RAW_FOLDER + 'mvmelst_201_200312_123407_unshielded_RWLVGndC_no_t0.zip',\n",
    "                'utgard_run_11': RAW_FOLDER + 'mvmelst_202_200313_135642_SEQ_1_shielded_in_cave.zip',\n",
    "                'utgard_run_12': RAW_FOLDER + 'mvmelst_203_200316_052259_SEQ1_shielded_in_cave_SEQ2VerticalShielded.zip',\n",
    "                'utgard_run_13': RAW_FOLDER + 'mvmelst_204_200317_133017_SEQ1CaveShielded_SEQ2UnshieldedVertical_NewHV_NORHWGnd.zip',\n",
    "                'utgard_run_14': RAW_FOLDER + 'mvmelst_205_200318_102317_SEQ1CaveShielded_SEQ2UnshieldedVertical_NORHWGnd_GasFlowReducedThenStopped.zip',\n",
    "                'utgard_run_15': RAW_FOLDER + 'mvmelst_206_200323_050803_SEQ1CaveShielded_SEQ2UnshieldedVertical_NoRHWGnd_GasFlowResumed.zip',\n",
    "                'utgard_run_16': RAW_FOLDER + 'mvmelst_207_200324_054624EQ1CaveShieldedwithGas_SEQ2UnshieldedVerticalTopHatOpen_NoRHWGnd_.zip',\n",
    "                'utgard_run_17': RAW_FOLDER + 'mvmelst_210_200325_111153_SEQ1CaveShielded_SEQ2UnshieldedVertical_GasInThenBottleFinished_NoRHWGnd.zip',\n",
    "                'utgard_run_18': RAW_FOLDER + 'mvmelst_211_200330_083628_SEQ1CaveShielded_SEQ2UnshieldedVertical_GasInThenBottleFinished_Continued_NoRHWGnd.zip',\n",
    "                'utgard_run_19': RAW_FOLDER + 'mvmelst_212_200401_051232_SEQ1CaveShielded_SEQ2UnshieldedHorizontal_GasInAtTheStartOfTheRun_Continued_NoRHWGnd.zip',\n",
    "                'utgard_run_20': RAW_FOLDER + 'mvmelst_213_200408_044106_SEQ1CaveShielded_SEQ2ShieldedHorizontal_FloatingGnd_NoRHWGnd.zip'\n",
    "               }\n",
    "\n",
    "# UTGÅRD - SUMMER 2019 BACKGROUND MEASUREMENTS\n",
    "SUMMER_PATHS = {'summer_run_1': RAW_FOLDER + 'summer/' + 'mvmelst_030_Shielding_22h.zip',\n",
    "               'summer_run_2': RAW_FOLDER + 'summer/' + 'mvmelst_031_Shielding_1100V_28h.zip',\n",
    "               'summer_run_3': RAW_FOLDER + 'summer/' + 'mvmelst_032_Shielding_1100V_20h33m.zip',\n",
    "               'summer_run_4': RAW_FOLDER + 'summer/' + 'mvmelst_033_Shielding_1100V_1h20m.zip',\n",
    "               'summer_run_5': RAW_FOLDER + 'summer/' + 'mvmelst_034_NoShielding_1100V_70h17m.zip',\n",
    "               'summer_run_6': RAW_FOLDER + 'summer/' + 'mvmelst_035_Shielding_1100V_69h20m.zip',\n",
    "               'summer_run_7': RAW_FOLDER + 'summer/' + 'mvmelst_036_Shielding_1100V_28h.zip',\n",
    "               'summer_run_8': RAW_FOLDER + 'summer/' + 'mvmelst_037_Shielding_1100V_69h09m.zip',\n",
    "               'summer_run_9': RAW_FOLDER + 'summer/' + 'mvmelst_042_noShielding_68h.zip',\n",
    "               'summer_run_10': RAW_FOLDER + 'summer/' + 'mvmelst_042_NoShileding_1100V_286h49m.zip',\n",
    "               'summer_run_11': RAW_FOLDER + 'summer/' + 'mvmelst_043_Shielding_20h15m.zip',\n",
    "               'summer_run_12': RAW_FOLDER + 'summer/' + 'mvmelst_043_Shielding_1100V_49h18m.zip',\n",
    "               'summer_run_13': RAW_FOLDER + 'summer/' + 'mvmelst_045_Shielding_1100V_114h22m.zip',\n",
    "               'summer_run_14': RAW_FOLDER + 'summer/' + 'mvmelst_047_NoShielding_Upright_1100V_268h16m.zip',\n",
    "               'summer_run_15': RAW_FOLDER + 'summer/' + 'mvmelst_091_3det_69h34m.zip',\n",
    "               'summer_run_16': RAW_FOLDER + 'summer/' + 'mvmelst_078_2det_45h56m_1vertical.zip',\n",
    "               'summer_run_17': RAW_FOLDER + 'summer/' + 'mvmelst_038_Shileding_GasFlowStop_48h.zip',\n",
    "               'summer_run_18': RAW_FOLDER + 'summer/' + 'mvmelst_050_2det_94h.zip',\n",
    "               'summer_run_19': RAW_FOLDER + 'summer/' + 'mvmelst_055_47h47m.zip',\n",
    "               'summer_run_20': RAW_FOLDER + 'summer/' + 'mvmelst_056_PureAl_ILL_91h05m.zip',\n",
    "               'summer_run_21': RAW_FOLDER + 'summer/' + 'mvmelst_089_PureAlShielded_ILLVertical_64h26m.zip'\n",
    "               }\n",
    "\n",
    "# V20 - BACKGROUND MEASUREMENTS\n",
    "V20_PATHS = {'v20_run_1': RAW_FOLDER + 'v20_background/' + 'mvmelst_122_190926_032920_shutterClosed.zip',\n",
    "             'v20_run_2': RAW_FOLDER + 'v20_background/' + 'mvmelst_123_190926_084909_reactorOff_overnight.zip'\n",
    "             }\n",
    "\n",
    "# UTGÅRD - CNCS MEASUREMENTS\n",
    "CNCS_PATHS = {'cncs_run_1': RAW_FOLDER + 'cncs/' + 'V_highRes_3p678meV',\n",
    "              'cncs_run_2': RAW_FOLDER + 'cncs/' + 'first_cncs_data',\n",
    "              'cncs_run_3': RAW_FOLDER + 'cncs/' + 'cncs_second_run_at_utgard',\n",
    "              'cncs_run_4': RAW_FOLDER + 'cncs/' + 'data_2019_06',\n",
    "              'cncs_run_5': RAW_FOLDER + 'cncs/' + 'data_2019_07_02',\n",
    "              'cncs_run_6': RAW_FOLDER + 'cncs/' + 'data_2019_07_25',\n",
    "              'cncs_run_7': RAW_FOLDER + 'cncs/' + '2April2020',\n",
    "              'cncs_run_8': RAW_FOLDER + 'cncs/' + '3130TO11596_MG.CNCSTopUnshielded',\n",
    "              'cncs_run_9': RAW_FOLDER + 'cncs/' + '1003_0TO11291_MG.CNCSTopShielded_part_1',\n",
    "              'cncs_run_10': RAW_FOLDER + 'cncs/' + '1003_0TO11291_MG.CNCSTopShielded_part_2',\n",
    "              'cncs_run_11': RAW_FOLDER + 'cncs/' + '1003_0TO11291_MG.CNCSTopShielded_part_3',\n",
    "              'cncs_run_12': RAW_FOLDER + 'cncs/' + '1003_0TO11291_MG.CNCSTopShielded_part_4',\n",
    "              'cncs_run_13': RAW_FOLDER + 'cncs/' + '1003_0TO11291_MG.CNCSTopShielded_part_5',\n",
    "             }  "
   ]
  },
  {
   "cell_type": "markdown",
   "metadata": {},
   "source": [
    "## 2.2 Extract<a class=\"anchor\" id=\"EXTRACT\"></a>"
   ]
  },
  {
   "cell_type": "code",
   "execution_count": null,
   "metadata": {},
   "outputs": [],
   "source": [
    "def extract_mg_data(zipped_path, clusters_save_path, events_save_path):\n",
    "    \"\"\"\n",
    "    Function to extract, cluster and save data.\n",
    "    \n",
    "    Args:\n",
    "        zipped_path (str): Location of raw data\n",
    "        clusters_save_path (str): Destination for clusters\n",
    "        events_save_path (str): Destination for events\n",
    "\n",
    "    Yields:\n",
    "        Clusters and events are extracted from the raw data and saved at the specified locations\n",
    "    \n",
    "    \"\"\"\n",
    "    unzipped_path = mg_read.unzip_data(zipped_path)\n",
    "    data = mg_read.import_data(unzipped_path)\n",
    "    # Extract clusters and save to disc\n",
    "    clusters = mg_read.extract_clusters(data)\n",
    "    mg_read.save_data(clusters, clusters_save_path)\n",
    "    clusters = None\n",
    "    # Extract events and save to disc\n",
    "    events = mg_read.extract_events(data)\n",
    "    mg_read.save_data(events, events_save_path)\n",
    "    events = None\n",
    "    # Clear data\n",
    "    data = None"
   ]
  },
  {
   "cell_type": "code",
   "execution_count": null,
   "metadata": {},
   "outputs": [],
   "source": [
    "# Extract data, cluster, and save to file\n",
    "def extract_and_save(run, raw_path):\n",
    "    \"\"\"\n",
    "    Function to extract, cluster and save data.\n",
    "    \n",
    "    Args:\n",
    "        run (str): File run, as specified at top of notebook\n",
    "        raw_path (str): Path to the raw data in the '.zip'-file\n",
    "\n",
    "    Yields:\n",
    "        Clusters and events are extracted from the raw data and saved in the 'processed'-folder.\n",
    "    \n",
    "    \"\"\"\n",
    "    clusters_path = PROCESSED_FOLDER + run + '_clu.h5'\n",
    "    events_path = PROCESSED_FOLDER + run + '_ev.h5'\n",
    "    extract_mg_data(raw_path, clusters_path, events_path)"
   ]
  },
  {
   "cell_type": "markdown",
   "metadata": {},
   "source": [
    "### Extract data"
   ]
  },
  {
   "cell_type": "code",
   "execution_count": null,
   "metadata": {
    "scrolled": true
   },
   "outputs": [],
   "source": [
    "# UTGÅRD - PREVIOUS MEASUREMENTS\n",
    "#extract_and_save('previous_run_1', PREVIOUS_PATHS['previous_run_1'])\n",
    "#extract_and_save('previous_run_2', PREVIOUS_PATHS['previous_run_2'])\n",
    "#extract_and_save('previous_run_3', PREVIOUS_PATHS['previous_run_3'])\n",
    "#extract_and_save('previous_run_4', PREVIOUS_PATHS['previous_run_4'])\n",
    "#extract_and_save('previous_run_5', PREVIOUS_PATHS['previous_run_5'])\n",
    "#extract_and_save('previous_run_6', PREVIOUS_PATHS['previous_run_6'])\n",
    "#extract_and_save('previous_run_7', PREVIOUS_PATHS['previous_run_7'])\n",
    "#extract_and_save('previous_run_8', PREVIOUS_PATHS['previous_run_8'])\n",
    "\n",
    "# UTGÅRD - PREPARATION MEASUREMENTS\n",
    "#extract_and_save('utgard_run_1', UTGARD_PATHS['utgard_run_1'])\n",
    "#extract_and_save('utgard_run_2', UTGARD_PATHS['utgard_run_2'])\n",
    "#extract_and_save('utgard_run_3', UTGARD_PATHS['utgard_run_3'])\n",
    "#extract_and_save('utgard_run_4', UTGARD_PATHS['utgard_run_4'])\n",
    "#extract_and_save('utgard_run_5', UTGARD_PATHS['utgard_run_5'])\n",
    "#extract_and_save('utgard_run_6', UTGARD_PATHS['utgard_run_6'])\n",
    "#extract_and_save('utgard_run_7', UTGARD_PATHS['utgard_run_7'])\n",
    "#extract_and_save('utgard_run_8', UTGARD_PATHS['utgard_run_8'])\n",
    "#extract_and_save('utgard_run_9', UTGARD_PATHS['utgard_run_9'])\n",
    "#extract_and_save('utgard_run_10', UTGARD_PATHS['utgard_run_10'])\n",
    "#extract_and_save('utgard_run_11', UTGARD_PATHS['utgard_run_11'])\n",
    "#extract_and_save('utgard_run_12', UTGARD_PATHS['utgard_run_12'])\n",
    "#extract_and_save('utgard_run_13', UTGARD_PATHS['utgard_run_13'])\n",
    "#extract_and_save('utgard_run_14', UTGARD_PATHS['utgard_run_14'])\n",
    "#extract_and_save('utgard_run_15', UTGARD_PATHS['utgard_run_15'])\n",
    "#extract_and_save('utgard_run_16', UTGARD_PATHS['utgard_run_16'])\n",
    "#extract_and_save('utgard_run_17', UTGARD_PATHS['utgard_run_17'])\n",
    "#extract_and_save('utgard_run_18', UTGARD_PATHS['utgard_run_18'])\n",
    "#extract_and_save('utgard_run_19', UTGARD_PATHS['utgard_run_19'])\n",
    "#extract_and_save('utgard_run_20', UTGARD_PATHS['utgard_run_20'])\n",
    "\n",
    "# UTGÅRD - SUMMER 2019 MEASUREMENTS\n",
    "#extract_and_save('summer_run_1', SUMMER_PATHS['summer_run_1'])\n",
    "#extract_and_save('summer_run_2', SUMMER_PATHS['summer_run_2'])\n",
    "#extract_and_save('summer_run_3', SUMMER_PATHS['summer_run_3'])\n",
    "#extract_and_save('summer_run_4', SUMMER_PATHS['summer_run_4'])\n",
    "#extract_and_save('summer_run_5', SUMMER_PATHS['summer_run_5'])\n",
    "#extract_and_save('summer_run_6', SUMMER_PATHS['summer_run_6'])\n",
    "#extract_and_save('summer_run_7', SUMMER_PATHS['summer_run_7'])\n",
    "#extract_and_save('summer_run_8', SUMMER_PATHS['summer_run_8'])\n",
    "#extract_and_save('summer_run_9', SUMMER_PATHS['summer_run_9'])\n",
    "#extract_and_save('summer_run_10',SUMMER_PATHS['summer_run_10'])\n",
    "#extract_and_save('summer_run_11',SUMMER_PATHS['summer_run_11'])\n",
    "#extract_and_save('summer_run_12',SUMMER_PATHS['summer_run_12'])\n",
    "#extract_and_save('summer_run_13',SUMMER_PATHS['summer_run_13'])\n",
    "#extract_and_save('summer_run_14',SUMMER_PATHS['summer_run_14'])\n",
    "#extract_and_save('summer_run_15',SUMMER_PATHS['summer_run_15'])\n",
    "#extract_and_save('summer_run_16',SUMMER_PATHS['summer_run_16'])\n",
    "#extract_and_save('summer_run_17',SUMMER_PATHS['summer_run_17'])\n",
    "#extract_and_save('summer_run_18',SUMMER_PATHS['summer_run_18'])\n",
    "#extract_and_save('summer_run_19',SUMMER_PATHS['summer_run_19'])\n",
    "#extract_and_save('summer_run_20',SUMMER_PATHS['summer_run_20'])\n",
    "#extract_and_save('summer_run_21',SUMMER_PATHS['summer_run_21'])\n",
    "\n",
    "# V20 - background measurements\n",
    "#extract_and_save('v20_run_1', V20_PATHS['v20_run_1'])\n",
    "#extract_and_save('v20_run_2', V20_PATHS['v20_run_2'])"
   ]
  },
  {
   "cell_type": "markdown",
   "metadata": {},
   "source": [
    "## 2.3 Load<a class=\"anchor\" id=\"LOAD\"></a>"
   ]
  },
  {
   "cell_type": "code",
   "execution_count": null,
   "metadata": {},
   "outputs": [],
   "source": [
    "# Load clusters and events\n",
    "def load_clusters_and_events(run):\n",
    "    \"\"\"\n",
    "    Function to load data from a specific run.\n",
    "    \n",
    "    Args:\n",
    "        run (str): File run, as specified at top of notebook\n",
    "\n",
    "    Returns:\n",
    "        Clusters (DataFrame)\n",
    "        Events (DataFrame)\n",
    "    \n",
    "    \"\"\"\n",
    "    clusters_path = PROCESSED_FOLDER + run + '_clu.h5'\n",
    "    events_path = PROCESSED_FOLDER + run + '_ev.h5'\n",
    "    return mg_read.load_data(clusters_path), mg_read.load_data(events_path)"
   ]
  },
  {
   "cell_type": "markdown",
   "metadata": {},
   "source": [
    "### Load data - MG.SEQ"
   ]
  },
  {
   "cell_type": "code",
   "execution_count": null,
   "metadata": {
    "scrolled": true
   },
   "outputs": [],
   "source": [
    "# UTGÅRD - PREVIOUS MEASUREMENTS\n",
    "clu_previous_run_1, ev_previous_run_1 = load_clusters_and_events('previous_run_1')\n",
    "clu_previous_run_2, ev_previous_run_2 = load_clusters_and_events('previous_run_2')\n",
    "clu_previous_run_3, ev_previous_run_3 = load_clusters_and_events('previous_run_3')\n",
    "clu_previous_run_4, ev_previous_run_4 = load_clusters_and_events('previous_run_4')\n",
    "clu_previous_run_5, ev_previous_run_5 = load_clusters_and_events('previous_run_5')\n",
    "clu_previous_run_6, ev_previous_run_6 = load_clusters_and_events('previous_run_6')\n",
    "clu_previous_run_7, ev_previous_run_7 = load_clusters_and_events('previous_run_7')\n",
    "clu_previous_run_8, ev_previous_run_8 = load_clusters_and_events('previous_run_8')\n",
    "\n",
    "# UTGÅRD - PREPARATION MEASUREMENTs\n",
    "clu_utgard_run_1, ev_utgard_run_1 = load_clusters_and_events('utgard_run_1')\n",
    "clu_utgard_run_2, ev_utgard_run_2 = load_clusters_and_events('utgard_run_2')\n",
    "clu_utgard_run_3, ev_utgard_run_3 = load_clusters_and_events('utgard_run_3')\n",
    "clu_utgard_run_4, ev_utgard_run_4 = load_clusters_and_events('utgard_run_4')\n",
    "clu_utgard_run_5, ev_utgard_run_5 = load_clusters_and_events('utgard_run_5')\n",
    "clu_utgard_run_6, ev_utgard_run_6 = load_clusters_and_events('utgard_run_6')\n",
    "clu_utgard_run_7, ev_utgard_run_7 = load_clusters_and_events('utgard_run_7')\n",
    "clu_utgard_run_8, ev_utgard_run_8 = load_clusters_and_events('utgard_run_8')\n",
    "clu_utgard_run_9, ev_utgard_run_9 = load_clusters_and_events('utgard_run_9')\n",
    "clu_utgard_run_10, ev_utgard_run_10 = load_clusters_and_events('utgard_run_10')\n",
    "clu_utgard_run_11, ev_utgard_run_11 = load_clusters_and_events('utgard_run_11')\n",
    "clu_utgard_run_12, ev_utgard_run_12 = load_clusters_and_events('utgard_run_12')\n",
    "clu_utgard_run_13, ev_utgard_run_13 = load_clusters_and_events('utgard_run_13')\n",
    "clu_utgard_run_14, ev_utgard_run_14 = load_clusters_and_events('utgard_run_14')\n",
    "clu_utgard_run_15, ev_utgard_run_15 = load_clusters_and_events('utgard_run_15')\n",
    "clu_utgard_run_16, ev_utgard_run_16 = load_clusters_and_events('utgard_run_16')\n",
    "clu_utgard_run_17, ev_utgard_run_17 = load_clusters_and_events('utgard_run_17')\n",
    "clu_utgard_run_18, ev_utgard_run_18 = load_clusters_and_events('utgard_run_18')\n",
    "clu_utgard_run_19, ev_utgard_run_19 = load_clusters_and_events('utgard_run_19')\n",
    "clu_utgard_run_20, ev_utgard_run_20 = load_clusters_and_events('utgard_run_20')\n",
    "\n",
    "# UTGÅRD - SUMMER MEASUREMENTS\n",
    "clu_summer_run_1, ev_summer_run_1 = load_clusters_and_events('summer_run_1')\n",
    "clu_summer_run_2, ev_summer_run_2 = load_clusters_and_events('summer_run_2')\n",
    "clu_summer_run_3, ev_summer_run_3 = load_clusters_and_events('summer_run_3')\n",
    "clu_summer_run_4, ev_summer_run_4 = load_clusters_and_events('summer_run_4')\n",
    "clu_summer_run_5, ev_summer_run_5 = load_clusters_and_events('summer_run_5')\n",
    "clu_summer_run_6, ev_summer_run_6 = load_clusters_and_events('summer_run_6')\n",
    "clu_summer_run_7, ev_summer_run_7 = load_clusters_and_events('summer_run_7')\n",
    "clu_summer_run_8, ev_summer_run_8 = load_clusters_and_events('summer_run_8')\n",
    "clu_summer_run_9, ev_summer_run_9 = load_clusters_and_events('summer_run_9')\n",
    "clu_summer_run_10, ev_summer_run_10 = load_clusters_and_events('summer_run_10')\n",
    "clu_summer_run_11, ev_summer_run_11 = load_clusters_and_events('summer_run_11')\n",
    "clu_summer_run_12, ev_summer_run_12 = load_clusters_and_events('summer_run_12')\n",
    "clu_summer_run_13, ev_summer_run_13 = load_clusters_and_events('summer_run_13')\n",
    "clu_summer_run_14, ev_summer_run_14 = load_clusters_and_events('summer_run_14')\n",
    "clu_summer_run_15, ev_summer_run_15 = load_clusters_and_events('summer_run_15')\n",
    "clu_summer_run_16, ev_summer_run_16 = load_clusters_and_events('summer_run_16')\n",
    "clu_summer_run_17, ev_summer_run_17 = load_clusters_and_events('summer_run_17')\n",
    "clu_summer_run_18, ev_summer_run_18 = load_clusters_and_events('summer_run_18')\n",
    "clu_summer_run_19, ev_summer_run_19 = load_clusters_and_events('summer_run_19')\n",
    "clu_summer_run_20, ev_summer_run_20 = load_clusters_and_events('summer_run_20')\n",
    "clu_summer_run_21, ev_summer_run_21 = load_clusters_and_events('summer_run_21')\n",
    "\n",
    "# V20 - background measurements\n",
    "clu_v20_run_1, ev_v20_run_1 = load_clusters_and_events('v20_run_1')\n",
    "clu_v20_run_2, ev_v20_run_2 = load_clusters_and_events('v20_run_2')"
   ]
  },
  {
   "cell_type": "markdown",
   "metadata": {},
   "source": [
    "## 2.4 Filters<a class=\"anchor\" id=\"FILTER\"></a>"
   ]
  },
  {
   "cell_type": "code",
   "execution_count": null,
   "metadata": {},
   "outputs": [],
   "source": [
    "\"\"\"\n",
    "Filters are declared in the following format:\n",
    "{'PARAMETER': [MIN_VALUE, MAX_VALUE, IS_ACTIVATE]}\n",
    "\"\"\"\n",
    "\n",
    "# Declare filter for multi-grid clusters\n",
    "mg_basic_filter = {'wm': [1, 1, True],                   # Wire multiplicity\n",
    "                   'gm': [1, 5, True],                   # Grid multiplicity\n",
    "                   'wadc': [1200, np.inf, True],          # Wire charge\n",
    "                   'gadc': [1200, np.inf, True],          # Grid charge\n",
    "                   'tof': [0, np.inf, True],             # Time-of-flight (TDC channels)\n",
    "                   'time': [0, np.inf, True],            # Time (TDC channels)\n",
    "                   'bus': [0, 8, True],                  # Bus\n",
    "                   'flag': [0, 1, False],                # =1 if different buses within same coincidence\n",
    "                   'layer': [0, 19, False],              # Layer, front=0 to back=19\n",
    "                   'row': [0, 11, False],                # Row, right to left (seen from neutrons)\n",
    "                   'gch': [80, 119, True]}               # Grid channel, bottom=80 to top=119\n",
    "\n",
    "# Declare filter for multi-grid clusters\n",
    "mg_low_adc_filter = {'wm': [1, 1, True],                   # Wire multiplicity\n",
    "                   'gm': [1, 5, True],                   # Grid multiplicity\n",
    "                   'wadc': [0, np.inf, True],          # Wire charge\n",
    "                   'gadc': [0, np.inf, True],          # Grid charge\n",
    "                   'tof': [0, np.inf, True],             # Time-of-flight (TDC channels)\n",
    "                   'time': [0, np.inf, True],            # Time (TDC channels)\n",
    "                   'bus': [0, 8, True],                  # Bus\n",
    "                   'flag': [0, 1, False],                # =1 if different buses within same coincidence\n",
    "                   'layer': [0, 19, False],              # Layer, front=0 to back=19\n",
    "                   'row': [0, 11, False],                # Row, right to left (seen from neutrons)\n",
    "                   'gch': [80, 119, True]}               # Grid channel, bottom=80 to top=119\n",
    "\n",
    "# Declare filter for multi-grid clusters\n",
    "mg_high_adc_filter = {'wm': [1, 1, True],                   # Wire multiplicity\n",
    "                   'gm': [1, 5, True],                   # Grid multiplicity\n",
    "                   'wadc': [800, np.inf, True],          # Wire charge\n",
    "                   'gadc': [800, np.inf, True],          # Grid charge\n",
    "                   'tof': [0, np.inf, True],             # Time-of-flight (TDC channels)\n",
    "                   'time': [0, np.inf, True],            # Time (TDC channels)\n",
    "                   'bus': [0, 8, True],                  # Bus\n",
    "                   'flag': [0, 1, False],                # =1 if different buses within same coincidence\n",
    "                   'layer': [0, 19, False],              # Layer, front=0 to back=19\n",
    "                   'row': [0, 11, False],                # Row, right to left (seen from neutrons)\n",
    "                   'gch': [80, 119, True]}               # Grid channel, bottom=80 to top=119\n",
    "\n",
    "# Declare filter for multi-grid clusters\n",
    "mg_filter_no_edges = {'wm': [1, 1, True],                   # Wire multiplicity\n",
    "                   'gm': [1, 5, True],                   # Grid multiplicity\n",
    "                   'wadc': [600, np.inf, True],          # Wire charge\n",
    "                   'gadc': [600, np.inf, True],          # Grid charge\n",
    "                   'tof': [0, np.inf, True],             # Time-of-flight (TDC channels)\n",
    "                   'time': [0, np.inf, True],            # Time (TDC channels)\n",
    "                   'bus': [0, 8, True],                  # Bus\n",
    "                   'flag': [0, 1, False],                # =1 if different buses within same coincidence\n",
    "                   'layer': [0, 19, False],              # Layer, front=0 to back=19\n",
    "                   'row': [0, 11, False],                # Row, right to left (seen from neutrons)\n",
    "                   'gch': [82, 117, True]}               # Grid channel, bottom=80 to top=119\n",
    "\n",
    "# Declare filter for multi-grid clusters\n",
    "mg_filter_no_edges_no_back = {'wm': [1, 1, True],                   # Wire multiplicity\n",
    "                              'gm': [1, 5, True],                   # Grid multiplicity\n",
    "                              'wadc': [600, np.inf, True],          # Wire charge\n",
    "                              'gadc': [600, np.inf, True],          # Grid charge\n",
    "                              'tof': [0, np.inf, True],             # Time-of-flight (TDC channels)\n",
    "                              'time': [0, np.inf, True],            # Time (TDC channels)\n",
    "                              'bus': [0, 8, True],                  # Bus\n",
    "                              'flag': [0, 1, False],                # =1 if different buses within same coincidence\n",
    "                              'layer': [0, 15, True],              # Layer, front=0 to back=19\n",
    "                              'row': [0, 11, False],                # Row, right to left (seen from neutrons)\n",
    "                              'gch': [82, 117, True]}               # Grid channel, bottom=80 to top=119\n",
    "\n",
    "# Declare filter for multi-grid clusters\n",
    "mg_filter_no_edges_no_back_2 = {'wm': [1, 1, True],                   # Wire multiplicity\n",
    "                                'gm': [1, 5, True],                   # Grid multiplicity\n",
    "                                'wadc': [1200, np.inf, True],          # Wire charge\n",
    "                                'gadc': [1200, np.inf, True],          # Grid charge\n",
    "                                'tof': [0, np.inf, True],             # Time-of-flight (TDC channels)\n",
    "                                'time': [0, np.inf, True],            # Time (TDC channels)\n",
    "                                'bus': [0, 8, True],                  # Bus\n",
    "                                'flag': [0, 1, False],                # =1 if different buses within same coincidence\n",
    "                                'layer': [0, 15, True],              # Layer, front=0 to back=19\n",
    "                                'row': [0, 11, False],                # Row, right to left (seen from neutrons)\n",
    "                                'gch': [82, 117, True]}               # Grid channel, bottom=80 to top=119\n",
    "\n",
    "# Declare filter for multi-grid clusters\n",
    "mg_filter_no_edges_no_back_no_middle = {'wm': [1, 1, True],                   # Wire multiplicity\n",
    "                                        'gm': [1, 5, True],                   # Grid multiplicity\n",
    "                                        'wadc': [600, np.inf, True],          # Wire charge\n",
    "                                        'gadc': [600, np.inf, True],          # Grid charge\n",
    "                                        'tof': [0, np.inf, True],             # Time-of-flight (TDC channels)\n",
    "                                        'time': [0, np.inf, True],            # Time (TDC channels)\n",
    "                                        'bus': [0, 8, True],                  # Bus\n",
    "                                        'flag': [0, 1, False],                # =1 if different buses within same coincidence\n",
    "                                        'layer': [0, 15, True],              # Layer, front=0 to back=19\n",
    "                                        'row': [0, 11, False],                # Row, right to left (seen from neutrons)\n",
    "                                        'gch': [82, 95, True]}               # Grid channel, bottom=80 to top=119\n",
    "\n",
    "# Declare filter for the cncs detector\n",
    "mg_cncs_filter = {'w_adc_m1': [1500, np.inf, True],\n",
    "                  'w_adc_m2': [0, np.inf, False],\n",
    "                  'w_ch_adc_m1': [200, np.inf, True],\n",
    "                  'w_ch_adc_m2': [0, np.inf, False],\n",
    "                  'g_adc_m1': [1200, np.inf, True],\n",
    "                  'g_adc_m2': [0, np.inf, False],\n",
    "                  'g_ch_adc_m1': [200, np.inf, True],\n",
    "                  'g_ch_adc_m2': [0, np.inf, False]\n",
    "                  }\n",
    "\n",
    "mg_cncs_filter_2 = {'w_adc_m1': [1000, np.inf, True],\n",
    "                  'w_adc_m2': [0, np.inf, False],\n",
    "                  'w_ch_adc_m1': [200, np.inf, True],\n",
    "                  'w_ch_adc_m2': [0, np.inf, False],\n",
    "                  'g_adc_m1': [1000, np.inf, True],\n",
    "                  'g_adc_m2': [0, np.inf, False],\n",
    "                  'g_ch_adc_m1': [200, np.inf, True],\n",
    "                  'g_ch_adc_m2': [0, np.inf, False]\n",
    "                  }\n",
    "\n",
    "mg_cncs_no_filter = {'w_adc_m1': [300, np.inf, False],\n",
    "                  'w_adc_m2': [300, np.inf, False],\n",
    "                  'w_ch_adc_m1': [300, np.inf, False],\n",
    "                  'w_ch_adc_m2': [300, np.inf, False],\n",
    "                  'g_adc_m1': [300, np.inf, False],\n",
    "                  'g_adc_m2': [300, np.inf, False],\n",
    "                  'g_ch_adc_m1': [300, np.inf, False],\n",
    "                  'g_ch_adc_m2': [300, np.inf, False],\n",
    "                  'tof': [0, np.inf, False],\n",
    "                  'w_ch_m1': [0, np.inf, False],\n",
    "                  'g_ch_m1': [0, np.inf, False],\n",
    "                  'g_ch_m2': [0, np.inf, False]}"
   ]
  },
  {
   "cell_type": "markdown",
   "metadata": {},
   "source": [
    "## 2.5 Plotting<a class=\"anchor\" id=\"FILTER\"></a>"
   ]
  },
  {
   "cell_type": "code",
   "execution_count": null,
   "metadata": {},
   "outputs": [],
   "source": [
    "def plot_delimiters(run, clusters):\n",
    "    # Import delimiters\n",
    "    delimiters_dict = cncs_hf.import_delimiter_table()\n",
    "    \n",
    "    # Iterate through all attributes\n",
    "    events = ['wires', 'wires', 'grids', 'grids']\n",
    "    attributes = ['w_ch_adc_m1', 'w_ch_adc_m2', 'g_ch_adc_m1', 'g_ch_adc_m2']\n",
    "    intervals = [16, 16, 96, 96]\n",
    "    plot_ranges = [[0, 4000], [0, 4000], [0, 4000], [0, 4000]]\n",
    "    for i, (event, attribute, interval, plot_range) in enumerate(zip(events, attributes, intervals, plot_ranges)):\n",
    "        delimiters = delimiters_dict[event]\n",
    "        fig = plt.figure()\n",
    "        fig.set_figwidth(12)\n",
    "        fig.set_figheight(5)\n",
    "        plt.grid(True, which='major', zorder=0)\n",
    "        plt.grid(True, which='minor', linestyle='--', zorder=0)\n",
    "        plt.hist(clusters[attribute], histtype='step', color='black',\n",
    "                 range=plot_range, bins=1500, zorder=10)\n",
    "        plt.xlabel('Charge (adc channels)')\n",
    "        plt.ylabel('Counts') \n",
    "        plt.title(attribute)\n",
    "        plt.yscale('log')\n",
    "        for delimiter in delimiters:\n",
    "            plt.axvline(delimiter[0], color='red', zorder=15)\n",
    "            plt.axvline(delimiter[1], color='red', zorder=15)\n",
    "            small_delimiters = np.linspace(delimiter[0], delimiter[1], interval+1)\n",
    "            previous_delimiter = small_delimiters[0]\n",
    "            for delimiter in small_delimiters[1:]:\n",
    "                plt.axvline(previous_delimiter, color='blue', zorder=5)\n",
    "                plt.axvline(delimiter, color='blue', zorder=5)\n",
    "                previous_delimiter = delimiter\n",
    "                \n",
    "        plt.tight_layout()\n",
    "        fig.show()\n",
    "    \n",
    "        # Save data\n",
    "        output_path = '../output/%s_delimiters_plot_%d.png' % (run, i)\n",
    "        fig.savefig(output_path, bbox_inches='tight')\n",
    "    \n",
    "def plot_2d_hist(run, clusters):\n",
    "    # Extract coincidences\n",
    "    indices_gm_1 = clusters['g_adc_m1'] > clusters['g_adc_m2']\n",
    "    indices_gm_2 = clusters['g_adc_m1'] <= clusters['g_adc_m2']\n",
    "    channels_g1 = clusters[indices_gm_1]['g_ch_m1']\n",
    "    channels_w1 = clusters[indices_gm_1]['w_ch_m1']\n",
    "    channels_g2 = clusters[indices_gm_2]['g_ch_m2']\n",
    "    channels_w2 = clusters[indices_gm_2]['w_ch_m1']\n",
    "    grids = channels_g1.append(channels_g2)\n",
    "    wires = channels_w1.append(channels_w2)\n",
    "    \n",
    "    # Plot full\n",
    "    fig = plt.figure()\n",
    "    plt.hist2d(wires, grids,\n",
    "               bins=[128, 96],\n",
    "               range=[[-0.5, 127.5], [-0.5, 95.5]],\n",
    "               norm=LogNorm(), cmap='jet')\n",
    "    plt.xlabel('Wire (Channel number)')\n",
    "    plt.ylabel('Grid (Channel number)')\n",
    "    plt.title('Coincidences')\n",
    "    cbar = plt.colorbar()\n",
    "    cbar.set_label('Counts')\n",
    "    fig.show()\n",
    "    \n",
    "    # Plot individual module\n",
    "    fig = plt.figure()\n",
    "    fig.set_figwidth(10)\n",
    "    fig.set_figheight(5)\n",
    "    plt.subplot(1, 2, 1)\n",
    "    plt.hist2d(wires, grids,\n",
    "               bins=[64, 48],\n",
    "               range=[[-0.5, 63.5], [47.5, 95.5]],\n",
    "               norm=LogNorm(), cmap='jet')\n",
    "    plt.xlabel('Wire (Channel number)')\n",
    "    plt.ylabel('Grid (Channel number)')\n",
    "    plt.title('Module 1')\n",
    "    cbar = plt.colorbar()\n",
    "    cbar.set_label('Counts')\n",
    "    plt.subplot(1, 2, 2)\n",
    "    plt.hist2d(wires, grids,\n",
    "           bins=[64, 48],\n",
    "           range=[[63.5, 127.5], [-0.5, 47.5]],\n",
    "           norm=LogNorm(), cmap='jet')\n",
    "    plt.xlabel('Wire (Channel number)')\n",
    "    plt.ylabel('Grid (Channel number)')\n",
    "    plt.title('Module 2')\n",
    "    cbar = plt.colorbar()\n",
    "    cbar.set_label('Counts')\n",
    "    fig.show()"
   ]
  },
  {
   "cell_type": "code",
   "execution_count": null,
   "metadata": {},
   "outputs": [],
   "source": [
    "def plot_cncs(run, clusters):\n",
    "    # Plot raw data\n",
    "    attributes = ['w_adc_m1', 'w_adc_m2', 'w_ch_adc_m1', 'w_ch_adc_m2',\n",
    "                  'g_adc_m1', 'g_adc_m2', 'g_ch_adc_m1', 'g_ch_adc_m2']\n",
    "    fig = plt.figure()\n",
    "    fig.set_figwidth(10)\n",
    "    fig.set_figheight(20)\n",
    "    for i, attribute in enumerate(attributes):\n",
    "        plt.subplot(4, 2, i+1)\n",
    "        plt.hist(clusters[attribute], histtype='step', color='black',\n",
    "                 range=[0, 4095], bins=500)\n",
    "        plt.xlabel('Charge (adc channels)')\n",
    "        plt.ylabel('Counts') \n",
    "        plt.title(attribute)\n",
    "        plt.yscale('log')\n",
    "    plt.tight_layout()\n",
    "    fig.show()\n",
    "    \n",
    "    # Save data\n",
    "    output_path = '../output/%s_raw_plot.png' % run\n",
    "    fig.savefig(output_path, bbox_inches='tight')\n",
    "    \n",
    "    # Plot tof\n",
    "    fig = plt.figure()\n",
    "    fig.set_figwidth(10)\n",
    "    fig.set_figheight(5)\n",
    "    plt.hist(clusters['tof'], histtype='step', color='black', bins=1000)\n",
    "    plt.xlabel('tof (adc channels)')\n",
    "    plt.ylabel('Counts') \n",
    "    plt.yscale('log')\n",
    "    plt.tight_layout()\n",
    "    fig.show()\n",
    "    \n",
    "    # Save data\n",
    "    output_path = '../output/%s_tof_plot.png' % run\n",
    "    fig.savefig(output_path, bbox_inches='tight')\n",
    "    \n",
    "    # Plot 'analog' channels and delimiters\n",
    "    plot_delimiters(run, clusters)"
   ]
  },
  {
   "cell_type": "code",
   "execution_count": null,
   "metadata": {},
   "outputs": [],
   "source": [
    "def plot_basic_cncs(run, path, clusters_unfiltered, df_filter, area, extra=''):\n",
    "    # Set plot label thicknesses\n",
    "    mg_hf.set_thick_labels(15)\n",
    "    \n",
    "    # Filter clusters\n",
    "    clusters = mg_read.filter_data(clusters_unfiltered, df_filter)\n",
    "    \n",
    "    # Declare parameters\n",
    "    duration = cncs_hf.get_measurement_time(path)\n",
    "    phs_attributes = ['w_adc_m1', 'w_adc_m2','g_adc_m1', 'g_adc_m2']\n",
    "    phs_titles = ['Wires (multiplicity 1)', 'Wires (multiplicity 2)',\n",
    "                  'Grids (multiplicity 1)', 'Grids (multiplicity 2)']\n",
    "    \n",
    "    # PHS \n",
    "    fig = plt.figure()\n",
    "    fig.set_figwidth(12)\n",
    "    fig.set_figheight(10)\n",
    "    for i, (attribute, title) in enumerate(zip(phs_attributes, phs_titles)):\n",
    "        plt.subplot(2, 2, i+1)\n",
    "        plt.hist(clusters[attribute], histtype='step', color='black',\n",
    "                 range=[0, 4095], bins=100, zorder=5, label='Filtered')\n",
    "        plt.hist(clusters_unfiltered[attribute], histtype='step', color='red',\n",
    "                 range=[0, 4095], bins=100, zorder=5, label='Unfiltered')\n",
    "        plt.xlabel('Charge (adc channels)')\n",
    "        plt.ylabel('Counts') \n",
    "        plt.title(title)\n",
    "        plt.yscale('log')\n",
    "        plt.grid(True, which='major', zorder=0)\n",
    "        plt.grid(True, which='minor', linestyle='--', zorder=0)\n",
    "        plt.legend()\n",
    "    plt.tight_layout()\n",
    "    fig.show()\n",
    "    output_path = '../output/%s_phs_plot%s.png' % (run, extra)\n",
    "    fig.savefig(output_path, bbox_inches='tight')\n",
    "    \n",
    "    # Coincidences\n",
    "    #indices_gm_1 = clusters['g_adc_m1'] > clusters['g_adc_m2']\n",
    "    #indices_gm_2 = clusters['g_adc_m1'] <= clusters['g_adc_m2']\n",
    "    #channels_g1 = clusters[indices_gm_1]['g_ch_m1']\n",
    "    #channels_w1 = clusters[indices_gm_1]['w_ch_m1']\n",
    "    #channels_g2 = clusters[indices_gm_2]['g_ch_m2']\n",
    "    #channels_w2 = clusters[indices_gm_2]['w_ch_m1']\n",
    "    #grids = channels_g1.append(channels_g2)\n",
    "    #wires = channels_w1.append(channels_w2)\n",
    "    grids = clusters['g_ch_m1']\n",
    "    wires = clusters['w_ch_m1']\n",
    "    number_events = len(grids)\n",
    "    vmin = 1\n",
    "    vmax = (number_events // 450 + 5)\n",
    "    \n",
    "    fig = plt.figure()\n",
    "    plt.suptitle('Coincidences')\n",
    "    fig.set_figwidth(12)\n",
    "    fig.set_figheight(5)\n",
    "    plt.subplot(1, 2, 1)\n",
    "    plt.hist2d(wires, grids,\n",
    "               bins=[64, 48],\n",
    "               range=[[-0.5, 63.5], [-0.5, 47.5]],\n",
    "               vmin=vmin, vmax=vmax,\n",
    "               norm=LogNorm(),\n",
    "               cmap='jet')\n",
    "    plt.xlabel('Wire (Channel number)')\n",
    "    plt.ylabel('Grid (Channel number)')\n",
    "    plt.title('Module 1')\n",
    "    cbar = plt.colorbar()\n",
    "    cbar.set_label('Counts')\n",
    "    plt.subplot(1, 2, 2)\n",
    "    plt.hist2d(wires, grids,\n",
    "           bins=[64, 48],\n",
    "           range=[[63.5, 127.5], [47.5, 95.5]],\n",
    "           norm=LogNorm(),\n",
    "           vmin=vmin, vmax=vmax,\n",
    "           cmap='jet')\n",
    "    plt.xlabel('Wire (Channel number)')\n",
    "    plt.ylabel('Grid (Channel number)')\n",
    "    plt.title('Module 2')\n",
    "    cbar = plt.colorbar()\n",
    "    cbar.set_label('Counts')\n",
    "    plt.tight_layout()\n",
    "    fig.show()\n",
    "    output_path = '../output/%s_coincidences_plot%s.png' % (run, extra)\n",
    "    fig.savefig(output_path, bbox_inches='tight')\n",
    "    \n",
    "    # Delimiters\n",
    "    plot_delimiters(run + extra, clusters)\n",
    "    \n",
    "    # Coincidences full\n",
    "    fig = plt.figure()\n",
    "    fig.set_figwidth(12)\n",
    "    fig.set_figheight(10)\n",
    "    plt.hist2d(wires, grids,\n",
    "               weights=np.ones(len(wires))*(1/duration),\n",
    "               bins=[128, 96],\n",
    "               range=[[-2, 127.5], [-2, 95.5]],\n",
    "               norm=LogNorm(), cmap='jet',\n",
    "               vmin=1e-5, vmax=5e-4\n",
    "               )\n",
    "    plt.xlabel('Wire (Channel number)')\n",
    "    plt.ylabel('Grid (Channel number)')\n",
    "    plt.title('Coincidences')\n",
    "    cbar = plt.colorbar()\n",
    "    cbar.set_label('Counts/s')\n",
    "    fig.show()\n",
    "    output_path = '../output/%s_coincidences_full_plot%s.png' % (run, extra)\n",
    "    fig.savefig(output_path, bbox_inches='tight')\n",
    "    \n",
    "    # Plot tof\n",
    "    fig = plt.figure()\n",
    "    fig.set_figwidth(10)\n",
    "    fig.set_figheight(5)\n",
    "    plt.hist(clusters['tof'], histtype='step', color='black', bins=500)\n",
    "    plt.xlabel('tof (adc channels)')\n",
    "    plt.ylabel('Counts') \n",
    "    plt.yscale('log')\n",
    "    plt.tight_layout()\n",
    "    plt.grid(True, which='major', zorder=0)\n",
    "    plt.grid(True, which='minor', linestyle='--', zorder=0)\n",
    "    fig.show()\n",
    "    output_path = '../output/%s_tof_plot%s.png' % (run, extra)\n",
    "    fig.savefig(output_path, bbox_inches='tight')\n",
    "    \n",
    "    # Print key values\n",
    "    print('Number of events: %.2f' % number_events)\n",
    "    print('Duration: %.2f hours' % (duration/(60*60)))\n",
    "    print('Area: %.2f m^2' % area)\n",
    "    print('Rate: %.2f Hz/m^2' % (number_events/(duration*area)))"
   ]
  },
  {
   "cell_type": "code",
   "execution_count": null,
   "metadata": {},
   "outputs": [],
   "source": [
    "def plot_basic(run, clusters_unfiltered, events, df_filter, bus_start, bus_stop, number_rows, area):\n",
    "    \"\"\"\n",
    "    Function to plot all basic plots, such as PHS, Coincidences and rate. Ordering of plotting is:\n",
    "    \n",
    "    PHS 2D - NOT FILTERED\n",
    "    MULTIPLICITY - NOT FILTERED\n",
    "    PHS 1D - FILTERED\n",
    "    COINCIDENCES 2D - FILTERED\n",
    "    PHS CORRELATION - FILTERED\n",
    "    RATE - FILTERED\n",
    "    TOF - FILTERED\n",
    "    \n",
    "    Note that all plots are filtered except the first two.\n",
    "    \n",
    "    Args:\n",
    "        run (str): File run\n",
    "        clusters_unfiltered (DataFrame): Unfiltered clusteres\n",
    "        events (DataFrame): Individual events\n",
    "        df_filter (dict): Dictionary specifying the filter which will be used on the clustered data\n",
    "        bus_start (int): First bus to plot\n",
    "        bus_stop (int): Last bus to plot\n",
    "        number_rows (int): Number of rows in plots (number of rows must be larger than number_buses/3)\n",
    "        area (float): Area in m^2 of the active detector surface\n",
    "\n",
    "    Yields:\n",
    "        Plots the basic analysis\n",
    "    \n",
    "    \"\"\"\n",
    "    mg_hf.set_thick_labels(12)\n",
    "    \n",
    "    # Filter clusters\n",
    "    clusters = mg_read.filter_data(clusters_unfiltered, df_filter)\n",
    "    \n",
    "    # Declare parameters\n",
    "    duration = (clusters_unfiltered.time.values[-1] - clusters_unfiltered.time.values[0]) * 62.5e-9\n",
    "    \n",
    "    # PHS - 2D\n",
    "    vmin = 1\n",
    "    vmax = events.shape[0] // 1000 + 100\n",
    "    fig = plt.figure()\n",
    "    fig.set_figwidth(14)\n",
    "    fig.set_figheight(4*number_rows)\n",
    "    for i, bus in enumerate(np.arange(bus_start, bus_stop+1, 1)):\n",
    "        plt.subplot(number_rows, 3, i+1)\n",
    "        events_bus = events[events.bus == bus]\n",
    "        if events_bus.shape[0] > 0:\n",
    "            mg_basic_plot.phs_2d_plot(events_bus, bus, vmin, vmax)\n",
    "    plt.tight_layout()\n",
    "    fig.show()\n",
    "    \n",
    "    # Save data\n",
    "    output_path = '../output/%s_phs_2d.png' % run\n",
    "    fig.savefig(output_path, bbox_inches='tight')\n",
    "    \n",
    "    # Multiplicity\n",
    "    vmin = None\n",
    "    vmax = None\n",
    "    fig = plt.figure()\n",
    "    fig.set_figwidth(14)\n",
    "    fig.set_figheight(4*number_rows)\n",
    "    for i, bus in enumerate(np.arange(bus_start, bus_stop+1, 1)):\n",
    "        plt.subplot(number_rows, 3, i+1)\n",
    "        clusters_bus = clusters[clusters.bus == bus]\n",
    "        if clusters_bus.shape[0] > 1:\n",
    "            mg_basic_plot.multiplicity_plot_perc(clusters_bus, bus, duration)\n",
    "    plt.tight_layout()\n",
    "    fig.show()\n",
    "    \n",
    "    # Save data\n",
    "    output_path = '../output/%s_multiplicity_2d.png' % run\n",
    "    fig.savefig(output_path, bbox_inches='tight')\n",
    "    \n",
    "    # PHS - 1D\n",
    "    vmin = None\n",
    "    vmax = None\n",
    "    bins_phs_1d = 300\n",
    "    fig = plt.figure()\n",
    "    fig.set_figwidth(14)\n",
    "    fig.set_figheight(4*number_rows)\n",
    "    for i, bus in enumerate(np.arange(bus_start, bus_stop+1, 1)):\n",
    "        plt.subplot(number_rows, 3, i+1)\n",
    "        clusters_bus = clusters[clusters.bus == bus]\n",
    "        clusters_uf_bus = clusters_unfiltered[clusters_unfiltered.bus == bus]\n",
    "        mg_basic_plot.phs_clusters_1d_plot(clusters_bus, clusters_uf_bus, bins_phs_1d, bus, duration)\n",
    "        plt.yscale('log')\n",
    "    plt.tight_layout()\n",
    "    fig.show()\n",
    "    \n",
    "    # Save data\n",
    "    output_path = '../output/%s_phs_1d.png' % run\n",
    "    fig.savefig(output_path, bbox_inches='tight')\n",
    "    \n",
    "    # Coincidences - 2D\n",
    "    fig = plt.figure()\n",
    "    fig.set_figwidth(14)\n",
    "    fig.set_figheight(4*number_rows)\n",
    "    if clusters.shape[0] != 0:\n",
    "        vmin = (1 * 1/duration)\n",
    "        vmax = (clusters.shape[0] // 450 + 5) * 1/duration\n",
    "    else:\n",
    "        duration = 1\n",
    "        vmin = 1\n",
    "        vmax = 1\n",
    "    for i, bus in enumerate(np.arange(bus_start, bus_stop+1, 1)):\n",
    "        plt.subplot(number_rows, 3, i+1)\n",
    "        clusters_bus = clusters[clusters.bus == bus]\n",
    "        # Calculate number of events and rate in a specific bus\n",
    "        number_events = clusters_bus.shape[0]\n",
    "        events_per_s = number_events/duration\n",
    "        events_per_s_m2 = events_per_s/area\n",
    "        title = ('Bus %d\\n(%d events, %.6f events/s/m$^2$)' % (bus, number_events, events_per_s_m2))\n",
    "        if number_events > 1:\n",
    "            mg_basic_plot.clusters_2d_plot(clusters_bus, title, vmin, vmax, duration)\n",
    "    plt.tight_layout()\n",
    "    fig.show()\n",
    "    \n",
    "    # Save data\n",
    "    output_path = '../output/%s_coincidences_2d.png' % run\n",
    "    fig.savefig(output_path, bbox_inches='tight')\n",
    "    \n",
    "    # Coincidences - PHS\n",
    "    fig = plt.figure()\n",
    "    fig.set_figwidth(14)\n",
    "    fig.set_figheight(4*number_rows)\n",
    "    if clusters.shape[0] != 0:\n",
    "        vmin = 1/duration\n",
    "        vmax = (clusters.shape[0] // 450 + 1000) / duration\n",
    "    else:\n",
    "        duration = 1\n",
    "        vmin = 1\n",
    "        vmax = 1\n",
    "    for i, bus in enumerate(np.arange(bus_start, bus_stop+1, 1)):\n",
    "        plt.subplot(number_rows, 3, i+1)\n",
    "        clusters_bus = clusters[clusters.bus == bus]\n",
    "        if clusters_bus.shape[0] > 1:\n",
    "            mg_basic_plot.clusters_phs_plot(clusters_bus, bus, duration, vmin, vmax)\n",
    "    plt.tight_layout()\n",
    "    fig.show()\n",
    "    \n",
    "    # Save data\n",
    "    output_path = '../output/%s_coincidences_phs.png' % run\n",
    "    fig.savefig(output_path, bbox_inches='tight')\n",
    "    \n",
    "    # Rate \n",
    "    number_bins = 50\n",
    "    fig = plt.figure()\n",
    "    fig.set_figwidth(14)\n",
    "    fig.set_figheight(4*number_rows)\n",
    "    for i, bus in enumerate(np.arange(bus_start, bus_stop+1, 1)):\n",
    "        plt.subplot(number_rows, 3, i+1)\n",
    "        clusters_bus = clusters[clusters.bus == bus]\n",
    "        mg_basic_plot.rate_plot(clusters_bus, number_bins, bus, area)\n",
    "    plt.tight_layout()\n",
    "    fig.show()\n",
    "    \n",
    "    # Save data\n",
    "    output_path = '../output/%s_rate.png' % run\n",
    "    fig.savefig(output_path, bbox_inches='tight')\n",
    "    \n",
    "    \n",
    "    # TIME-OF-FLIGHT\n",
    "    number_bins = 300\n",
    "    fig = plt.figure()\n",
    "    fig.set_figwidth(14)\n",
    "    fig.set_figheight(4*number_rows)\n",
    "    for i, bus in enumerate(np.arange(bus_start, bus_stop+1, 1)):\n",
    "        plt.subplot(number_rows, 3, i+1)\n",
    "        clusters_bus = clusters[clusters.bus == bus]\n",
    "        mg_basic_plot.tof_histogram(clusters_bus, number_bins, bus)\n",
    "    plt.tight_layout()\n",
    "    fig.show()\n",
    "    \n",
    "    # Save data\n",
    "    output_path = '../output/%s_tof.png' % run\n",
    "    fig.savefig(output_path, bbox_inches='tight')"
   ]
  },
  {
   "cell_type": "markdown",
   "metadata": {},
   "source": [
    "# 3. Utgård - previous measurements"
   ]
  },
  {
   "cell_type": "markdown",
   "metadata": {},
   "source": [
    "## previous_run_1 (SEQ.I, unshielded, horizontal)"
   ]
  },
  {
   "cell_type": "code",
   "execution_count": null,
   "metadata": {
    "scrolled": false
   },
   "outputs": [],
   "source": [
    "area = 0.0225*0.0225*4*36\n",
    "plot_basic('previous_run_1', clu_previous_run_1, ev_previous_run_1, mg_filter_no_edges_no_back, 0, 2, 1, area)"
   ]
  },
  {
   "cell_type": "markdown",
   "metadata": {},
   "source": [
    "## previous_run_2 (SEQ.I, inside cave, horizontal)"
   ]
  },
  {
   "cell_type": "code",
   "execution_count": null,
   "metadata": {
    "scrolled": false
   },
   "outputs": [],
   "source": [
    "area = 0.0225*0.0225*4*36\n",
    "plot_basic('previous_run_2', clu_previous_run_2, ev_previous_run_2, mg_filter_no_edges_no_back, 0, 2, 1, area)"
   ]
  },
  {
   "cell_type": "markdown",
   "metadata": {},
   "source": [
    "## previous_run_3 (SEQ.I, unshielded, vertical)"
   ]
  },
  {
   "cell_type": "code",
   "execution_count": null,
   "metadata": {
    "scrolled": false
   },
   "outputs": [],
   "source": [
    "area = 0.0225*0.0225*4*36\n",
    "plot_basic('summer_run_14', clu_summer_run_14, ev_summer_run_14, mg_filter_no_edges_no_back, 0, 2, 1, area)"
   ]
  },
  {
   "cell_type": "markdown",
   "metadata": {},
   "source": [
    "## previous_run_4 (SEQ.II, unshielded, horizontal, first run)"
   ]
  },
  {
   "cell_type": "code",
   "execution_count": null,
   "metadata": {
    "scrolled": false
   },
   "outputs": [],
   "source": [
    "area = 0.0225*0.0225*4*36\n",
    "plot_basic('previous_run_4', clu_previous_run_4, ev_previous_run_4, mg_filter_no_edges_no_back, 0, 5, 2, area)"
   ]
  },
  {
   "cell_type": "markdown",
   "metadata": {},
   "source": [
    "## previous_run_5 (SEQ.I, unshielded, horizontal)"
   ]
  },
  {
   "cell_type": "code",
   "execution_count": null,
   "metadata": {
    "scrolled": false
   },
   "outputs": [],
   "source": [
    "area = 0.0225*0.0225*4*36\n",
    "plot_basic('previous_run_5', clu_previous_run_5, ev_previous_run_5, mg_filter_no_edges_no_back, 0, 5, 2, area)"
   ]
  },
  {
   "cell_type": "markdown",
   "metadata": {},
   "source": [
    "## previous_run_6 (SEQ.I, mirrobor shielding, horizontal)"
   ]
  },
  {
   "cell_type": "code",
   "execution_count": null,
   "metadata": {
    "scrolled": false
   },
   "outputs": [],
   "source": [
    "area = 0.0225*0.0225*4*36\n",
    "plot_basic('previous_run_6', clu_previous_run_6, ev_previous_run_6, mg_filter_no_edges_no_back, 0, 5, 2, area)"
   ]
  },
  {
   "cell_type": "markdown",
   "metadata": {},
   "source": [
    "## previous_run_7 (SEQ.II, mirrorbor+polyethylene, horizontal)"
   ]
  },
  {
   "cell_type": "code",
   "execution_count": null,
   "metadata": {
    "scrolled": true
   },
   "outputs": [],
   "source": [
    "area = 0.0225*0.0225*4*36\n",
    "plot_basic('previous_run_7', clu_previous_run_7, ev_previous_run_7, mg_filter_no_edges_no_back, 0, 5, 2, area)"
   ]
  },
  {
   "cell_type": "markdown",
   "metadata": {},
   "source": [
    "## previous_run_8 (SEQ.I, new cave, horizontal)"
   ]
  },
  {
   "cell_type": "code",
   "execution_count": null,
   "metadata": {
    "scrolled": false
   },
   "outputs": [],
   "source": [
    "area = 0.0225*0.0225*4*36\n",
    "plot_basic('previous_run_8', clu_previous_run_8, ev_previous_run_8, mg_filter_no_edges_no_back, 0, 5, 2, area)"
   ]
  },
  {
   "cell_type": "markdown",
   "metadata": {},
   "source": [
    "# 4. Utgård - preparations measurements"
   ]
  },
  {
   "cell_type": "markdown",
   "metadata": {},
   "source": [
    "## utgard_run_1 (SEQ.I and SEQ.II, shielded with Mirrobor, horizontal)"
   ]
  },
  {
   "cell_type": "code",
   "execution_count": null,
   "metadata": {},
   "outputs": [],
   "source": [
    "%matplotlib notebook"
   ]
  },
  {
   "cell_type": "code",
   "execution_count": null,
   "metadata": {
    "scrolled": false
   },
   "outputs": [],
   "source": [
    "area = 0.0225*0.0225*4*40\n",
    "plot_basic('utgard_run_1', clu_utgard_run_1, ev_utgard_run_1, mg_basic_filter, 0, 5, 2, area)"
   ]
  },
  {
   "cell_type": "markdown",
   "metadata": {},
   "source": [
    "## utgard_run_2 (SEQ.I and SEQ.II, shielded with Mirrobor, horizontal)"
   ]
  },
  {
   "cell_type": "code",
   "execution_count": null,
   "metadata": {
    "scrolled": false
   },
   "outputs": [],
   "source": [
    "area = 0.0225*0.0225*4*40\n",
    "plot_basic('utgard_run_2', clu_utgard_run_2, ev_utgard_run_2, mg_basic_filter, 0, 5, 2, area)"
   ]
  },
  {
   "cell_type": "markdown",
   "metadata": {},
   "source": [
    "## utgard_run_3 (SEQ.I and SEQ.II, unshielded, horizontal)"
   ]
  },
  {
   "cell_type": "code",
   "execution_count": null,
   "metadata": {
    "scrolled": false
   },
   "outputs": [],
   "source": [
    "area = 0.0225*0.0225*4*40\n",
    "plot_basic('utgard_run_3', clu_utgard_run_3, ev_utgard_run_3, mg_basic_filter, 0, 5, 2, area)"
   ]
  },
  {
   "cell_type": "markdown",
   "metadata": {},
   "source": [
    "## utgard_run_4 (SEQ.I and SEQ.II, shielded with opening in middle, horizontal)"
   ]
  },
  {
   "cell_type": "code",
   "execution_count": null,
   "metadata": {
    "scrolled": false
   },
   "outputs": [],
   "source": [
    "area = 0.0225*0.0225*4*40\n",
    "plot_basic('utgard_run_4', clu_utgard_run_4, ev_utgard_run_4, mg_basic_filter, 0, 5, 2, area)"
   ]
  },
  {
   "cell_type": "markdown",
   "metadata": {},
   "source": [
    "## utgard_run_5 (SEQ.I and SEQ.II, shielded with opening at top, horizontal)"
   ]
  },
  {
   "cell_type": "code",
   "execution_count": null,
   "metadata": {
    "scrolled": false
   },
   "outputs": [],
   "source": [
    "area = 0.0225*0.0225*4*40\n",
    "plot_basic('utgard_run_5', clu_utgard_run_5, ev_utgard_run_5, mg_basic_filter, 0, 5, 2, area)"
   ]
  },
  {
   "cell_type": "markdown",
   "metadata": {},
   "source": [
    "## utgard_run_6"
   ]
  },
  {
   "cell_type": "code",
   "execution_count": null,
   "metadata": {
    "scrolled": false
   },
   "outputs": [],
   "source": [
    "area = 0.0225*0.0225*4*40\n",
    "plot_basic('utgard_run_6', clu_utgard_run_6, ev_utgard_run_6, mg_basic_filter, 0, 5, 2, area)"
   ]
  },
  {
   "cell_type": "markdown",
   "metadata": {},
   "source": [
    "## utgard_run_7"
   ]
  },
  {
   "cell_type": "code",
   "execution_count": null,
   "metadata": {
    "scrolled": false
   },
   "outputs": [],
   "source": [
    "area = 0.0225*0.0225*4*40\n",
    "plot_basic('utgard_run_7', clu_utgard_run_7, ev_utgard_run_7, mg_basic_filter, 0, 5, 2, area)"
   ]
  },
  {
   "cell_type": "markdown",
   "metadata": {},
   "source": [
    "## utgard_run_8"
   ]
  },
  {
   "cell_type": "code",
   "execution_count": null,
   "metadata": {
    "scrolled": false
   },
   "outputs": [],
   "source": [
    "area = 0.0225*0.0225*4*40\n",
    "plot_basic('utgard_run_8', clu_utgard_run_8, ev_utgard_run_8, mg_basic_filter, 0, 5, 2, area)"
   ]
  },
  {
   "cell_type": "markdown",
   "metadata": {},
   "source": [
    "## utgard_run_9 (unshielded_LVgournding_to_be_changed)"
   ]
  },
  {
   "cell_type": "code",
   "execution_count": null,
   "metadata": {
    "scrolled": false
   },
   "outputs": [],
   "source": [
    "area = 0.0225*0.0225*4*40\n",
    "plot_basic('utgard_run_9', clu_utgard_run_9, ev_utgard_run_9, mg_basic_filter, 0, 5, 2, area)"
   ]
  },
  {
   "cell_type": "markdown",
   "metadata": {},
   "source": [
    "## utgard_run_10 (unshielded_RWLVGndC_no_t0)"
   ]
  },
  {
   "cell_type": "code",
   "execution_count": null,
   "metadata": {
    "scrolled": false
   },
   "outputs": [],
   "source": [
    "area = 0.0225*0.0225*4*40\n",
    "plot_basic('utgard_run_10', clu_utgard_run_10, ev_utgard_run_10, mg_basic_filter, 0, 5, 2, area)"
   ]
  },
  {
   "cell_type": "markdown",
   "metadata": {},
   "source": [
    "## utgard_run_11: (SEQ.I inside cave)"
   ]
  },
  {
   "cell_type": "code",
   "execution_count": null,
   "metadata": {
    "scrolled": true
   },
   "outputs": [],
   "source": [
    "area = 0.0225*0.0225*4*40\n",
    "plot_basic('utgard_run_11', clu_utgard_run_11, ev_utgard_run_11, mg_basic_filter, 0, 5, 2, area)"
   ]
  },
  {
   "cell_type": "markdown",
   "metadata": {},
   "source": [
    "## utgard_run_12: (SEQ.I inside cave, SEQ.II vertical shielded with mirrobor)"
   ]
  },
  {
   "cell_type": "code",
   "execution_count": null,
   "metadata": {
    "scrolled": false
   },
   "outputs": [],
   "source": [
    "area = 0.0225*0.0225*4*40\n",
    "plot_basic('utgard_run_12', clu_utgard_run_12, ev_utgard_run_12, mg_basic_filter, 0, 5, 2, area)"
   ]
  },
  {
   "cell_type": "markdown",
   "metadata": {},
   "source": [
    "## utgard_run_13: (SEQ.I inside cave, SEQ.II vertical unshielded)"
   ]
  },
  {
   "cell_type": "code",
   "execution_count": null,
   "metadata": {
    "scrolled": false
   },
   "outputs": [],
   "source": [
    "area = 0.0225*0.0225*4*40\n",
    "plot_basic('utgard_run_13', clu_utgard_run_13, ev_utgard_run_13, mg_basic_filter, 0, 5, 2, area)"
   ]
  },
  {
   "cell_type": "markdown",
   "metadata": {},
   "source": [
    "## utgard_run_14: (GAS STOPPED: SEQ.I inside cave, SEQ.II vertical unshielded)"
   ]
  },
  {
   "cell_type": "code",
   "execution_count": null,
   "metadata": {
    "scrolled": false
   },
   "outputs": [],
   "source": [
    "area = 0.0225*0.0225*4*40\n",
    "plot_basic('utgard_run_14', clu_utgard_run_14, ev_utgard_run_14, mg_basic_filter, 0, 5, 2, area)"
   ]
  },
  {
   "cell_type": "markdown",
   "metadata": {},
   "source": [
    "## utgard_run_15: (GAS RESUMED: SEQ.I inside cave, SEQ.II vertical unshielded)"
   ]
  },
  {
   "cell_type": "code",
   "execution_count": null,
   "metadata": {
    "scrolled": false
   },
   "outputs": [],
   "source": [
    "area = 0.0225*0.0225*4*40\n",
    "plot_basic('utgard_run_15', clu_utgard_run_15, ev_utgard_run_15, mg_basic_filter, 0, 5, 2, area)"
   ]
  },
  {
   "cell_type": "markdown",
   "metadata": {},
   "source": [
    "## utgard_run_16: (SEQ.I inside cave: gas resumed, SEQ.II vertical unshielded: top open)"
   ]
  },
  {
   "cell_type": "code",
   "execution_count": null,
   "metadata": {
    "scrolled": true
   },
   "outputs": [],
   "source": [
    "area = 0.0225*0.0225*4*40\n",
    "plot_basic('utgard_run_16', clu_utgard_run_16, ev_utgard_run_16, mg_basic_filter, 0, 5, 2, area)"
   ]
  },
  {
   "cell_type": "markdown",
   "metadata": {},
   "source": [
    "## utgard_run_17: (SEQ.I inside cave, SEQ.II vertical unshielded) Gas bottle ran out over weekend"
   ]
  },
  {
   "cell_type": "code",
   "execution_count": null,
   "metadata": {
    "scrolled": true
   },
   "outputs": [],
   "source": [
    "area = 0.0225*0.0225*4*40\n",
    "plot_basic('utgard_run_17', clu_utgard_run_17, ev_utgard_run_17, mg_basic_filter, 0, 5, 2, area)"
   ]
  },
  {
   "cell_type": "markdown",
   "metadata": {},
   "source": [
    "## utgard_run_18: (SEQ.I inside cave, SEQ.II vertical unshielded) Gas bottle ran out over weekend, continued run"
   ]
  },
  {
   "cell_type": "code",
   "execution_count": null,
   "metadata": {
    "scrolled": false
   },
   "outputs": [],
   "source": [
    "area = 0.0225*0.0225*4*40\n",
    "plot_basic('utgard_run_18', clu_utgard_run_18, ev_utgard_run_18, mg_basic_filter, 0, 5, 2, area)"
   ]
  },
  {
   "cell_type": "markdown",
   "metadata": {},
   "source": [
    "## utgard_run_19: (mvmelst_212_200401_051232_SEQ1CaveShielded_SEQ2UnshieldedHorizontal_GasInAtTheStartOfTheRun_Continued_NoRHWGnd)"
   ]
  },
  {
   "cell_type": "code",
   "execution_count": null,
   "metadata": {
    "scrolled": true
   },
   "outputs": [],
   "source": [
    "area = 0.0225*0.0225*4*40\n",
    "plot_basic('utgard_run_19', clu_utgard_run_19, ev_utgard_run_19, mg_basic_filter, 0, 5, 2, area)"
   ]
  },
  {
   "cell_type": "markdown",
   "metadata": {},
   "source": [
    "## utgard_run_20: (mvmelst_213_200408_044106_SEQ1CaveShielded_SEQ2ShieldedHorizontal_FloatingGnd_NoRHWGnd.zip)"
   ]
  },
  {
   "cell_type": "code",
   "execution_count": null,
   "metadata": {
    "scrolled": false
   },
   "outputs": [],
   "source": [
    "area = 0.0225*0.0225*4*40\n",
    "plot_basic('utgard_run_20', clu_utgard_run_20, ev_utgard_run_20, mg_basic_filter, 0, 5, 2, area)"
   ]
  },
  {
   "cell_type": "markdown",
   "metadata": {},
   "source": [
    "# 5. Utgård - 2019.06 -> 2019.11"
   ]
  },
  {
   "cell_type": "markdown",
   "metadata": {},
   "source": [
    "## summer_run_1 (SEQ.I, in cave)"
   ]
  },
  {
   "cell_type": "code",
   "execution_count": null,
   "metadata": {
    "scrolled": true
   },
   "outputs": [],
   "source": [
    "area = 0.0225*0.0225*4*36\n",
    "plot_basic('summer_run_1', clu_summer_run_1, ev_summer_run_1, mg_filter_no_edges, 0, 2, 1, area)"
   ]
  },
  {
   "cell_type": "markdown",
   "metadata": {},
   "source": [
    "## summer_run_2 (SEQ.I, in cave)"
   ]
  },
  {
   "cell_type": "code",
   "execution_count": null,
   "metadata": {
    "scrolled": false
   },
   "outputs": [],
   "source": [
    "%matplotlib inline\n",
    "area = 0.0225*0.0225*4*36\n",
    "plot_basic('summer_run_2', clu_summer_run_2, ev_summer_run_2, mg_filter_no_edges_no_back, 0, 2, 1, area)"
   ]
  },
  {
   "cell_type": "markdown",
   "metadata": {},
   "source": [
    "## summer_run_3 (SEQ.I, in cave)"
   ]
  },
  {
   "cell_type": "code",
   "execution_count": null,
   "metadata": {
    "scrolled": false
   },
   "outputs": [],
   "source": [
    "%matplotlib inline\n",
    "area = 0.0225*0.0225*4*36\n",
    "plot_basic('summer_run_3', clu_summer_run_3, ev_summer_run_3, mg_filter_no_edges_no_back, 0, 2, 1, area)"
   ]
  },
  {
   "cell_type": "markdown",
   "metadata": {},
   "source": [
    "## summer_run_4 (SEQ.I, in cave)"
   ]
  },
  {
   "cell_type": "code",
   "execution_count": null,
   "metadata": {
    "scrolled": false
   },
   "outputs": [],
   "source": [
    "area = 0.0225*0.0225*4*36\n",
    "plot_basic('summer_run_4', clu_summer_run_4, ev_summer_run_4, mg_filter_no_edges_no_back, 0, 2, 1, area)"
   ]
  },
  {
   "cell_type": "markdown",
   "metadata": {},
   "source": [
    "## summer_run_5 (SEQ.I, no shielding)"
   ]
  },
  {
   "cell_type": "code",
   "execution_count": null,
   "metadata": {
    "scrolled": false
   },
   "outputs": [],
   "source": [
    "area = 0.0225*0.0225*4*14\n",
    "plot_basic('summer_run_5', clu_summer_run_5, ev_summer_run_5, mg_filter_no_edges_no_back_no_middle, 0, 2, 1, area)"
   ]
  },
  {
   "cell_type": "markdown",
   "metadata": {},
   "source": [
    "## summer_run_6 (SEQ.I, in cave)"
   ]
  },
  {
   "cell_type": "code",
   "execution_count": null,
   "metadata": {
    "scrolled": false
   },
   "outputs": [],
   "source": [
    "area = 0.0225*0.0225*4*36\n",
    "plot_basic('summer_run_6', clu_summer_run_6, ev_summer_run_6, mg_filter_no_edges_no_back, 0, 2, 1, area)"
   ]
  },
  {
   "cell_type": "markdown",
   "metadata": {},
   "source": [
    "## summer_run_7 (SEQ.I, in cave)"
   ]
  },
  {
   "cell_type": "code",
   "execution_count": null,
   "metadata": {
    "scrolled": false
   },
   "outputs": [],
   "source": [
    "area = 0.0225*0.0225*4*36\n",
    "plot_basic('summer_run_7', clu_summer_run_7, ev_summer_run_7, mg_filter_no_edges_no_back, 0, 2, 1, area)"
   ]
  },
  {
   "cell_type": "markdown",
   "metadata": {},
   "source": [
    "## summer_run_8 (SEQ.I, in cave)"
   ]
  },
  {
   "cell_type": "code",
   "execution_count": null,
   "metadata": {
    "scrolled": false
   },
   "outputs": [],
   "source": [
    "area = 0.0225*0.0225*4*36\n",
    "plot_basic('summer_run_8', clu_summer_run_8, ev_summer_run_8, mg_filter_no_edges_no_back, 0, 2, 1, area)"
   ]
  },
  {
   "cell_type": "markdown",
   "metadata": {},
   "source": [
    "## summer_run_9 (SEQ.I, no shielding)"
   ]
  },
  {
   "cell_type": "code",
   "execution_count": null,
   "metadata": {
    "scrolled": false
   },
   "outputs": [],
   "source": [
    "area = 0.0225*0.0225*4*36\n",
    "plot_basic('summer_run_9', clu_summer_run_9, ev_summer_run_9, mg_filter_no_edges_no_back, 0, 2, 1, area)"
   ]
  },
  {
   "cell_type": "markdown",
   "metadata": {},
   "source": [
    "## summer_run_10 (SEQ.I, no shielding)"
   ]
  },
  {
   "cell_type": "code",
   "execution_count": null,
   "metadata": {
    "scrolled": true
   },
   "outputs": [],
   "source": [
    "area = 0.0225*0.0225*4*36\n",
    "plot_basic('summer_run_10', clu_summer_run_10, ev_summer_run_10, mg_filter_no_edges_no_back, 0, 2, 1, area)"
   ]
  },
  {
   "cell_type": "markdown",
   "metadata": {},
   "source": [
    "## summer_run_11 (SEQ.I, inside cave)"
   ]
  },
  {
   "cell_type": "code",
   "execution_count": null,
   "metadata": {
    "scrolled": false
   },
   "outputs": [],
   "source": [
    "area = 0.0225*0.0225*4*36\n",
    "plot_basic('summer_run_11', clu_summer_run_11, ev_summer_run_11, mg_filter_no_edges_no_back, 0, 2, 1, area)"
   ]
  },
  {
   "cell_type": "markdown",
   "metadata": {},
   "source": [
    "## summer_run_12 (SEQ.I, inside cave)"
   ]
  },
  {
   "cell_type": "code",
   "execution_count": null,
   "metadata": {
    "scrolled": false
   },
   "outputs": [],
   "source": [
    "area = 0.0225*0.0225*4*36\n",
    "plot_basic('summer_run_12', clu_summer_run_12, ev_summer_run_12, mg_filter_no_edges_no_back, 0, 2, 1, area)"
   ]
  },
  {
   "cell_type": "markdown",
   "metadata": {},
   "source": [
    "## summer_run_13 (SEQ.I, inside cave)"
   ]
  },
  {
   "cell_type": "code",
   "execution_count": null,
   "metadata": {
    "scrolled": false
   },
   "outputs": [],
   "source": [
    "area = 0.0225*0.0225*4*36\n",
    "plot_basic('summer_run_13', clu_summer_run_13, ev_summer_run_13, mg_filter_no_edges_no_back, 0, 2, 1, area)"
   ]
  },
  {
   "cell_type": "markdown",
   "metadata": {},
   "source": [
    "## summer_run_14 (SEQ.I, no shielding, upright)"
   ]
  },
  {
   "cell_type": "code",
   "execution_count": null,
   "metadata": {
    "scrolled": false
   },
   "outputs": [],
   "source": [
    "area = 0.0225*0.0225*4*14\n",
    "plot_basic('summer_run_14', clu_summer_run_14, ev_summer_run_14, mg_filter_no_edges_no_back_no_middle, 0, 2, 1, area)"
   ]
  },
  {
   "cell_type": "code",
   "execution_count": null,
   "metadata": {
    "scrolled": false
   },
   "outputs": [],
   "source": [
    "area = 0.0225*0.0225*4*36\n",
    "plot_basic('summer_run_15', clu_summer_run_15, ev_summer_run_15, mg_filter_no_edges, 0, 8, 3, area)"
   ]
  },
  {
   "cell_type": "code",
   "execution_count": null,
   "metadata": {
    "scrolled": false
   },
   "outputs": [],
   "source": [
    "area = 0.0225*0.0225*4*36\n",
    "plot_basic('summer_run_16', clu_summer_run_16, ev_summer_run_16, mg_filter_no_edges, 0, 5, 2, area)"
   ]
  },
  {
   "cell_type": "code",
   "execution_count": null,
   "metadata": {
    "scrolled": true
   },
   "outputs": [],
   "source": [
    "area = 0.0225*0.0225*4*36\n",
    "plot_basic('summer_run_17', clu_summer_run_17, ev_summer_run_17, mg_filter_no_edges, 0, 5, 2, area)"
   ]
  },
  {
   "cell_type": "code",
   "execution_count": null,
   "metadata": {
    "scrolled": true
   },
   "outputs": [],
   "source": [
    "area = 0.0225*0.0225*4*36\n",
    "plot_basic('summer_run_18', clu_summer_run_18, ev_summer_run_18, mg_filter_no_edges_no_back, 0, 5, 2, area)"
   ]
  },
  {
   "cell_type": "code",
   "execution_count": null,
   "metadata": {
    "scrolled": true
   },
   "outputs": [],
   "source": [
    "area = 0.0225*0.0225*4*36\n",
    "plot_basic('summer_run_19', clu_summer_run_19, ev_summer_run_19, mg_filter_no_edges_no_back, 0, 5, 2, area)"
   ]
  },
  {
   "cell_type": "code",
   "execution_count": null,
   "metadata": {
    "scrolled": false
   },
   "outputs": [],
   "source": [
    "area = 0.0225*0.0225*4*36\n",
    "plot_basic('summer_run_20', clu_summer_run_20, ev_summer_run_20, mg_filter_no_edges_no_back, 3, 5, 1, area)"
   ]
  },
  {
   "cell_type": "code",
   "execution_count": null,
   "metadata": {
    "scrolled": false
   },
   "outputs": [],
   "source": [
    "area = 0.0225*0.0225*4*36\n",
    "plot_basic('summer_run_21', clu_summer_run_21, ev_summer_run_21, mg_filter_no_edges_no_back, 0, 2, 1, area)"
   ]
  },
  {
   "cell_type": "markdown",
   "metadata": {},
   "source": [
    "# 5. MG.CNCS measurements"
   ]
  },
  {
   "cell_type": "markdown",
   "metadata": {},
   "source": [
    "## cncs_run_1: old data set for testing of code"
   ]
  },
  {
   "cell_type": "code",
   "execution_count": null,
   "metadata": {
    "scrolled": false
   },
   "outputs": [],
   "source": [
    "# Import data and declare parameters\n",
    "run = 'cncs_run_1'\n",
    "path = CNCS_PATHS['cncs_run_1']\n",
    "print(path)\n",
    "clusters_unfiltered = cncs_read.extract_clusters(CNCS_PATHS['cncs_run_1'])\n",
    "df_filter = mg_cncs_no_filter\n",
    "area = 0.0225 * 0.0225 * 4 * 48 * 2\n",
    "\n",
    "# Plot data\n",
    "#plot_basic_cncs(run, path, clusters_unfiltered, df_filter, area)\n",
    "plot_cncs(run, clusters_unfiltered)"
   ]
  },
  {
   "cell_type": "markdown",
   "metadata": {},
   "source": [
    "## cncs_run_2: first test run at Utgård"
   ]
  },
  {
   "cell_type": "code",
   "execution_count": null,
   "metadata": {
    "scrolled": true
   },
   "outputs": [],
   "source": [
    "# Import data and declare parameters\n",
    "run = 'cncs_run_2'\n",
    "path = CNCS_PATHS['cncs_run_2']\n",
    "df = cncs_read.extract_clusters(CNCS_PATHS['cncs_run_2'])\n",
    "df_filter = mg_cncs_no_filter\n",
    "area = 0.0225 * 0.0225 * 4 * 48 * 2\n",
    "\n",
    "df_cut = df[(df['w_adc_m1'] > 500) &\n",
    "            (df['w_adc_m2'] > 0) &\n",
    "            (df['g_adc_m1'] > 500) &\n",
    "            (df['g_adc_m2'] > 500)]\n",
    "\n",
    "# Plot data\n",
    "plot_basic_cncs(run, path, df_cut, df_filter, area)"
   ]
  },
  {
   "cell_type": "markdown",
   "metadata": {},
   "source": [
    "## cncs_run_3: second run at Utgård (extra mirrobor shielding on front)"
   ]
  },
  {
   "cell_type": "code",
   "execution_count": null,
   "metadata": {
    "scrolled": true
   },
   "outputs": [],
   "source": [
    "%matplotlib inline\n",
    "# Import data and declare parameters\n",
    "run = 'cncs_run_3'\n",
    "path = CNCS_PATHS['cncs_run_3']\n",
    "clusters_unfiltered = cncs_read.extract_clusters(CNCS_PATHS['cncs_run_3'])\n",
    "df_filter = mg_cncs_filter\n",
    "area = 0.0225 * 0.0225 * 4 * 48 * 2\n",
    "\n",
    "# Plot data\n",
    "plot_basic_cncs(run, path, clusters_unfiltered, df_filter, area, extra='_with_filter')"
   ]
  },
  {
   "cell_type": "markdown",
   "metadata": {},
   "source": [
    "## cncs_run_4: previous measurement from first Utgård measurement series"
   ]
  },
  {
   "cell_type": "code",
   "execution_count": null,
   "metadata": {
    "scrolled": false
   },
   "outputs": [],
   "source": [
    "%matplotlib inline\n",
    "# Import data and declare parameters\n",
    "run = 'cncs_run_4'\n",
    "path = CNCS_PATHS['cncs_run_4']\n",
    "clusters_unfiltered = cncs_read.extract_clusters(CNCS_PATHS['cncs_run_4'])\n",
    "df_filter = mg_cncs_no_filter\n",
    "area = 0.0225 * 0.0225 * 4 * 48 * 2\n",
    "\n",
    "# Plot data\n",
    "#plot_basic_cncs(run, path, clusters_unfiltered, df_filter, area, extra='_with_filter')\n",
    "plot_cncs(run, clusters_unfiltered)"
   ]
  },
  {
   "cell_type": "markdown",
   "metadata": {},
   "source": [
    "## cncs_run_5: previous measurement from first Utgård measurement series"
   ]
  },
  {
   "cell_type": "code",
   "execution_count": null,
   "metadata": {
    "scrolled": false
   },
   "outputs": [],
   "source": [
    "%matplotlib qt \n",
    "# Import data and declare parameters\n",
    "run = 'cncs_run_5'\n",
    "path = CNCS_PATHS['cncs_run_5']\n",
    "clusters_unfiltered = cncs_read.extract_clusters(CNCS_PATHS['cncs_run_5'])\n",
    "df_filter = mg_cncs_no_filter\n",
    "area = 0.0225 * 0.0225 * 4 * 48 * 2\n",
    "\n",
    "# Plot data\n",
    "#plot_basic_cncs(run, path, clusters_unfiltered, df_filter, area, extra='_with_filter')\n",
    "plot_cncs(run, clusters_unfiltered)"
   ]
  },
  {
   "cell_type": "markdown",
   "metadata": {},
   "source": [
    "## cncs_run_6: previous measurement from first Utgård measurement series"
   ]
  },
  {
   "cell_type": "code",
   "execution_count": null,
   "metadata": {
    "scrolled": false
   },
   "outputs": [],
   "source": [
    "# Import data and declare parameters\n",
    "run = 'cncs_run_6'\n",
    "path = CNCS_PATHS['cncs_run_6']\n",
    "clusters_unfiltered = cncs_read.extract_clusters(CNCS_PATHS['cncs_run_6'])\n",
    "df_filter = mg_cncs_filter_2\n",
    "area = 0.0225 * 0.0225 * 4 * 48 * 2\n",
    "clusters = mg_read.filter_data(clusters_unfiltered, df_filter)\n",
    "\n",
    "# Cut just the good portion of the detector and look at rate\n",
    "df = clusters_unfiltered\n",
    "clusters_unfiltered = None\n",
    "df = df[(df.g_ch_m1 >= 79) & (df.g_ch_m1 <= 89)]\n",
    "area = 0.0225 * 0.0225 * 4 * 11\n",
    "\n",
    "# Plot data\n",
    "plot_basic_cncs(run, path, df, df_filter, area, extra='_with_filter_only_small_region')\n",
    "#plot_cncs(run, clusters_unfiltered)"
   ]
  },
  {
   "cell_type": "markdown",
   "metadata": {},
   "source": [
    "## cncs_run_7: measurement with the mg.cncs (extra mirrobor shielding removed)"
   ]
  },
  {
   "cell_type": "code",
   "execution_count": null,
   "metadata": {
    "scrolled": false
   },
   "outputs": [],
   "source": [
    "# Import data and declare parameters\n",
    "run = 'cncs_run_7'\n",
    "path = CNCS_PATHS['cncs_run_7']\n",
    "clusters_unfiltered = cncs_read.extract_clusters(CNCS_PATHS['cncs_run_7'])\n",
    "df_filter = mg_cncs_filter\n",
    "area = 0.0225 * 0.0225 * 4 * 48 * 2\n",
    "clusters = mg_read.filter_data(clusters_unfiltered, df_filter)\n",
    "\n",
    "# Plot data\n",
    "plot_basic_cncs(run, path, clusters_unfiltered, df_filter, area, extra='_with_filter')\n",
    "#plot_cncs(run, clusters_unfiltered)"
   ]
  },
  {
   "cell_type": "markdown",
   "metadata": {},
   "source": [
    "## cncs_run_8: mg.cncs unshielded (top unshielded)"
   ]
  },
  {
   "cell_type": "code",
   "execution_count": null,
   "metadata": {
    "scrolled": false
   },
   "outputs": [],
   "source": [
    "# Import data and declare parameters\n",
    "run = 'cncs_run_8'\n",
    "path = CNCS_PATHS['cncs_run_8']\n",
    "clusters_unfiltered = cncs_read.extract_clusters(CNCS_PATHS['cncs_run_8'])\n",
    "df_filter = mg_cncs_filter\n",
    "area = 0.0225 * 0.0225 * 4 * 48 * 2\n",
    "clusters = mg_read.filter_data(clusters_unfiltered, df_filter)\n",
    "\n",
    "# Plot data\n",
    "plot_basic_cncs(run, path, clusters_unfiltered, df_filter, area, extra='_with_filter_unshielded')\n",
    "#plot_cncs(run, clusters_unfiltered)"
   ]
  },
  {
   "cell_type": "markdown",
   "metadata": {},
   "source": [
    "## cncs_run_9: mg.cncs shielded (1003_0TO11291_MG.CNCSTopShielded)"
   ]
  },
  {
   "cell_type": "code",
   "execution_count": null,
   "metadata": {
    "scrolled": false
   },
   "outputs": [],
   "source": [
    "# w_adc_m1, w_adc_m2, w_ch_adc_m1, w_ch_adc_m2, g_adc_m1, g_adc_m2, tof, w_ch_m1, g_ch_m2\n",
    "\n",
    "# Import data and declare parameters\n",
    "run = 'cncs_run_9'\n",
    "path = CNCS_PATHS['cncs_run_9']\n",
    "clusters_unfiltered = cncs_read.extract_clusters(CNCS_PATHS['cncs_run_9'])\n",
    "df_filter = mg_cncs_filter_2 # mg_cncs_no_filter\n",
    "area = 0.0225 * 0.0225 * 4 * 48 * 2\n",
    "clusters = mg_read.filter_data(clusters_unfiltered, df_filter)\n",
    "\n",
    "# Cut just the good portion of the detector and look at rate\n",
    "df = clusters_unfiltered\n",
    "clusters_unfiltered = None\n",
    "df = df[(df.g_ch_m1 >= 81) & (df.g_ch_m1 <= 89)]\n",
    "area = 0.0225 * 0.0225 * 4 * 9\n",
    "\n",
    "# Plot data\n",
    "plot_basic_cncs(run, path, df, df_filter, area, extra='_with_filter_shielded_small_region')\n",
    "#plot_cncs(run, clusters_unfiltered)\n",
    "#plot_delimiters(run + '_part_1_with_filter', clusters)"
   ]
  },
  {
   "cell_type": "code",
   "execution_count": null,
   "metadata": {},
   "outputs": [],
   "source": [
    "# Import data and declare parameters\n",
    "run = 'cncs_run_10'\n",
    "path = CNCS_PATHS['cncs_run_10']\n",
    "clusters_unfiltered = cncs_read.extract_clusters(CNCS_PATHS['cncs_run_10'])\n",
    "df_filter = mg_cncs_filter\n",
    "area = 0.0225 * 0.0225 * 4 * 48 * 2\n",
    "clusters = mg_read.filter_data(clusters_unfiltered, df_filter)\n",
    "\n",
    "# Plot data\n",
    "plot_basic_cncs(run, path, clusters_unfiltered, df_filter, area, extra='_part_2_with_filter')\n",
    "#plot_cncs(run, clusters_unfiltered)"
   ]
  },
  {
   "cell_type": "code",
   "execution_count": null,
   "metadata": {},
   "outputs": [],
   "source": [
    "# Import data and declare parameters\n",
    "run = 'cncs_run_11'\n",
    "path = CNCS_PATHS['cncs_run_11']\n",
    "clusters_unfiltered = cncs_read.extract_clusters(CNCS_PATHS['cncs_run_11'])\n",
    "df_filter = mg_cncs_filter\n",
    "area = 0.0225 * 0.0225 * 4 * 48 * 2\n",
    "clusters = mg_read.filter_data(clusters_unfiltered, df_filter)\n",
    "\n",
    "# Plot data\n",
    "plot_basic_cncs(run, path, clusters_unfiltered, df_filter, area, extra='_part_3_with_filter')\n",
    "#plot_cncs(run, clusters_unfiltered)"
   ]
  },
  {
   "cell_type": "code",
   "execution_count": null,
   "metadata": {},
   "outputs": [],
   "source": [
    "# Import data and declare parameters\n",
    "run = 'cncs_run_12'\n",
    "path = CNCS_PATHS['cncs_run_12']\n",
    "clusters_unfiltered = cncs_read.extract_clusters(CNCS_PATHS['cncs_run_12'])\n",
    "df_filter = mg_cncs_filter\n",
    "area = 0.0225 * 0.0225 * 4 * 48 * 2\n",
    "clusters = mg_read.filter_data(clusters_unfiltered, df_filter)\n",
    "\n",
    "# Plot data\n",
    "plot_basic_cncs(run, path, clusters_unfiltered, df_filter, area, extra='_part_4_with_filter')\n",
    "#plot_cncs(run, clusters_unfiltered)"
   ]
  },
  {
   "cell_type": "code",
   "execution_count": null,
   "metadata": {},
   "outputs": [],
   "source": [
    "# Import data and declare parameters\n",
    "run = 'cncs_run_13'\n",
    "path = CNCS_PATHS['cncs_run_13']\n",
    "clusters_unfiltered = cncs_read.extract_clusters(CNCS_PATHS['cncs_run_13'])\n",
    "df_filter = mg_cncs_filter\n",
    "area = 0.0225 * 0.0225 * 4 * 48 * 2\n",
    "clusters = mg_read.filter_data(clusters_unfiltered, df_filter)\n",
    "\n",
    "# Plot data\n",
    "plot_basic_cncs(run, path, clusters_unfiltered, df_filter, area, extra='_part_5_with_filter')\n",
    "#plot_cncs(run, clusters_unfiltered)"
   ]
  },
  {
   "cell_type": "markdown",
   "metadata": {},
   "source": [
    "# 6. V20 - background level"
   ]
  },
  {
   "cell_type": "markdown",
   "metadata": {},
   "source": [
    "## v20_run_1: shutter down"
   ]
  },
  {
   "cell_type": "code",
   "execution_count": null,
   "metadata": {
    "scrolled": true
   },
   "outputs": [],
   "source": [
    "area = 0.0225*0.0225*4*36\n",
    "plot_basic('v20_run_1', clu_v20_run_1, ev_v20_run_1, mg_filter_no_edges_no_back, 0, 2, 1, area)"
   ]
  },
  {
   "cell_type": "markdown",
   "metadata": {},
   "source": [
    "## v20_run_2: reactor off"
   ]
  },
  {
   "cell_type": "code",
   "execution_count": null,
   "metadata": {
    "scrolled": false
   },
   "outputs": [],
   "source": [
    "area = 0.0225*0.0225*4*14\n",
    "plot_basic('v20_run_2', clu_v20_run_2, ev_v20_run_2, mg_filter_no_edges_no_back_no_middle, 0, 2, 1, area)"
   ]
  },
  {
   "cell_type": "markdown",
   "metadata": {},
   "source": [
    "# 7. Rate comparison"
   ]
  },
  {
   "cell_type": "code",
   "execution_count": null,
   "metadata": {},
   "outputs": [],
   "source": [
    "def get_all_rates(data, df_filter, area):\n",
    "    measurements = []\n",
    "    rates = []\n",
    "    durations = []\n",
    "    buses = []\n",
    "    for title, clusters_unfiltered, bus in data:\n",
    "        duration_temp = (clusters_unfiltered.time.values[-1] - clusters_unfiltered.time.values[0]) * 62.5e-9\n",
    "        clusters = mg_read.filter_data(clusters_unfiltered, df_filter)\n",
    "        clusters_bus = clusters[clusters.bus == bus]\n",
    "        number_events = clusters_bus.shape[0]\n",
    "        events_per_s_m2 = (number_events/duration_temp)/area\n",
    "        print('%s, Rate: %.5f Hz/m^2, Duration: %.1f hours' % (title, events_per_s_m2, (duration_temp/(60 ** 2))))\n",
    "        durations.append((duration_temp/(60 ** 2)))\n",
    "        rates.append(events_per_s_m2)\n",
    "        measurements.append(title)\n",
    "        buses.append(bus)\n",
    "    \n",
    "    return measurements, np.array(rates), np.array(durations), buses"
   ]
  },
  {
   "cell_type": "code",
   "execution_count": null,
   "metadata": {
    "scrolled": false
   },
   "outputs": [],
   "source": [
    "# Define parameters\n",
    "\n",
    "def get_mean_and_std(rates):\n",
    "    mean = sum(rates)/len(rates)\n",
    "    std = np.sqrt((1/len(rates)) * sum(((rates - mean) ** 2)))\n",
    "    return mean, std\n",
    "\n",
    "summer_data = [['summer_run_2: 2019-05, SEQ.I, inside cave', clu_summer_run_2, 2],\n",
    "        ['summer_run_3: 2019-05, SEQ.I, inside cave', clu_summer_run_3, 2],\n",
    "        ['summer_run_4: 2019-05, SEQ.I, inside cave', clu_summer_run_4, 2],\n",
    "        ['summer_run_5: 2019-05, SEQ.I, no shielding', clu_summer_run_5, 2],\n",
    "        ['summer_run_6: 2019-05, SEQ.I, inside cave', clu_summer_run_6, 2],\n",
    "        ['summer_run_7: 2019-05, SEQ.I, inside cave', clu_summer_run_7, 2],\n",
    "        ['summer_run_8: 2019-05, SEQ.I, inside cave', clu_summer_run_8, 2],\n",
    "        ['summer_run_9: 2019-05, SEQ.I, no shielding', clu_summer_run_9, 2],\n",
    "        ['summer_run_10: 2019-06, SEQ.I, no shielding', clu_summer_run_10, 2],\n",
    "        ['summer_run_11: 2019-05, SEQ.I, inside cave', clu_summer_run_11, 2],\n",
    "        ['summer_run_12: 2019-06, SEQ.I, inside cave', clu_summer_run_12, 2],\n",
    "        ['summer_run_13: 2019-06, SEQ.I, inside cave', clu_summer_run_13, 2],\n",
    "        ['summer_run_14: 2019-06, SEQ.I, no shielding upright', clu_summer_run_14, 2],\n",
    "             ]\n",
    "\n",
    "summer_shielded = [['summer_run_2: 2019-05, SEQ.I, inside cave', clu_summer_run_2, 0],\n",
    "        ['summer_run_3: 2019-05, SEQ.I, inside cave', clu_summer_run_3, 0],\n",
    "        ['summer_run_4: 2019-05, SEQ.I, inside cave', clu_summer_run_4, 0],\n",
    "        ['summer_run_5: 2019-05, SEQ.I, no shielding', clu_summer_run_5, 0],\n",
    "        ['summer_run_6: 2019-05, SEQ.I, inside cave', clu_summer_run_6, 0],\n",
    "        ['summer_run_7: 2019-05, SEQ.I, inside cave', clu_summer_run_7, 0],\n",
    "        ['summer_run_8: 2019-05, SEQ.I, inside cave', clu_summer_run_8, 0],\n",
    "        ['summer_run_11: 2019-05, SEQ.I, inside cave', clu_summer_run_11, 0],\n",
    "        ['summer_run_12: 2019-06, SEQ.I, inside cave', clu_summer_run_12, 0],\n",
    "        ['summer_run_13: 2019-06, SEQ.I, inside cave', clu_summer_run_13, 0],\n",
    "        \n",
    "        ['summer_run_2: 2019-05, SEQ.I, inside cave', clu_summer_run_2, 1],\n",
    "        ['summmer_run_3: 2019-05, SEQ.I, inside cave', clu_summer_run_3, 1],\n",
    "        ['summmer_run_4: 2019-05, SEQ.I, inside cave', clu_summer_run_4, 1],\n",
    "        ['summmer_run_5: 2019-05, SEQ.I, no shielding', clu_summer_run_5, 1],\n",
    "        ['summmer_run_6: 2019-05, SEQ.I, inside cave', clu_summer_run_6, 1],\n",
    "        ['summmer_run_7: 2019-05, SEQ.I, inside cave', clu_summer_run_7, 1],\n",
    "        ['summmer_run_8: 2019-05, SEQ.I, inside cave', clu_summer_run_8, 1],\n",
    "        ['summmer_run_11: 2019-05, SEQ.I, inside cave', clu_summer_run_11, 1],\n",
    "        ['summmer_run_12: 2019-06, SEQ.I, inside cave', clu_summer_run_12, 1],\n",
    "        ['summmer_run_13: 2019-06, SEQ.I, inside cave', clu_summer_run_13, 1],\n",
    "                  \n",
    "        ['summer_run_2: 2019-05, SEQ.I, inside cave', clu_summer_run_2, 2],\n",
    "        ['summer_run_3: 2019-05, SEQ.I, inside cave', clu_summer_run_3, 2],\n",
    "        ['summer_run_4: 2019-05, SEQ.I, inside cave', clu_summer_run_4, 2],\n",
    "        ['summer_run_5: 2019-05, SEQ.I, no shielding', clu_summer_run_5, 2],\n",
    "        ['summer_run_6: 2019-05, SEQ.I, inside cave', clu_summer_run_6, 2],\n",
    "        ['summer_run_7: 2019-05, SEQ.I, inside cave', clu_summer_run_7, 2],\n",
    "        ['summer_run_8: 2019-05, SEQ.I, inside cave', clu_summer_run_8, 2],\n",
    "        ['summer_run_11: 2019-05, SEQ.I, inside cave', clu_summer_run_11, 2],\n",
    "        ['summer_run_12: 2019-06, SEQ.I, inside cave', clu_summer_run_12, 2],\n",
    "        ['summer_run_13: 2019-06, SEQ.I, inside cave', clu_summer_run_13, 2],\n",
    "             ]\n",
    "\n",
    "summer_unshielded = [\n",
    "        ['summer_run_5: 2019-05, SEQ.I, no shielding', clu_summer_run_5, 0],\n",
    "        ['summer_run_9: 2019-05, SEQ.I, no shielding', clu_summer_run_9, 0],\n",
    "        ['summer_run_10: 2019-06, SEQ.I, no shielding', clu_summer_run_10, 0],\n",
    "    \n",
    "        ['summer_run_5: 2019-05, SEQ.I, no shielding', clu_summer_run_5, 1],\n",
    "        ['summer_run_9: 2019-05, SEQ.I, no shielding', clu_summer_run_9, 1],\n",
    "        ['summer_run_10: 2019-06, SEQ.I, no shielding', clu_summer_run_10, 1],\n",
    "    \n",
    "        ['summer_run_5: 2019-05, SEQ.I, no shielding', clu_summer_run_5, 2],\n",
    "        ['summer_run_9: 2019-05, SEQ.I, no shielding', clu_summer_run_9, 2],\n",
    "        ['summer_run_10: 2019-06, SEQ.I, no shielding', clu_summer_run_10, 2],\n",
    "             ]\n",
    "\n",
    "\n",
    "utgard_data = [\n",
    "        ['previous_run_5: 2019-11, SEQ.I, unshielded', clu_previous_run_5, 2],\n",
    "        ['previous_run_6: 2019-11, SEQ.I, mirrobor shielding', clu_previous_run_6, 2],\n",
    "        ['previous_run_8: 2019-12, SEQ.I, inside new cave', clu_previous_run_8, 2],\n",
    "        ['utgard_run_2: 2020-03, SEQ.I, mirrobor shielding', clu_utgard_run_2, 2],\n",
    "        ['utgard_run_3: 2020-03, SEQ.I, unshielded', clu_utgard_run_3, 2],\n",
    "        \n",
    "        #['2019-12, SEQ.II, polyethylene+mirrobor shielding', clu_previous_run_7, 0],\n",
    "        ['utgard_run_2: 2020-03, SEQ.II, mirrobor shielding', clu_utgard_run_2, 0],\n",
    "        ['utgard_run_3: 2020-03, SEQ.II, unshielded', clu_utgard_run_3, 0],\n",
    "        ]\n",
    "\n",
    "df_filter = mg_filter_no_edges_no_back\n",
    "area = 0.0225 * 0.0225 * 4 * 36\n",
    "\n",
    "# Run rate script\n",
    "print('----- summer 2019, shielded -----')\n",
    "measurements, rates, durations, buses = get_all_rates(summer_shielded, df_filter, area)\n",
    "fig = go.Figure(data=[go.Table(header=dict(values=['Measurement', 'Bus', 'Rate (Hz/m2)', 'Duration (hours)']),\n",
    "                               cells=dict(values=[measurements, buses, rates, durations]))\n",
    "                     ])\n",
    "fig.show()\n",
    "summer_shielded_mean, summer_shielded_std = get_mean_and_std(rates)\n",
    "print('summer 2019 shielded summary: ')\n",
    "print('Mean: %f' % summer_shielded_mean)\n",
    "print('Std: %f' % summer_shielded_std)\n",
    "\n",
    "print('----- Summer 2019, unshielded -----')\n",
    "measurements, rates, durations, buses = get_all_rates(summer_unshielded, df_filter, area)\n",
    "fig = go.Figure(data=[go.Table(header=dict(values=['Measurement', 'Bus', 'Rate (Hz/m2)', 'Duration (hours)']),\n",
    "                               cells=dict(values=[measurements, buses, rates, durations]))\n",
    "                     ])\n",
    "fig.show()\n",
    "summer_unshielded_mean, summer_unshielded_std = get_mean_and_std(rates)                 \n",
    "print('Summer 2019 unshielded summary: ')\n",
    "print('Mean: %f' % summer_unshielded_mean)\n",
    "print('Std: %f' % summer_unshielded_std)            \n",
    "                  \n",
    "print('----- Spring 2020 -----')\n",
    "measurements, rates, durations, buses = get_all_rates(utgard_data, df_filter, area)\n",
    "fig = go.Figure(data=[go.Table(header=dict(values=['Measurement', 'Bus', 'Rate (Hz/m2)', 'Duration (hours)']),\n",
    "                               cells=dict(values=[measurements, buses, rates, durations]))\n",
    "                     ])\n",
    "fig.show()"
   ]
  },
  {
   "cell_type": "markdown",
   "metadata": {},
   "source": [
    "# 7. PHS comparison"
   ]
  },
  {
   "cell_type": "markdown",
   "metadata": {},
   "source": [
    "## No shielding, horisontal: summer 2019 & spring 2020 overlaid"
   ]
  },
  {
   "cell_type": "code",
   "execution_count": null,
   "metadata": {
    "scrolled": false
   },
   "outputs": [],
   "source": [
    "%matplotlib notebook\n",
    "# Define parameters\n",
    "number_bins = 300\n",
    "df_filter = mg_filter_no_edges_no_back_no_middle\n",
    "\n",
    "# Plot\n",
    "fig = plt.figure()\n",
    "fig.set_figwidth(14)\n",
    "fig.set_figheight(4)\n",
    "\n",
    "# Ramsey & Alex data\n",
    "duration_ra = (clu_utgard_run_3.time.values[-1] - clu_utgard_run_3.time.values[0]) * 62.5e-9\n",
    "clu_ra_filtered = mg_read.filter_data(clu_utgard_run_3, df_filter)\n",
    "clu_ra_bus = clu_ra_filtered[clu_ra_filtered.bus == 2]\n",
    "\n",
    "# Summer 2019 data\n",
    "duration_a = (clu_summer_run_5.time.values[-1] - clu_summer_run_5.time.values[0]) * 62.5e-9\n",
    "clu_a_filtered = mg_read.filter_data(clu_summer_run_5, df_filter)\n",
    "clu_a_bus = clu_a_filtered[clu_a_filtered.bus == 2]\n",
    "\n",
    "# Wires\n",
    "plt.subplot(1, 2, 1)\n",
    "plt.hist(clu_ra_bus.wadc, bins=number_bins, histtype='step',\n",
    "         zorder=5, range=[0, 5000], label='Utgård 2+3 (hor.)', color='blue',\n",
    "         weights=(1/duration_ra)*np.ones(len(clu_ra_bus.wadc)))\n",
    "\n",
    "plt.hist(clu_a_bus.wadc, bins=number_bins, histtype='step',\n",
    "         zorder=5, range=[0, 5000], label='Utgård 1 (hor.)', color='red',\n",
    "         weights=(1/duration_a)*np.ones(len(clu_a_bus.wadc)))\n",
    "\n",
    "plt.grid(True, which='major', linestyle='--', zorder=0)\n",
    "plt.grid(True, which='minor', linestyle='--', zorder=0)\n",
    "plt.legend(title='Data')\n",
    "plt.title('Wires')\n",
    "plt.xlabel('Charge (ADC channels)')\n",
    "plt.ylabel('Counts/s')\n",
    "plt.yscale('log')\n",
    "fig.show()\n",
    "\n",
    "# Save data\n",
    "output_path = '../output/wires_hor_overlaid_phs.pdf'\n",
    "fig.savefig(output_path, bbox_inches='tight')\n",
    "\n",
    "\n",
    "\n",
    "# Grids\n",
    "plt.subplot(1, 2, 2)\n",
    "\n",
    "plt.hist(clu_ra_bus.gadc, bins=number_bins, histtype='step',\n",
    "         zorder=5, range=[0, 10000], label='Utgård 2+3 (hor.)', color='blue',\n",
    "         weights=(1/duration_ra)*np.ones(len(clu_ra_bus.wadc)))\n",
    "\n",
    "plt.hist(clu_a_bus.gadc, bins=number_bins, histtype='step',\n",
    "         zorder=5, range=[0, 10000], label='Utgård 1 (hor.)', color='red',\n",
    "         weights=(1/duration_a)*np.ones(len(clu_a_bus.wadc)))\n",
    "\n",
    "plt.grid(True, which='major', linestyle='--', zorder=0)\n",
    "plt.grid(True, which='minor', linestyle='--', zorder=0)\n",
    "plt.legend(title='Data')\n",
    "plt.title('Grids')\n",
    "plt.xlabel('Charge (ADC channels)')\n",
    "plt.ylabel('Counts/s')\n",
    "plt.yscale('log')\n",
    "fig.suptitle('Filtered')\n",
    "fig.show()\n",
    "\n",
    "# Save data\n",
    "output_path = '../output/grids_hor_overlaid_phs.pdf'\n",
    "fig.savefig(output_path, bbox_inches='tight')"
   ]
  },
  {
   "cell_type": "code",
   "execution_count": null,
   "metadata": {},
   "outputs": [],
   "source": [
    "%matplotlib notebook\n",
    "# Define parameters\n",
    "number_bins = 300\n",
    "df_filter = mg_filter_no_edges_no_back_no_middle\n",
    "\n",
    "# Plot\n",
    "fig = plt.figure()\n",
    "fig.set_figwidth(14)\n",
    "fig.set_figheight(4)\n",
    "\n",
    "# Spring 2020\n",
    "duration_ra = (clu_utgard_run_3.time.values[-1] - clu_utgard_run_3.time.values[0]) * 62.5e-9\n",
    "clu_ra_bus = clu_utgard_run_3[clu_utgard_run_3.bus == 2]\n",
    "\n",
    "# Summer 2019\n",
    "duration_a = (clu_summer_run_5.time.values[-1] - clu_summer_run_5.time.values[0]) * 62.5e-9\n",
    "clu_a_bus = clu_summer_run_5[clu_summer_run_5.bus == 2]\n",
    "\n",
    "# Wires\n",
    "plt.subplot(1, 2, 1)\n",
    "plt.hist(clu_ra_bus.wadc, bins=number_bins, histtype='step',\n",
    "         zorder=5, range=[0, 8000], label='Ugård 2+3', color='blue',\n",
    "         weights=(1/duration_ra)*np.ones(len(clu_ra_bus.wadc)))\n",
    "\n",
    "plt.hist(clu_a_bus.wadc, bins=number_bins, histtype='step',\n",
    "         zorder=5, range=[0, 8000], label='Utgård 1', color='red',\n",
    "         weights=(1/duration_a)*np.ones(len(clu_a_bus.wadc)))\n",
    "\n",
    "plt.grid(True, which='major', linestyle='--', zorder=0)\n",
    "plt.grid(True, which='minor', linestyle='--', zorder=0)\n",
    "plt.legend(title='Data')\n",
    "plt.title('Wires')\n",
    "plt.xlabel('Charge (ADC channels)')\n",
    "plt.ylabel('Counts/s')\n",
    "plt.yscale('log')\n",
    "fig.show()\n",
    "\n",
    "\n",
    "# Grids\n",
    "plt.subplot(1, 2, 2)\n",
    "\n",
    "plt.hist(clu_ra_bus.gadc, bins=number_bins, histtype='step',\n",
    "         zorder=5, range=[0, 8000], label='Ramsey & Alex', color='blue',\n",
    "         weights=(1/duration_ra)*np.ones(len(clu_ra_bus.wadc)))\n",
    "\n",
    "plt.hist(clu_a_bus.gadc, bins=number_bins, histtype='step',\n",
    "         zorder=5, range=[0, 8000], label='Summer 2019', color='red',\n",
    "         weights=(1/duration_a)*np.ones(len(clu_a_bus.wadc)))\n",
    "\n",
    "plt.grid(True, which='major', linestyle='--', zorder=0)\n",
    "plt.grid(True, which='minor', linestyle='--', zorder=0)\n",
    "plt.legend(title='Data')\n",
    "plt.title('Grids')\n",
    "plt.xlabel('Charge (ADC channels)')\n",
    "plt.ylabel('Counts/s')\n",
    "plt.yscale('log')\n",
    "fig.suptitle('Unfiltered')\n",
    "fig.show()"
   ]
  },
  {
   "cell_type": "markdown",
   "metadata": {},
   "source": [
    "## No shielding: summer 2019 (vertical) & spring 2020 (horisontal) overlaid"
   ]
  },
  {
   "cell_type": "code",
   "execution_count": null,
   "metadata": {},
   "outputs": [],
   "source": [
    "%matplotlib notebook\n",
    "# Define parameters\n",
    "number_bins = 300\n",
    "df_filter = mg_filter_no_edges_no_back_no_middle\n",
    "\n",
    "# Plot\n",
    "fig = plt.figure()\n",
    "fig.set_figwidth(14)\n",
    "fig.set_figheight(4)\n",
    "\n",
    "# Spring 2020 data\n",
    "duration_ra = (clu_utgard_run_3.time.values[-1] - clu_utgard_run_3.time.values[0]) * 62.5e-9\n",
    "clu_ra_filtered = mg_read.filter_data(clu_utgard_run_3, df_filter)\n",
    "clu_ra_bus = clu_ra_filtered[clu_ra_filtered.bus == 2]\n",
    "\n",
    "# Summer 2019 data\n",
    "duration_a = (clu_summer_run_14.time.values[-1] - clu_summer_run_14.time.values[0]) * 62.5e-9\n",
    "clu_a_filtered = mg_read.filter_data(clu_summer_run_14, df_filter)\n",
    "clu_a_bus = clu_a_filtered[clu_a_filtered.bus == 2]\n",
    "\n",
    "# Wires\n",
    "plt.subplot(1, 2, 1)\n",
    "plt.hist(clu_ra_bus.wadc, bins=number_bins, histtype='step',\n",
    "         zorder=5, range=[0, 5000], label='Utgård 2+3 (hor.)', color='blue',\n",
    "         weights=(1/duration_ra)*np.ones(len(clu_ra_bus.wadc)))\n",
    "\n",
    "plt.hist(clu_a_bus.wadc, bins=number_bins, histtype='step',\n",
    "         zorder=5, range=[0, 5000], label='Utgård 1 (ver.)', color='green',\n",
    "         weights=(1/duration_a)*np.ones(len(clu_a_bus.wadc)))\n",
    "\n",
    "plt.grid(True, which='major', linestyle='--', zorder=0)\n",
    "plt.grid(True, which='minor', linestyle='--', zorder=0)\n",
    "plt.legend(title='Data')\n",
    "plt.title('Wires')\n",
    "plt.xlabel('Charge (ADC channels)')\n",
    "plt.ylabel('Counts/s')\n",
    "plt.yscale('log')\n",
    "fig.show()\n",
    "\n",
    "\n",
    "# Grids\n",
    "plt.subplot(1, 2, 2)\n",
    "\n",
    "plt.hist(clu_ra_bus.gadc, bins=number_bins, histtype='step',\n",
    "         zorder=5, range=[0, 10000], label='Utgård 2+3 (hor.)', color='blue',\n",
    "         weights=(1/duration_ra)*np.ones(len(clu_ra_bus.wadc)))\n",
    "\n",
    "plt.hist(clu_a_bus.gadc, bins=number_bins, histtype='step',\n",
    "         zorder=5, range=[0, 10000], label='Utgård 1 (ver.)', color='green',\n",
    "         weights=(1/duration_a)*np.ones(len(clu_a_bus.wadc)))\n",
    "\n",
    "plt.grid(True, which='major', linestyle='--', zorder=0)\n",
    "plt.grid(True, which='minor', linestyle='--', zorder=0)\n",
    "plt.legend(title='Data')\n",
    "plt.title('Grids')\n",
    "plt.xlabel('Charge (ADC channels)')\n",
    "plt.ylabel('Counts/s')\n",
    "plt.yscale('log')\n",
    "fig.suptitle('Filtered')\n",
    "fig.show()\n",
    "\n",
    "# Save data\n",
    "output_path = '../output/grids_ver_overlaid_phs.pdf'\n",
    "fig.savefig(output_path, bbox_inches='tight')"
   ]
  },
  {
   "cell_type": "code",
   "execution_count": null,
   "metadata": {},
   "outputs": [],
   "source": [
    "%matplotlib notebook\n",
    "# Define parameters\n",
    "number_bins = 300\n",
    "df_filter = mg_filter_no_edges_no_back_no_middle\n",
    "\n",
    "# Plot\n",
    "fig = plt.figure()\n",
    "fig.set_figwidth(14)\n",
    "fig.set_figheight(4)\n",
    "\n",
    "# Spring 2020 data\n",
    "duration_ra = (clu_utgard_run_3.time.values[-1] - clu_utgard_run_3.time.values[0]) * 62.5e-9\n",
    "clu_ra_bus = clu_utgard_run_3[clu_utgard_run_3.bus == 2]\n",
    "\n",
    "# Summer 2019 data\n",
    "duration_a = (clu_summer_run_14.time.values[-1] - clu_summer_run_14.time.values[0]) * 62.5e-9\n",
    "clu_a_bus = clu_summer_run_14[clu_summer_run_14.bus == 2]\n",
    "\n",
    "# Wires\n",
    "plt.subplot(1, 2, 1)\n",
    "plt.hist(clu_ra_bus.wadc, bins=number_bins, histtype='step',\n",
    "         zorder=5, range=[0, 8000], label='Utgård 2+3', color='blue',\n",
    "         weights=(1/duration_ra)*np.ones(len(clu_ra_bus.wadc)))\n",
    "\n",
    "plt.hist(clu_a_bus.wadc, bins=number_bins, histtype='step',\n",
    "         zorder=5, range=[0, 8000], label='Utgård 1', color='red',\n",
    "         weights=(1/duration_a)*np.ones(len(clu_a_bus.wadc)))\n",
    "\n",
    "plt.grid(True, which='major', linestyle='--', zorder=0)\n",
    "plt.grid(True, which='minor', linestyle='--', zorder=0)\n",
    "plt.legend(title='Data')\n",
    "plt.title('Wires')\n",
    "plt.xlabel('Charge (ADC channels)')\n",
    "plt.ylabel('Counts/s')\n",
    "plt.yscale('log')\n",
    "fig.show()\n",
    "\n",
    "\n",
    "# Grids\n",
    "plt.subplot(1, 2, 2)\n",
    "\n",
    "plt.hist(clu_ra_bus.gadc, bins=number_bins, histtype='step',\n",
    "         zorder=5, range=[0, 8000], label='Spring 2020', color='blue',\n",
    "         weights=(1/duration_ra)*np.ones(len(clu_ra_bus.wadc)))\n",
    "\n",
    "plt.hist(clu_a_bus.gadc, bins=number_bins, histtype='step',\n",
    "         zorder=5, range=[0, 8000], label='Summer 2020', color='red',\n",
    "         weights=(1/duration_a)*np.ones(len(clu_a_bus.wadc)))\n",
    "\n",
    "plt.grid(True, which='major', linestyle='--', zorder=0)\n",
    "plt.grid(True, which='minor', linestyle='--', zorder=0)\n",
    "plt.legend(title='Data')\n",
    "plt.title('Grids')\n",
    "plt.xlabel('Charge (ADC channels)')\n",
    "plt.ylabel('Counts/s')\n",
    "plt.yscale('log')\n",
    "fig.suptitle('Unfiltered')\n",
    "fig.show()"
   ]
  },
  {
   "cell_type": "markdown",
   "metadata": {},
   "source": [
    "## In cave: Summer 2019 & Spring 2020 (no gas) overlaid"
   ]
  },
  {
   "cell_type": "code",
   "execution_count": null,
   "metadata": {},
   "outputs": [],
   "source": [
    "%matplotlib notebook\n",
    "# Define parameters\n",
    "number_bins = 300\n",
    "df_filter = mg_filter_no_edges_no_back\n",
    "\n",
    "# Plot\n",
    "fig = plt.figure()\n",
    "fig.set_figwidth(14)\n",
    "fig.set_figheight(4)\n",
    "\n",
    "# Ramsey & Alex data\n",
    "duration_ra = (clu_utgard_run_18.time.values[-1] - clu_utgard_run_18.time.values[0]) * 62.5e-9\n",
    "clu_ra_filtered = mg_read.filter_data(clu_utgard_run_18, df_filter)\n",
    "clu_ra_bus = clu_ra_filtered[clu_ra_filtered.bus == 2]\n",
    "\n",
    "# Summer 2019 data\n",
    "duration_a = (clu_summer_run_2.time.values[-1] - clu_summer_run_2.time.values[0]) * 62.5e-9\n",
    "clu_a_filtered = mg_read.filter_data(clu_summer_run_2, df_filter)\n",
    "clu_a_bus = clu_a_filtered[clu_a_filtered.bus == 0]\n",
    "\n",
    "# Wires\n",
    "plt.subplot(1, 2, 1)\n",
    "plt.hist(clu_ra_bus.wadc, bins=number_bins, histtype='step',\n",
    "         zorder=5, range=[0, 5000], label='Utgård 2+3 (hor.)', color='blue',\n",
    "         weights=(1/duration_ra)*np.ones(len(clu_ra_bus.wadc)))\n",
    "\n",
    "plt.hist(clu_a_bus.wadc, bins=number_bins, histtype='step',\n",
    "         zorder=5, range=[0, 5000], label='Utgård 1 (hor.)', color='red',\n",
    "         weights=(1/duration_a)*np.ones(len(clu_a_bus.wadc)))\n",
    "\n",
    "plt.grid(True, which='major', linestyle='--', zorder=0)\n",
    "plt.grid(True, which='minor', linestyle='--', zorder=0)\n",
    "plt.legend(title='Data')\n",
    "plt.title('Wires')\n",
    "plt.xlabel('Charge (ADC channels)')\n",
    "plt.ylabel('Counts/s')\n",
    "plt.yscale('log')\n",
    "fig.show()\n",
    "\n",
    "# Save data\n",
    "output_path = '../output/wires_overlaid_phs.pdf'\n",
    "fig.savefig(output_path, bbox_inches='tight')\n",
    "\n",
    "\n",
    "\n",
    "# Grids\n",
    "plt.subplot(1, 2, 2)\n",
    "\n",
    "plt.hist(clu_ra_bus.gadc, bins=number_bins, histtype='step',\n",
    "         zorder=5, range=[0, 10000], label='Utgård 2+3 (hor.)', color='blue',\n",
    "         weights=(1/duration_ra)*np.ones(len(clu_ra_bus.wadc)))\n",
    "\n",
    "plt.hist(clu_a_bus.gadc, bins=number_bins, histtype='step',\n",
    "         zorder=5, range=[0, 10000], label='Utgård 1 (hor.)', color='red',\n",
    "         weights=(1/duration_a)*np.ones(len(clu_a_bus.wadc)))\n",
    "\n",
    "plt.grid(True, which='major', linestyle='--', zorder=0)\n",
    "plt.grid(True, which='minor', linestyle='--', zorder=0)\n",
    "plt.legend(title='Data')\n",
    "plt.title('Grids')\n",
    "plt.xlabel('Charge (ADC channels)')\n",
    "plt.ylabel('Counts/s')\n",
    "plt.yscale('log')\n",
    "fig.suptitle('Filtered')\n",
    "fig.show()\n",
    "\n",
    "# Save data\n",
    "output_path = '../output/grids_overlaid_phs_%s.pdf' % 'data_set_2'\n",
    "fig.savefig(output_path, bbox_inches='tight')"
   ]
  },
  {
   "cell_type": "markdown",
   "metadata": {},
   "source": [
    "# Animations"
   ]
  },
  {
   "cell_type": "code",
   "execution_count": null,
   "metadata": {},
   "outputs": [],
   "source": [
    "def create_animation(run, clusters_unfiltered, bus, area, df_filter, interval):\n",
    "    # Create folder for animation\n",
    "    animation_folder = '../output/animation/'\n",
    "    shutil.rmtree(animation_folder, ignore_errors=True)\n",
    "    mg_hf.mkdir_p(animation_folder)\n",
    "\n",
    "    # Set tick size\n",
    "    mg_hf.set_thick_labels(12)\n",
    "\n",
    "    # Filter clusters\n",
    "    clusters = mg_read.filter_data(clusters_unfiltered, df_filter)\n",
    "    \n",
    "    # Declare parameters\n",
    "    min_time_in_hours = (clusters_unfiltered.time.values[0] * 62.5e-9) * (1/(60**2))\n",
    "    max_time_in_hours = (clusters_unfiltered.time.values[-1] * 62.5e-9) * (1/(60**2))\n",
    "\n",
    "    # Only keep one bus\n",
    "    clusters_bus_full = clusters[clusters.bus == bus]\n",
    "    clusters_bus_uf_full = clusters_unfiltered[clusters_unfiltered.bus == bus]\n",
    "\n",
    "    # Define function to plot one frame\n",
    "    def plot_frame(time, interval, clusters_bus_full, clusters_bus_uf_full):\n",
    "        # Filter bus clusters on time, +/- interval hours\n",
    "        start_time = ((time-interval) * (60**2))/(62.5e-9)\n",
    "        stop_time = ((time+interval) * (60**2))/(62.5e-9)\n",
    "        clusters_bus = clusters_bus_full[(clusters_bus_full.time >= start_time) &\n",
    "                                         (clusters_bus_full.time <= stop_time)]\n",
    "        clusters_uf_bus = clusters_bus_uf_full[(clusters_bus_uf_full.time >= start_time) &\n",
    "                                               (clusters_bus_uf_full.time <= stop_time)]\n",
    "    \n",
    "    \n",
    "        # Calculate duration\n",
    "        duration = (clusters_uf_bus.time.values[-1] - clusters_uf_bus.time.values[0]) * 62.5e-9\n",
    "    \n",
    "        fig = plt.figure()\n",
    "        fig.set_figwidth(10)\n",
    "        fig.set_figheight(10)\n",
    "        \n",
    "        # Plot full rate to use as reference\n",
    "        plt.subplot2grid((3, 2), (0, 0), colspan=2)\n",
    "        number_bins = 50\n",
    "        min_val, max_val = mg_basic_plot.rate_plot(clusters_bus_full, number_bins, bus, area)\n",
    "        plt.fill_betweenx([0, max_val*1.5], time-interval, time+interval, color='red', alpha=0.5, zorder=10)\n",
    "    \n",
    "        # Rate \n",
    "        number_bins = 50\n",
    "        plt.subplot2grid((3, 2), (1, 0), colspan=1)\n",
    "        mg_basic_plot.rate_plot(clusters_bus, number_bins, bus, area)\n",
    "        plt.ylim(0, max_val*1.5)\n",
    "    \n",
    "        # PHS - 1D\n",
    "        bins_phs_1d = 300\n",
    "        plt.subplot2grid((3, 2), (1, 1), colspan=1)\n",
    "        mg_basic_plot.phs_clusters_1d_plot(clusters_bus, clusters_uf_bus, bins_phs_1d, bus, duration)\n",
    "        plt.yscale('log')\n",
    "        plt.ylim(1e-5, 1)\n",
    "\n",
    "        # Coincidences - 2D\n",
    "        plt.subplot2grid((3, 2), (2, 0), colspan=1)\n",
    "        vmin=1e-4\n",
    "        vmax=1e-3\n",
    "        \n",
    "        # Calculate number of events and rate in a specific bus\n",
    "        number_events = clusters_bus.shape[0]\n",
    "        events_per_s = number_events/duration\n",
    "        events_per_s_m2 = events_per_s/area\n",
    "        title = ('Bus %d\\n(%d events, %.6f events/s/m$^2$)' % (bus, number_events, events_per_s_m2))\n",
    "        if number_events > 1:\n",
    "            mg_basic_plot.clusters_2d_plot(clusters_bus, title, vmin, vmax, duration)\n",
    "    \n",
    "        # Multiplicity\n",
    "        plt.subplot2grid((3, 2), (2, 1), colspan=1)\n",
    "        vmin=1e-4\n",
    "        vmax=1\n",
    "        if clusters_uf_bus.shape[0] > 1:\n",
    "            mg_basic_plot.multiplicity_plot_perc(clusters_uf_bus, bus, duration, vmin, vmax)\n",
    "    \n",
    "        plt.tight_layout()\n",
    "        fig.show()\n",
    "    \n",
    "        # Save data\n",
    "        output_path = animation_folder + str(time) + '.png'\n",
    "        fig.savefig(output_path, bbox_inches='tight')\n",
    "\n",
    "    # Iterate through all frames\n",
    "    times = np.arange(interval, max_time_in_hours, interval)\n",
    "    for time in times:\n",
    "        plot_frame(time, interval, clusters_bus_full, clusters_bus_uf_full)\n",
    "    \n",
    "    # Animate\n",
    "    output_path = '../output/time_sweep_%s_bus_%s.gif' % (run, bus)\n",
    "    images = []\n",
    "    files = os.listdir(animation_folder)\n",
    "    files = [file[:-4] for file in files if file[-9:] != '.DS_Store' and file != '.gitignore']\n",
    "    for file in sorted(files, key=float):\n",
    "        images.append(imageio.imread(animation_folder + file + '.png'))\n",
    "    imageio.mimsave(output_path, images)\n",
    "    shutil.rmtree(animation_folder, ignore_errors=True)"
   ]
  },
  {
   "cell_type": "code",
   "execution_count": null,
   "metadata": {},
   "outputs": [],
   "source": []
  },
  {
   "cell_type": "markdown",
   "metadata": {},
   "source": [
    "## Gas flow stopped (SEQ.I)"
   ]
  },
  {
   "cell_type": "code",
   "execution_count": null,
   "metadata": {
    "scrolled": true
   },
   "outputs": [],
   "source": [
    "# Create folder for animation\n",
    "animation_folder = '../output/animation/'\n",
    "shutil.rmtree(animation_folder, ignore_errors=True)\n",
    "mg_hf.mkdir_p(animation_folder)\n",
    "\n",
    "# Set tick size\n",
    "mg_hf.set_thick_labels(12)\n",
    "\n",
    "# Declare clusters and filters\n",
    "df_filter = mg_filter_no_edges_no_back\n",
    "clusters_unfiltered = clu_utgard_run_14\n",
    "\n",
    "# Filter clusters\n",
    "clusters = mg_read.filter_data(clusters_unfiltered, df_filter)\n",
    "    \n",
    "# Declare parameters\n",
    "min_time_in_hours = (clusters_unfiltered.time.values[0] * 62.5e-9) * (1/(60**2))\n",
    "max_time_in_hours = (clusters_unfiltered.time.values[-1] * 62.5e-9) * (1/(60**2))\n",
    "bus = 2\n",
    "area = 0.0225 * 0.0225 * 4 * 36\n",
    "\n",
    "# Only keep one bus\n",
    "clusters_bus_full = clusters[clusters.bus == bus]\n",
    "clusters_bus_uf_full = clusters_unfiltered[clusters_unfiltered.bus == bus]\n",
    "\n",
    "# Go to interactive mode\n",
    "#@interact(time=widgets.IntSlider(min=min_time_in_hours,max=max_time_in_hours,step=5,value=min_time_in_hours+5))\n",
    "interval = 2\n",
    "\n",
    "def plot_interactive(time):\n",
    "    # Filter bus clusters on time, +/- 5 hours\n",
    "    start_time = ((time-interval) * (60**2))/(62.5e-9)\n",
    "    stop_time = ((time+interval) * (60**2))/(62.5e-9)\n",
    "    clusters_bus = clusters_bus_full[(clusters_bus_full.time >= start_time) &\n",
    "                                     (clusters_bus_full.time <= stop_time)]\n",
    "    clusters_uf_bus = clusters_bus_uf_full[(clusters_bus_uf_full.time >= start_time) &\n",
    "                                           (clusters_bus_uf_full.time <= stop_time)]\n",
    "    \n",
    "    \n",
    "    # Calculate duration\n",
    "    duration = (clusters_uf_bus.time.values[-1] - clusters_uf_bus.time.values[0]) * 62.5e-9\n",
    "    \n",
    "    fig = plt.figure()\n",
    "    fig.set_figwidth(10)\n",
    "    fig.set_figheight(10)\n",
    "    # Plot full rate to use as reference\n",
    "    plt.subplot2grid((3, 2), (0, 0), colspan=2)\n",
    "    number_bins = 50\n",
    "    min_val, max_val = mg_basic_plot.rate_plot(clusters_bus_full, number_bins, bus, area)\n",
    "    plt.fill_betweenx([0, 0.1], time-interval, time+interval,\n",
    "                      color='red', alpha=0.5, zorder=10)\n",
    "    \n",
    "    # Rate \n",
    "    number_bins = 50\n",
    "    plt.subplot2grid((3, 2), (1, 0), colspan=1)\n",
    "    mg_basic_plot.rate_plot(clusters_bus, number_bins, bus, area)\n",
    "    plt.ylim(0, 0.1)\n",
    "    \n",
    "    # PHS - 1D\n",
    "    bins_phs_1d = 300\n",
    "    plt.subplot2grid((3, 2), (1, 1), colspan=1)\n",
    "    mg_basic_plot.phs_clusters_1d_plot(clusters_bus, clusters_uf_bus, bins_phs_1d, bus, duration)\n",
    "    plt.yscale('log')\n",
    "    plt.ylim(1e-5, 1)\n",
    "\n",
    "    # Coincidences - 2D\n",
    "    plt.subplot2grid((3, 2), (2, 0), colspan=1)\n",
    "    vmin=1e-4\n",
    "    vmax=1e-3\n",
    "    # Calculate number of events and rate in a specific bus\n",
    "    number_events = clusters_bus.shape[0]\n",
    "    events_per_s = number_events/duration\n",
    "    events_per_s_m2 = events_per_s/area\n",
    "    title = ('Bus %d\\n(%d events, %.6f events/s/m$^2$)' % (bus, number_events, events_per_s_m2))\n",
    "    if number_events > 1:\n",
    "        mg_basic_plot.clusters_2d_plot(clusters_bus, title, vmin, vmax, duration)\n",
    "    \n",
    "    # Multiplicity\n",
    "    plt.subplot2grid((3, 2), (2, 1), colspan=1)\n",
    "    vmin=1e-4\n",
    "    vmax=1\n",
    "    if clusters_uf_bus.shape[0] > 1:\n",
    "        mg_basic_plot.multiplicity_plot_perc(clusters_uf_bus, bus, duration, vmin, vmax)\n",
    "    \n",
    "    plt.tight_layout()\n",
    "    fig.show()\n",
    "    \n",
    "    # Save data\n",
    "    output_path = animation_folder + str(time) + '.png'\n",
    "    fig.savefig(output_path, bbox_inches='tight')\n",
    "\n",
    "# Iterate\n",
    "times = np.arange(interval, 110, interval)\n",
    "for time in times:\n",
    "    plot_interactive(time)\n",
    "    \n",
    "# Animate\n",
    "output_path = '../output/time_sweep.gif'\n",
    "images = []\n",
    "files = os.listdir(animation_folder)\n",
    "files = [file[:-4] for file in files if file[-9:] != '.DS_Store' and file != '.gitignore']\n",
    "for file in sorted(files, key=int):\n",
    "    images.append(imageio.imread(animation_folder + file + '.png'))\n",
    "imageio.mimsave(output_path, images)\n",
    "shutil.rmtree(animation_folder, ignore_errors=True)"
   ]
  },
  {
   "cell_type": "markdown",
   "metadata": {},
   "source": [
    "## Gas flow stopped (SEQ.2)"
   ]
  },
  {
   "cell_type": "code",
   "execution_count": null,
   "metadata": {},
   "outputs": [],
   "source": [
    "# Create folder for animation\n",
    "animation_folder = '../output/animation/'\n",
    "shutil.rmtree(animation_folder, ignore_errors=True)\n",
    "mg_hf.mkdir_p(animation_folder)\n",
    "\n",
    "# Set tick size\n",
    "mg_hf.set_thick_labels(12)\n",
    "\n",
    "# Declare clusters and filters\n",
    "df_filter = mg_filter_no_edges_no_back\n",
    "clusters_unfiltered = clu_utgard_run_14\n",
    "\n",
    "# Filter clusters\n",
    "clusters = mg_read.filter_data(clusters_unfiltered, df_filter)\n",
    "    \n",
    "# Declare parameters\n",
    "min_time_in_hours = (clusters_unfiltered.time.values[0] * 62.5e-9) * (1/(60**2))\n",
    "max_time_in_hours = (clusters_unfiltered.time.values[-1] * 62.5e-9) * (1/(60**2))\n",
    "bus = 0\n",
    "area = 0.0225 * 0.0225 * 4 * 36\n",
    "\n",
    "# Only keep one bus\n",
    "clusters_bus_full = clusters[clusters.bus == bus]\n",
    "clusters_bus_uf_full = clusters_unfiltered[clusters_unfiltered.bus == bus]\n",
    "\n",
    "# Go to interactive mode\n",
    "#@interact(time=widgets.IntSlider(min=min_time_in_hours,max=max_time_in_hours,step=5,value=min_time_in_hours+5))\n",
    "interval = 2\n",
    "\n",
    "def plot_interactive(time):\n",
    "    # Filter bus clusters on time, +/- 5 hours\n",
    "    start_time = ((time-interval) * (60**2))/(62.5e-9)\n",
    "    stop_time = ((time+interval) * (60**2))/(62.5e-9)\n",
    "    clusters_bus = clusters_bus_full[(clusters_bus_full.time >= start_time) &\n",
    "                                     (clusters_bus_full.time <= stop_time)]\n",
    "    clusters_uf_bus = clusters_bus_uf_full[(clusters_bus_uf_full.time >= start_time) &\n",
    "                                           (clusters_bus_uf_full.time <= stop_time)]\n",
    "    \n",
    "    \n",
    "    # Calculate duration\n",
    "    duration = (clusters_uf_bus.time.values[-1] - clusters_uf_bus.time.values[0]) * 62.5e-9\n",
    "    \n",
    "    fig = plt.figure()\n",
    "    fig.set_figwidth(10)\n",
    "    fig.set_figheight(10)\n",
    "    # Plot full rate to use as reference\n",
    "    plt.subplot2grid((3, 2), (0, 0), colspan=2)\n",
    "    number_bins = 50\n",
    "    min_val, max_val = mg_basic_plot.rate_plot(clusters_bus_full, number_bins, bus, area)\n",
    "    plt.fill_betweenx([0, 1], time-interval, time+interval,\n",
    "                      color='red', alpha=0.5, zorder=10)\n",
    "    \n",
    "    # Rate \n",
    "    number_bins = 50\n",
    "    plt.subplot2grid((3, 2), (1, 0), colspan=1)\n",
    "    mg_basic_plot.rate_plot(clusters_bus, number_bins, bus, area)\n",
    "    plt.ylim(0, 1)\n",
    "    \n",
    "    # PHS - 1D\n",
    "    bins_phs_1d = 300\n",
    "    plt.subplot2grid((3, 2), (1, 1), colspan=1)\n",
    "    mg_basic_plot.phs_clusters_1d_plot(clusters_bus, clusters_uf_bus, bins_phs_1d, bus, duration)\n",
    "    plt.yscale('log')\n",
    "    plt.ylim(1e-5, 1)\n",
    "\n",
    "    # Coincidences - 2D\n",
    "    plt.subplot2grid((3, 2), (2, 0), colspan=1)\n",
    "    vmin=1e-4\n",
    "    vmax=1e-3\n",
    "    # Calculate number of events and rate in a specific bus\n",
    "    number_events = clusters_bus.shape[0]\n",
    "    events_per_s = number_events/duration\n",
    "    events_per_s_m2 = events_per_s/area\n",
    "    title = ('Bus %d\\n(%d events, %.6f events/s/m$^2$)' % (bus, number_events, events_per_s_m2))\n",
    "    if number_events > 1:\n",
    "        mg_basic_plot.clusters_2d_plot(clusters_bus, title, vmin, vmax, duration)\n",
    "    \n",
    "    # Multiplicity\n",
    "    plt.subplot2grid((3, 2), (2, 1), colspan=1)\n",
    "    vmin=1e-4\n",
    "    vmax=1\n",
    "    if clusters_uf_bus.shape[0] > 1:\n",
    "        mg_basic_plot.multiplicity_plot_perc(clusters_uf_bus, bus, duration, vmin, vmax)\n",
    "    \n",
    "    plt.tight_layout()\n",
    "    fig.show()\n",
    "    \n",
    "    # Save data\n",
    "    output_path = animation_folder + str(time) + '.png'\n",
    "    fig.savefig(output_path, bbox_inches='tight')\n",
    "\n",
    "# Iterate\n",
    "times = np.arange(interval, 110, interval)\n",
    "for time in times:\n",
    "    plot_interactive(time)\n",
    "    \n",
    "# Animate\n",
    "output_path = '../output/time_sweep.gif'\n",
    "images = []\n",
    "files = os.listdir(animation_folder)\n",
    "files = [file[:-4] for file in files if file[-9:] != '.DS_Store' and file != '.gitignore']\n",
    "for file in sorted(files, key=int):\n",
    "    images.append(imageio.imread(animation_folder + file + '.png'))\n",
    "imageio.mimsave(output_path, images)\n",
    "shutil.rmtree(animation_folder, ignore_errors=True)"
   ]
  },
  {
   "cell_type": "markdown",
   "metadata": {},
   "source": [
    "## Gas flow resumed (SEQ.I)"
   ]
  },
  {
   "cell_type": "code",
   "execution_count": null,
   "metadata": {},
   "outputs": [],
   "source": [
    "# Create folder for animation\n",
    "animation_folder = '../output/animation/'\n",
    "shutil.rmtree(animation_folder, ignore_errors=True)\n",
    "mg_hf.mkdir_p(animation_folder)\n",
    "\n",
    "# Set tick size\n",
    "mg_hf.set_thick_labels(12)\n",
    "\n",
    "# Declare clusters and filters\n",
    "df_filter = mg_filter_no_edges_no_back\n",
    "clusters_unfiltered = clu_utgard_run_15\n",
    "\n",
    "# Filter clusters\n",
    "clusters = mg_read.filter_data(clusters_unfiltered, df_filter)\n",
    "    \n",
    "# Declare parameters\n",
    "min_time_in_hours = (clusters_unfiltered.time.values[0] * 62.5e-9) * (1/(60**2))\n",
    "max_time_in_hours = (clusters_unfiltered.time.values[-1] * 62.5e-9) * (1/(60**2))\n",
    "bus = 2\n",
    "area = 0.0225 * 0.0225 * 4 * 36\n",
    "\n",
    "# Only keep one bus\n",
    "clusters_bus_full = clusters[clusters.bus == bus]\n",
    "clusters_bus_uf_full = clusters_unfiltered[clusters_unfiltered.bus == bus]\n",
    "\n",
    "# Go to interactive mode\n",
    "#@interact(time=widgets.IntSlider(min=min_time_in_hours,max=max_time_in_hours,step=5,value=min_time_in_hours+5))\n",
    "interval = 2\n",
    "\n",
    "def plot_interactive(time):\n",
    "    # Filter bus clusters on time, +/- 5 hours\n",
    "    start_time = ((time-interval) * (60**2))/(62.5e-9)\n",
    "    stop_time = ((time+interval) * (60**2))/(62.5e-9)\n",
    "    clusters_bus = clusters_bus_full[(clusters_bus_full.time >= start_time) &\n",
    "                                     (clusters_bus_full.time <= stop_time)]\n",
    "    clusters_uf_bus = clusters_bus_uf_full[(clusters_bus_uf_full.time >= start_time) &\n",
    "                                           (clusters_bus_uf_full.time <= stop_time)]\n",
    "    \n",
    "    \n",
    "    # Calculate duration\n",
    "    duration = (clusters_uf_bus.time.values[-1] - clusters_uf_bus.time.values[0]) * 62.5e-9\n",
    "    \n",
    "    fig = plt.figure()\n",
    "    fig.set_figwidth(10)\n",
    "    fig.set_figheight(10)\n",
    "    # Plot full rate to use as reference\n",
    "    plt.subplot2grid((3, 2), (0, 0), colspan=2)\n",
    "    number_bins = 50\n",
    "    min_val, max_val = mg_basic_plot.rate_plot(clusters_bus_full, number_bins, bus, area)\n",
    "    plt.fill_betweenx([0, 0.1], time-interval, time+interval,\n",
    "                      color='red', alpha=0.5, zorder=10)\n",
    "    \n",
    "    # Rate \n",
    "    number_bins = 50\n",
    "    plt.subplot2grid((3, 2), (1, 0), colspan=1)\n",
    "    mg_basic_plot.rate_plot(clusters_bus, number_bins, bus, area)\n",
    "    plt.ylim(0, 0.1)\n",
    "    \n",
    "    # PHS - 1D\n",
    "    bins_phs_1d = 300\n",
    "    plt.subplot2grid((3, 2), (1, 1), colspan=1)\n",
    "    mg_basic_plot.phs_clusters_1d_plot(clusters_bus, clusters_uf_bus, bins_phs_1d, bus, duration)\n",
    "    plt.yscale('log')\n",
    "    plt.ylim(1e-5, 1)\n",
    "\n",
    "    # Coincidences - 2D\n",
    "    plt.subplot2grid((3, 2), (2, 0), colspan=1)\n",
    "    vmin=1e-4\n",
    "    vmax=1e-3\n",
    "    # Calculate number of events and rate in a specific bus\n",
    "    number_events = clusters_bus.shape[0]\n",
    "    events_per_s = number_events/duration\n",
    "    events_per_s_m2 = events_per_s/area\n",
    "    title = ('Bus %d\\n(%d events, %.6f events/s/m$^2$)' % (bus, number_events, events_per_s_m2))\n",
    "    if number_events > 1:\n",
    "        mg_basic_plot.clusters_2d_plot(clusters_bus, title, vmin, vmax, duration)\n",
    "    \n",
    "    # Multiplicity\n",
    "    plt.subplot2grid((3, 2), (2, 1), colspan=1)\n",
    "    vmin=1e-4\n",
    "    vmax=1\n",
    "    if clusters_uf_bus.shape[0] > 1:\n",
    "        mg_basic_plot.multiplicity_plot_perc(clusters_uf_bus, bus, duration, vmin, vmax)\n",
    "    \n",
    "    plt.tight_layout()\n",
    "    fig.show()\n",
    "    \n",
    "    # Save data\n",
    "    output_path = animation_folder + str(time) + '.png'\n",
    "    fig.savefig(output_path, bbox_inches='tight')\n",
    "\n",
    "# Iterate\n",
    "times = np.arange(interval, 25, interval)\n",
    "for time in times:\n",
    "    plot_interactive(time)\n",
    "    \n",
    "# Animate\n",
    "output_path = '../output/time_sweep.gif'\n",
    "images = []\n",
    "files = os.listdir(animation_folder)\n",
    "files = [file[:-4] for file in files if file[-9:] != '.DS_Store' and file != '.gitignore']\n",
    "for file in sorted(files, key=int):\n",
    "    images.append(imageio.imread(animation_folder + file + '.png'))\n",
    "imageio.mimsave(output_path, images)\n",
    "shutil.rmtree(animation_folder, ignore_errors=True)"
   ]
  },
  {
   "cell_type": "markdown",
   "metadata": {},
   "source": [
    "## Gas flow resumed (SEQ.II)"
   ]
  },
  {
   "cell_type": "code",
   "execution_count": null,
   "metadata": {},
   "outputs": [],
   "source": [
    "# Create folder for animation\n",
    "animation_folder = '../output/animation/'\n",
    "shutil.rmtree(animation_folder, ignore_errors=True)\n",
    "mg_hf.mkdir_p(animation_folder)\n",
    "\n",
    "# Set tick size\n",
    "mg_hf.set_thick_labels(12)\n",
    "\n",
    "# Declare clusters and filters\n",
    "df_filter = mg_filter_no_edges_no_back\n",
    "clusters_unfiltered = clu_utgard_run_15\n",
    "\n",
    "# Filter clusters\n",
    "clusters = mg_read.filter_data(clusters_unfiltered, df_filter)\n",
    "    \n",
    "# Declare parameters\n",
    "min_time_in_hours = (clusters_unfiltered.time.values[0] * 62.5e-9) * (1/(60**2))\n",
    "max_time_in_hours = (clusters_unfiltered.time.values[-1] * 62.5e-9) * (1/(60**2))\n",
    "bus = 0\n",
    "area = 0.0225 * 0.0225 * 4 * 36\n",
    "\n",
    "# Only keep one bus\n",
    "clusters_bus_full = clusters[clusters.bus == bus]\n",
    "clusters_bus_uf_full = clusters_unfiltered[clusters_unfiltered.bus == bus]\n",
    "\n",
    "# Go to interactive mode\n",
    "#@interact(time=widgets.IntSlider(min=min_time_in_hours,max=max_time_in_hours,step=5,value=min_time_in_hours+5))\n",
    "interval = 2\n",
    "\n",
    "def plot_interactive(time):\n",
    "    # Filter bus clusters on time, +/- 5 hours\n",
    "    start_time = ((time-interval) * (60**2))/(62.5e-9)\n",
    "    stop_time = ((time+interval) * (60**2))/(62.5e-9)\n",
    "    clusters_bus = clusters_bus_full[(clusters_bus_full.time >= start_time) &\n",
    "                                     (clusters_bus_full.time <= stop_time)]\n",
    "    clusters_uf_bus = clusters_bus_uf_full[(clusters_bus_uf_full.time >= start_time) &\n",
    "                                           (clusters_bus_uf_full.time <= stop_time)]\n",
    "    \n",
    "    \n",
    "    # Calculate duration\n",
    "    duration = (clusters_uf_bus.time.values[-1] - clusters_uf_bus.time.values[0]) * 62.5e-9\n",
    "    \n",
    "    fig = plt.figure()\n",
    "    fig.set_figwidth(10)\n",
    "    fig.set_figheight(10)\n",
    "    # Plot full rate to use as reference\n",
    "    plt.subplot2grid((3, 2), (0, 0), colspan=2)\n",
    "    number_bins = 50\n",
    "    min_val, max_val = mg_basic_plot.rate_plot(clusters_bus_full, number_bins, bus, area)\n",
    "    plt.fill_betweenx([0, 1], time-interval, time+interval,\n",
    "                      color='red', alpha=0.5, zorder=10)\n",
    "    \n",
    "    # Rate \n",
    "    number_bins = 50\n",
    "    plt.subplot2grid((3, 2), (1, 0), colspan=1)\n",
    "    mg_basic_plot.rate_plot(clusters_bus, number_bins, bus, area)\n",
    "    plt.ylim(0, 1)\n",
    "    \n",
    "    # PHS - 1D\n",
    "    bins_phs_1d = 300\n",
    "    plt.subplot2grid((3, 2), (1, 1), colspan=1)\n",
    "    mg_basic_plot.phs_clusters_1d_plot(clusters_bus, clusters_uf_bus, bins_phs_1d, bus, duration)\n",
    "    plt.yscale('log')\n",
    "    plt.ylim(1e-5, 1)\n",
    "\n",
    "    # Coincidences - 2D\n",
    "    plt.subplot2grid((3, 2), (2, 0), colspan=1)\n",
    "    vmin=1e-4\n",
    "    vmax=1e-3\n",
    "    # Calculate number of events and rate in a specific bus\n",
    "    number_events = clusters_bus.shape[0]\n",
    "    events_per_s = number_events/duration\n",
    "    events_per_s_m2 = events_per_s/area\n",
    "    title = ('Bus %d\\n(%d events, %.6f events/s/m$^2$)' % (bus, number_events, events_per_s_m2))\n",
    "    if number_events > 1:\n",
    "        mg_basic_plot.clusters_2d_plot(clusters_bus, title, vmin, vmax, duration)\n",
    "    \n",
    "    # Multiplicity\n",
    "    plt.subplot2grid((3, 2), (2, 1), colspan=1)\n",
    "    vmin=1e-4\n",
    "    vmax=1\n",
    "    if clusters_uf_bus.shape[0] > 1:\n",
    "        mg_basic_plot.multiplicity_plot_perc(clusters_uf_bus, bus, duration, vmin, vmax)\n",
    "    \n",
    "    plt.tight_layout()\n",
    "    fig.show()\n",
    "    \n",
    "    # Save data\n",
    "    output_path = animation_folder + str(time) + '.png'\n",
    "    fig.savefig(output_path, bbox_inches='tight')\n",
    "\n",
    "# Iterate\n",
    "times = np.arange(interval, 25, interval)\n",
    "for time in times:\n",
    "    plot_interactive(time)\n",
    "    \n",
    "# Animate\n",
    "output_path = '../output/time_sweep.gif'\n",
    "images = []\n",
    "files = os.listdir(animation_folder)\n",
    "files = [file[:-4] for file in files if file[-9:] != '.DS_Store' and file != '.gitignore']\n",
    "for file in sorted(files, key=int):\n",
    "    images.append(imageio.imread(animation_folder + file + '.png'))\n",
    "imageio.mimsave(output_path, images)\n",
    "shutil.rmtree(animation_folder, ignore_errors=True)"
   ]
  },
  {
   "cell_type": "markdown",
   "metadata": {},
   "source": [
    "## Gas flow resumed - part 2 (SEQ.I)"
   ]
  },
  {
   "cell_type": "code",
   "execution_count": null,
   "metadata": {},
   "outputs": [],
   "source": [
    "# Create folder for animation\n",
    "animation_folder = '../output/animation/'\n",
    "shutil.rmtree(animation_folder, ignore_errors=True)\n",
    "mg_hf.mkdir_p(animation_folder)\n",
    "\n",
    "# Set tick size\n",
    "mg_hf.set_thick_labels(12)\n",
    "\n",
    "# Declare clusters and filters\n",
    "df_filter = mg_filter_no_edges_no_back\n",
    "clusters_unfiltered = clu_utgard_run_16\n",
    "\n",
    "# Filter clusters\n",
    "clusters = mg_read.filter_data(clusters_unfiltered, df_filter)\n",
    "    \n",
    "# Declare parameters\n",
    "min_time_in_hours = (clusters_unfiltered.time.values[0] * 62.5e-9) * (1/(60**2))\n",
    "max_time_in_hours = (clusters_unfiltered.time.values[-1] * 62.5e-9) * (1/(60**2))\n",
    "bus = 2\n",
    "area = 0.0225 * 0.0225 * 4 * 36\n",
    "\n",
    "# Only keep one bus\n",
    "clusters_bus_full = clusters[clusters.bus == bus]\n",
    "clusters_bus_uf_full = clusters_unfiltered[clusters_unfiltered.bus == bus]\n",
    "\n",
    "# Go to interactive mode\n",
    "#@interact(time=widgets.IntSlider(min=min_time_in_hours,max=max_time_in_hours,step=5,value=min_time_in_hours+5))\n",
    "interval = 0.5\n",
    "\n",
    "def plot_interactive(time):\n",
    "    # Filter bus clusters on time, +/- 5 hours\n",
    "    start_time = ((time-interval) * (60**2))/(62.5e-9)\n",
    "    stop_time = ((time+interval) * (60**2))/(62.5e-9)\n",
    "    clusters_bus = clusters_bus_full[(clusters_bus_full.time >= start_time) &\n",
    "                                     (clusters_bus_full.time <= stop_time)]\n",
    "    clusters_uf_bus = clusters_bus_uf_full[(clusters_bus_uf_full.time >= start_time) &\n",
    "                                           (clusters_bus_uf_full.time <= stop_time)]\n",
    "    \n",
    "    \n",
    "    # Calculate duration\n",
    "    duration = (clusters_uf_bus.time.values[-1] - clusters_uf_bus.time.values[0]) * 62.5e-9\n",
    "    \n",
    "    fig = plt.figure()\n",
    "    fig.set_figwidth(10)\n",
    "    fig.set_figheight(10)\n",
    "    # Plot full rate to use as reference\n",
    "    plt.subplot2grid((3, 2), (0, 0), colspan=2)\n",
    "    number_bins = 50\n",
    "    min_val, max_val = mg_basic_plot.rate_plot(clusters_bus_full, number_bins, bus, area)\n",
    "    plt.fill_betweenx([0, 0.1], time-interval, time+interval,\n",
    "                      color='red', alpha=0.5, zorder=10)\n",
    "    \n",
    "    # Rate \n",
    "    number_bins = 50\n",
    "    plt.subplot2grid((3, 2), (1, 0), colspan=1)\n",
    "    mg_basic_plot.rate_plot(clusters_bus, number_bins, bus, area)\n",
    "    plt.ylim(0, 0.1)\n",
    "    \n",
    "    # PHS - 1D\n",
    "    bins_phs_1d = 300\n",
    "    plt.subplot2grid((3, 2), (1, 1), colspan=1)\n",
    "    mg_basic_plot.phs_clusters_1d_plot(clusters_bus, clusters_uf_bus, bins_phs_1d, bus, duration)\n",
    "    plt.yscale('log')\n",
    "    plt.ylim(1e-5, 1)\n",
    "\n",
    "    # Coincidences - 2D\n",
    "    plt.subplot2grid((3, 2), (2, 0), colspan=1)\n",
    "    vmin=1e-4\n",
    "    vmax=1e-3\n",
    "    # Calculate number of events and rate in a specific bus\n",
    "    number_events = clusters_bus.shape[0]\n",
    "    events_per_s = number_events/duration\n",
    "    events_per_s_m2 = events_per_s/area\n",
    "    title = ('Bus %d\\n(%d events, %.6f events/s/m$^2$)' % (bus, number_events, events_per_s_m2))\n",
    "    if number_events > 1:\n",
    "        mg_basic_plot.clusters_2d_plot(clusters_bus, title, vmin, vmax, duration)\n",
    "    \n",
    "    # Multiplicity\n",
    "    plt.subplot2grid((3, 2), (2, 1), colspan=1)\n",
    "    vmin=1e-4\n",
    "    vmax=1\n",
    "    if clusters_uf_bus.shape[0] > 1:\n",
    "        mg_basic_plot.multiplicity_plot_perc(clusters_uf_bus, bus, duration, vmin, vmax)\n",
    "    \n",
    "    plt.tight_layout()\n",
    "    fig.show()\n",
    "    \n",
    "    # Save data\n",
    "    output_path = animation_folder + str(time) + '.png'\n",
    "    fig.savefig(output_path, bbox_inches='tight')\n",
    "\n",
    "# Iterate\n",
    "times = np.arange(interval, 5, interval)\n",
    "for time in times:\n",
    "    plot_interactive(time)\n",
    "    \n",
    "# Animate\n",
    "output_path = '../output/time_sweep.gif'\n",
    "images = []\n",
    "files = os.listdir(animation_folder)\n",
    "files = [file[:-4] for file in files if file[-9:] != '.DS_Store' and file != '.gitignore']\n",
    "for file in sorted(files, key=float):\n",
    "    images.append(imageio.imread(animation_folder + file + '.png'))\n",
    "imageio.mimsave(output_path, images)\n",
    "shutil.rmtree(animation_folder, ignore_errors=True)"
   ]
  },
  {
   "cell_type": "markdown",
   "metadata": {},
   "source": [
    "## Top opened (SEQ.II)"
   ]
  },
  {
   "cell_type": "code",
   "execution_count": null,
   "metadata": {},
   "outputs": [],
   "source": [
    "# Create folder for animation\n",
    "animation_folder = '../output/animation/'\n",
    "shutil.rmtree(animation_folder, ignore_errors=True)\n",
    "mg_hf.mkdir_p(animation_folder)\n",
    "\n",
    "# Set tick size\n",
    "mg_hf.set_thick_labels(12)\n",
    "\n",
    "# Declare clusters and filters\n",
    "df_filter = mg_filter_no_edges_no_back\n",
    "clusters_unfiltered = clu_utgard_run_16\n",
    "\n",
    "# Filter clusters\n",
    "clusters = mg_read.filter_data(clusters_unfiltered, df_filter)\n",
    "    \n",
    "# Declare parameters\n",
    "min_time_in_hours = (clusters_unfiltered.time.values[0] * 62.5e-9) * (1/(60**2))\n",
    "max_time_in_hours = (clusters_unfiltered.time.values[-1] * 62.5e-9) * (1/(60**2))\n",
    "bus = 0\n",
    "area = 0.0225 * 0.0225 * 4 * 36\n",
    "\n",
    "# Only keep one bus\n",
    "clusters_bus_full = clusters[clusters.bus == bus]\n",
    "clusters_bus_uf_full = clusters_unfiltered[clusters_unfiltered.bus == bus]\n",
    "print(clusters_bus_uf_full)\n",
    "\n",
    "# Go to interactive mode\n",
    "#@interact(time=widgets.IntSlider(min=min_time_in_hours,max=max_time_in_hours,step=5,value=min_time_in_hours+5))\n",
    "interval = 0.05\n",
    "\n",
    "def plot_interactive(time):\n",
    "    # Filter bus clusters on time, +/- 5 hours\n",
    "    start_time = ((time-interval) * (60**2))/(62.5e-9)\n",
    "    stop_time = ((time+interval) * (60**2))/(62.5e-9)\n",
    "    clusters_bus = clusters_bus_full[(clusters_bus_full.time >= start_time) &\n",
    "                                     (clusters_bus_full.time <= stop_time)]\n",
    "    clusters_uf_bus = clusters_bus_uf_full[(clusters_bus_uf_full.time >= start_time) &\n",
    "                                           (clusters_bus_uf_full.time <= stop_time)]\n",
    "    \n",
    "    \n",
    "    # Calculate duration\n",
    "    duration = (clusters_uf_bus.time.values[-1] - clusters_uf_bus.time.values[0]) * 62.5e-9\n",
    "    \n",
    "    fig = plt.figure()\n",
    "    fig.set_figwidth(10)\n",
    "    fig.set_figheight(10)\n",
    "    # Plot full rate to use as reference\n",
    "    plt.subplot2grid((3, 2), (0, 0), colspan=2)\n",
    "    number_bins = 50\n",
    "    min_val, max_val = mg_basic_plot.rate_plot(clusters_bus_full, number_bins, bus, area)\n",
    "    plt.fill_betweenx([0, 0.7], time-interval, time+interval,\n",
    "                      color='red', alpha=0.5, zorder=10)\n",
    "    \n",
    "    # Rate \n",
    "    number_bins = 50\n",
    "    plt.subplot2grid((3, 2), (1, 0), colspan=1)\n",
    "    mg_basic_plot.rate_plot(clusters_bus, number_bins, bus, area)\n",
    "    plt.ylim(0, 0.7)\n",
    "    \n",
    "    # PHS - 1D\n",
    "    bins_phs_1d = 300\n",
    "    plt.subplot2grid((3, 2), (1, 1), colspan=1)\n",
    "    mg_basic_plot.phs_clusters_1d_plot(clusters_bus, clusters_uf_bus, bins_phs_1d, bus, duration)\n",
    "    plt.yscale('log')\n",
    "    plt.ylim(1e-5, 1)\n",
    "\n",
    "    # Coincidences - 2D\n",
    "    plt.subplot2grid((3, 2), (2, 0), colspan=1)\n",
    "    vmin=1e-4\n",
    "    vmax=1e-3\n",
    "    # Calculate number of events and rate in a specific bus\n",
    "    number_events = clusters_bus.shape[0]\n",
    "    events_per_s = number_events/duration\n",
    "    events_per_s_m2 = events_per_s/area\n",
    "    title = ('Bus %d\\n(%d events, %.6f events/s/m$^2$)' % (bus, number_events, events_per_s_m2))\n",
    "    if number_events > 1:\n",
    "        mg_basic_plot.clusters_2d_plot(clusters_bus, title, vmin, vmax, duration)\n",
    "    \n",
    "    # Multiplicity\n",
    "    plt.subplot2grid((3, 2), (2, 1), colspan=1)\n",
    "    vmin=1e-4\n",
    "    vmax=1\n",
    "    if clusters_uf_bus.shape[0] > 1:\n",
    "        mg_basic_plot.multiplicity_plot_perc(clusters_uf_bus, bus, duration, vmin, vmax)\n",
    "    \n",
    "    plt.tight_layout()\n",
    "    fig.show()\n",
    "    \n",
    "    # Save data\n",
    "    output_path = animation_folder + str(time) + '.png'\n",
    "    fig.savefig(output_path, bbox_inches='tight')\n",
    "\n",
    "# Iterate\n",
    "times = np.arange(interval, 1, interval)\n",
    "for time in times:\n",
    "    plot_interactive(time)\n",
    "    \n",
    "# Animate\n",
    "output_path = '../output/time_sweep.gif'\n",
    "images = []\n",
    "files = os.listdir(animation_folder)\n",
    "files = [file[:-4] for file in files if file[-9:] != '.DS_Store' and file != '.gitignore']\n",
    "for file in sorted(files, key=float):\n",
    "    images.append(imageio.imread(animation_folder + file + '.png'))\n",
    "imageio.mimsave(output_path, images)\n",
    "shutil.rmtree(animation_folder, ignore_errors=True)"
   ]
  },
  {
   "cell_type": "markdown",
   "metadata": {},
   "source": [
    "## utgard_run_17: (SEQ.I inside cave, SEQ.II vertical unshielded: top open?) Gas bottle ran out over weekend"
   ]
  },
  {
   "cell_type": "code",
   "execution_count": null,
   "metadata": {},
   "outputs": [],
   "source": [
    "# Declare parameters\n",
    "run = 'utgard_run_17'\n",
    "df_filter = mg_filter_no_edges_no_back\n",
    "clusters_unfiltered = clu_utgard_run_17\n",
    "interval = 1\n",
    "area = 0.0225 * 0.0225 * 4 * 36\n",
    "\n",
    "# SEQ.I\n",
    "#bus = 0\n",
    "#create_animation(run, clusters_unfiltered, bus, area, df_filter, interval)\n",
    "# SEQ.II\n",
    "#bus = 2\n",
    "#create_animation(run, clusters_unfiltered, bus, area, df_filter, interval)\n",
    "\n",
    "# SEQ.II\n",
    "bus = 3\n",
    "create_animation(run, clusters_unfiltered, bus, area, df_filter, interval)"
   ]
  },
  {
   "cell_type": "markdown",
   "metadata": {},
   "source": [
    "## utgard_run_18: (SEQ.I inside cave, SEQ.II vertical unshielded: top open?) Gas bottle ran out over weekend, run continued"
   ]
  },
  {
   "cell_type": "code",
   "execution_count": null,
   "metadata": {},
   "outputs": [],
   "source": [
    "# Declare parameters\n",
    "run = 'utgard_run_18'\n",
    "df_filter = mg_filter_no_edges_no_back\n",
    "clusters_unfiltered = clu_utgard_run_18\n",
    "interval = 1\n",
    "area = 0.0225 * 0.0225 * 4 * 36\n",
    "\n",
    "# SEQ.I\n",
    "bus = 0\n",
    "create_animation(run, clusters_unfiltered, bus, area, df_filter, interval)\n",
    "# SEQ.II\n",
    "bus = 2\n",
    "create_animation(run, clusters_unfiltered, bus, area, df_filter, interval)"
   ]
  },
  {
   "cell_type": "code",
   "execution_count": null,
   "metadata": {},
   "outputs": [],
   "source": []
  },
  {
   "cell_type": "markdown",
   "metadata": {},
   "source": [
    "## Summer 2019 vertical"
   ]
  },
  {
   "cell_type": "code",
   "execution_count": null,
   "metadata": {},
   "outputs": [],
   "source": [
    "# Create folder for animation\n",
    "animation_folder = '../output/animation/'\n",
    "shutil.rmtree(animation_folder, ignore_errors=True)\n",
    "mg_hf.mkdir_p(animation_folder)\n",
    "\n",
    "# Set tick size\n",
    "mg_hf.set_thick_labels(12)\n",
    "\n",
    "# Declare clusters and filters\n",
    "df_filter = mg_filter_no_edges_no_back\n",
    "clusters_unfiltered = clu_summer_run_14\n",
    "\n",
    "# Filter clusters\n",
    "clusters = mg_read.filter_data(clusters_unfiltered, df_filter)\n",
    "    \n",
    "# Declare parameters\n",
    "min_time_in_hours = (clusters_unfiltered.time.values[0] * 62.5e-9) * (1/(60**2))\n",
    "max_time_in_hours = (clusters_unfiltered.time.values[-1] * 62.5e-9) * (1/(60**2))\n",
    "bus_start = 0\n",
    "bus_stop = 2\n",
    "bus = 0\n",
    "area = 0.0225 * 0.0225 * 4 * 36\n",
    "\n",
    "# Only keep one bus\n",
    "clusters_bus_full = clusters[clusters.bus == bus]\n",
    "clusters_bus_uf_full = clusters_unfiltered[clusters_unfiltered.bus == bus]\n",
    "\n",
    "# Go to interactive mode\n",
    "#@interact(time=widgets.IntSlider(min=min_time_in_hours,max=max_time_in_hours,step=5,value=min_time_in_hours+5))\n",
    "interval = 2\n",
    "\n",
    "def plot_interactive(time):\n",
    "    # Filter bus clusters on time, +/- 5 hours\n",
    "    start_time = ((time-interval) * (60**2))/(62.5e-9)\n",
    "    stop_time = ((time+interval) * (60**2))/(62.5e-9)\n",
    "    clusters_bus = clusters_bus_full[(clusters_bus_full.time >= start_time) &\n",
    "                                     (clusters_bus_full.time <= stop_time)]\n",
    "    clusters_uf_bus = clusters_bus_uf_full[(clusters_bus_uf_full.time >= start_time) &\n",
    "                                           (clusters_bus_uf_full.time <= stop_time)]\n",
    "    \n",
    "    \n",
    "    # Calculate duration\n",
    "    duration = (clusters_uf_bus.time.values[-1] - clusters_uf_bus.time.values[0]) * 62.5e-9\n",
    "    \n",
    "    fig = plt.figure()\n",
    "    fig.set_figwidth(10)\n",
    "    fig.set_figheight(10)\n",
    "    # Plot full rate to use as reference\n",
    "    plt.subplot2grid((3, 2), (0, 0), colspan=2)\n",
    "    number_bins = 50\n",
    "    min_val, max_val = mg_basic_plot.rate_plot(clusters_bus_full, number_bins, bus, area)\n",
    "    plt.fill_betweenx([0, 0.4], time-interval, time+interval,\n",
    "                      color='red', alpha=0.5, zorder=10)\n",
    "    \n",
    "    # Rate \n",
    "    number_bins = 50\n",
    "    plt.subplot2grid((3, 2), (1, 0), colspan=1)\n",
    "    mg_basic_plot.rate_plot(clusters_bus, number_bins, bus, area)\n",
    "    plt.ylim(0, 0.4)\n",
    "    \n",
    "    # PHS - 1D\n",
    "    bins_phs_1d = 300\n",
    "    plt.subplot2grid((3, 2), (1, 1), colspan=1)\n",
    "    mg_basic_plot.phs_clusters_1d_plot(clusters_bus, clusters_uf_bus, bins_phs_1d, bus, duration)\n",
    "    plt.yscale('log')\n",
    "    plt.ylim(1e-5, 1e-1)\n",
    "\n",
    "    # Coincidences - 2D\n",
    "    plt.subplot2grid((3, 2), (2, 0), colspan=1)\n",
    "    vmin=1e-4\n",
    "    vmax=3e-3\n",
    "    # Calculate number of events and rate in a specific bus\n",
    "    number_events = clusters_bus.shape[0]\n",
    "    events_per_s = number_events/duration\n",
    "    events_per_s_m2 = events_per_s/area\n",
    "    title = ('Bus %d\\n(%d events, %.6f events/s/m$^2$)' % (bus, number_events, events_per_s_m2))\n",
    "    if number_events > 1:\n",
    "        mg_basic_plot.clusters_2d_plot(clusters_bus, title, vmin, vmax, duration)\n",
    "    \n",
    "    # Multiplicity\n",
    "    plt.subplot2grid((3, 2), (2, 1), colspan=1)\n",
    "    vmin=1e-4\n",
    "    vmax=1\n",
    "    if clusters_uf_bus.shape[0] > 1:\n",
    "        mg_basic_plot.multiplicity_plot_perc(clusters_uf_bus, bus, duration, vmin, vmax)\n",
    "    \n",
    "    plt.tight_layout()\n",
    "    fig.show()\n",
    "    \n",
    "    # Save data\n",
    "    output_path = animation_folder + str(time) + '.png'\n",
    "    fig.savefig(output_path, bbox_inches='tight')\n",
    "\n",
    "# Iterate\n",
    "times = np.arange(interval, 150, interval)\n",
    "for time in times:\n",
    "    plot_interactive(time)\n",
    "    \n",
    "# Animate\n",
    "output_path = '../output/time_sweep.gif'\n",
    "images = []\n",
    "files = os.listdir(animation_folder)\n",
    "files = [file[:-4] for file in files if file[-9:] != '.DS_Store' and file != '.gitignore']\n",
    "for file in sorted(files, key=int):\n",
    "    images.append(imageio.imread(animation_folder + file + '.png'))\n",
    "imageio.mimsave(output_path, images)\n",
    "shutil.rmtree(animation_folder, ignore_errors=True)"
   ]
  },
  {
   "cell_type": "markdown",
   "metadata": {},
   "source": [
    "# Temporary analysis"
   ]
  },
  {
   "cell_type": "code",
   "execution_count": null,
   "metadata": {},
   "outputs": [],
   "source": [
    "def get_mean_and_std(values):\n",
    "    mean = sum(values)/len(values)\n",
    "    std = np.sqrt((1/len(values)) * sum(((values - mean) ** 2)))\n",
    "    return mean, std\n",
    "\n",
    "ESS_CLB = np.array([0.004, 0.005, 0.004, 0.006, 0.006, 0.006, 0.008,\n",
    "                    0.0065, 0.0065, 0.0052, 0.0062, 0.007, 0.007, 0.0065])\n",
    "ESS_PA = np.array([0.0075, 0.010, 0.009, 0.0078, 0.009, 0.0105,\n",
    "                   0.013, 0.010, 0.0083, 0.009, 0.010, 0.0095, 0.011, 0.0115])\n",
    "fraction = ESS_CLB/ESS_PA\n",
    "mean, std = get_mean_and_std(fraction)\n",
    "print(mean, std)"
   ]
  },
  {
   "cell_type": "code",
   "execution_count": null,
   "metadata": {},
   "outputs": [],
   "source": [
    "d = np.array([1, 1, 1, 1, 1, 1, 1, 1])\n",
    "a = np.add.reduceat(d, np.arange(0, len(d), 2))\n",
    "print(a)\n"
   ]
  },
  {
   "cell_type": "code",
   "execution_count": null,
   "metadata": {},
   "outputs": [],
   "source": [
    "mg_hf.meV_to_A(30)"
   ]
  },
  {
   "cell_type": "markdown",
   "metadata": {},
   "source": [
    "# Consolidation of data"
   ]
  },
  {
   "cell_type": "code",
   "execution_count": null,
   "metadata": {},
   "outputs": [],
   "source": [
    "# Declare parameters\n",
    "run = 'utgard_run_14'\n",
    "df_filter = mg_filter_no_edges_no_back\n",
    "clusters_unfiltered = clu_utgard_run_14\n",
    "interval = 1\n",
    "area = 0.0225 * 0.0225 * 4 * 36\n",
    "\n",
    "# SEQ.II\n",
    "bus = 0\n",
    "create_animation(run, clusters_unfiltered, bus, area, df_filter, interval)\n",
    "# SEQ.I\n",
    "#bus = 2\n",
    "#create_animation(run, clusters_unfiltered, bus, area, df_filter, interval)"
   ]
  },
  {
   "cell_type": "code",
   "execution_count": null,
   "metadata": {},
   "outputs": [],
   "source": [
    "# Declare parameters\n",
    "run = 'summer_run_14'\n",
    "df_filter = mg_filter_no_edges_no_back\n",
    "clusters_unfiltered = clu_summer_run_14\n",
    "interval = 1\n",
    "area = 0.0225 * 0.0225 * 4 * 36\n",
    "\n",
    "# SEQ.I\n",
    "bus = 0\n",
    "create_animation(run, clusters_unfiltered, bus, area, df_filter, interval)\n",
    "# SEQ.II\n",
    "#bus = 2\n",
    "#create_animation(run, clusters_unfiltered, bus, area, df_filter, interval)"
   ]
  }
 ],
 "metadata": {
  "kernelspec": {
   "display_name": "Python 3",
   "language": "python",
   "name": "python3"
  },
  "language_info": {
   "codemirror_mode": {
    "name": "ipython",
    "version": 3
   },
   "file_extension": ".py",
   "mimetype": "text/x-python",
   "name": "python",
   "nbconvert_exporter": "python",
   "pygments_lexer": "ipython3",
   "version": "3.7.3"
  }
 },
 "nbformat": 4,
 "nbformat_minor": 2
}
