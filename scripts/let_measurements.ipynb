{
 "cells": [
  {
   "cell_type": "markdown",
   "metadata": {},
   "source": [
    "<font size=\"20\">\n",
    "\n",
    "# LET measurements, April 2020\n",
    "\n",
    "<font size=\"3\">\n",
    "    \n",
    "> __Author:__ A. Backis\n",
    "<br/>__Institute:__ European Spallation Source (ESS), University of Glasgow (UoG)\n",
    "<br/>__Date:__ 4/3-2020\n",
    "\n",
    "_Abstract:_\n",
    "This notebook contains the data-analysis tools used for the measurements at the LET instrument at ISIS. It describes how the analysis was performed, and summarizes the results."
   ]
  },
  {
   "cell_type": "markdown",
   "metadata": {},
   "source": [
    "# Contents\n",
    "    \n",
    "* [1. Introduction](#INTRODUCTION)\n",
    "    * [1.1 Packages](#PACKAGES)\n",
    "    * [1.2 Global parameters](#PACKAGES)\n",
    "* [2. Data](#DATA)\n",
    "    * [2.1 Descriptions](#EXTRACT)\n",
    "    * [2.2 Paths](#LOAD)\n",
    "    * [2.3 Extract](#FILTER)\n",
    "    * [2.4 Load](#FILTER)\n",
    "    * [2.5 Filter](#FILTER)\n",
    "    * [2.6 Plotting](#DATA)\n",
    "* [4. Utgård](#DATA)\n",
    "* [Acknowledgements](#ACKNOWLEDGEMENTS)\n",
    "* [References](#REFERENCES)"
   ]
  },
  {
   "cell_type": "markdown",
   "metadata": {},
   "source": [
    "# 1. Introduction"
   ]
  },
  {
   "cell_type": "markdown",
   "metadata": {},
   "source": [
    "This notebook summarizes the details of the measurements performed at the LET instrument, at ISIS, England. The notebook contains all details on the preparations leading up to the beam time on the 28:th and 29:th April 2020. This includes preparations at Utgård and initial background testing at ISIS."
   ]
  },
  {
   "cell_type": "markdown",
   "metadata": {},
   "source": [
    "## 1.1 Packages<a class=\"anchor\" id=\"PACKAGES\"></a>"
   ]
  },
  {
   "cell_type": "code",
   "execution_count": null,
   "metadata": {},
   "outputs": [],
   "source": [
    "# Autoload packages when doing an external change\n",
    "%load_ext autoreload\n",
    "%autoreload 2\n",
    "\n",
    "# General packages\n",
    "import os\n",
    "import numpy as np\n",
    "import pandas as pd\n",
    "import matplotlib.pyplot as plt\n",
    "from matplotlib.colors import LogNorm\n",
    "\n",
    "# Data handling\n",
    "import mg.file_handling.read as mg_read\n",
    "\n",
    "# Plotting\n",
    "import mg_let.basic_plot as mg_basic_plot\n",
    "\n",
    "# Helper functions\n",
    "import mg.helper_functions.misc as mg_hf\n",
    "\n",
    "# Make matplotlib interactive mode in notebook\n",
    "%matplotlib inline\n",
    "%matplotlib notebook"
   ]
  },
  {
   "cell_type": "markdown",
   "metadata": {},
   "source": [
    "## 1.2 Global parameters"
   ]
  },
  {
   "cell_type": "code",
   "execution_count": null,
   "metadata": {},
   "outputs": [],
   "source": [
    "US_TO_TDC = 1 / (62.5e-9 * 1e6)\n",
    "H_TO_TDC = 1 / ((62.5e-9) * 60*60)\n",
    "RAW_FOLDER = '../data/let/raw/'\n",
    "PROCESSED_FOLDER = '../data/let/processed/'"
   ]
  },
  {
   "cell_type": "markdown",
   "metadata": {},
   "source": [
    "# 2. Data"
   ]
  },
  {
   "cell_type": "markdown",
   "metadata": {},
   "source": [
    "## 2.1 Descriptions<a class=\"anchor\" id=\"EXTRACT\"></a>"
   ]
  },
  {
   "cell_type": "markdown",
   "metadata": {},
   "source": [
    "**Utgård - previous measurements**\n",
    "\n",
    "previous_1: SEQ.I background measurement, horizontal, unshielded\n",
    "> e-log: https://stf02.nuclear.lu.se/MG.CSPEC/106\n",
    "\n",
    "previous_2: SEQ.I, horizontal, shielded inside mirrobor+polyethylene cave\n",
    "> e-log: https://stf02.nuclear.lu.se/MG.CSPEC/107\n",
    "\n",
    "previous_3: SEQ.I, vertical, unshielded. Two detectors.\n",
    "> e-log: https://stf02.nuclear.lu.se/MG.CSPEC/108\n",
    "\n",
    "previous_4: SEQ.I & SEQ.II, horizontal, unshielded\n",
    "> e-log: https://stf02.nuclear.lu.se/MG.CSPEC/109\n",
    "\n",
    "previous_5: SEQ.I & SEQ.II, horizontal, unshielded\n",
    "> e-log: https://stf02.nuclear.lu.se/MG.CSPEC/110\n",
    "\n",
    "previous_6: SEQ.I, horizontal, Mirrorbor shielding front and back\n",
    "> e-log: https://stf02.nuclear.lu.se/MG.CSPEC/111\n",
    "\n",
    "previous_7: SEQ.II, horizontal, Mirrorbor+polyethylene shielding front and back\n",
    "> e-log: https://stf02.nuclear.lu.se/MG.CSPEC/112\n",
    "\n",
    "previous_8: SEQ.I, horizontal, inside new cave\n",
    "> e-log: https://stf02.nuclear.lu.se/MG.CSPEC/113\n",
    "\n",
    "\n",
    "\n",
    "**Utgård - preparation measurements**\n",
    "\n",
    "utgard_run_1: SEQ.I & SEQ.II, horizontal, mirrobor shielding front + sides\n",
    "> e-log: https://stf02.nuclear.lu.se/MG.CSPEC/103\n",
    "\n",
    "utgard_run_2: SEQ.I & SEQ.II, horizontal, mirrobor shielding front + sides\n",
    "> e-log: https://stf02.nuclear.lu.se/MG.CSPEC/104\n",
    "\n",
    "utgard_run_3: SEQ.I & SEQ.II, horizontal, no shielding\n",
    "> e-log: https://stf02.nuclear.lu.se/MG.CSPEC/105\n",
    "\n",
    "utgard_run_4: SEQ.I & SEQ.II, horizontal, mirrobor shielding with opening in the middle\n",
    "> e-log: https://stf02.nuclear.lu.se/MG.CSPEC/115\n",
    "\n",
    "utgard_run_5: SEQ.I & SEQ.II, horizontal, mirrobor shielding with opening at the top\n",
    "> e-log: https://stf02.nuclear.lu.se/MG.CSPEC/116\n",
    "\n",
    "utgard_run_6: SEQ.I & SEQ.II, horizontal, no shielding, test with T0-signal\n",
    "> e-log: \n",
    "\n",
    "**LET - preparation measurements**\n",
    "\n",
    "let_test_run_1: \n",
    "> e-log:\n",
    "\n",
    "**LET - beam time**\n",
    "\n",
    "let_beam_run_1:\n",
    "> e-log:\n"
   ]
  },
  {
   "cell_type": "markdown",
   "metadata": {},
   "source": [
    "## 2.2 Paths<a class=\"anchor\" id=\"EXTRACT\"></a>"
   ]
  },
  {
   "cell_type": "code",
   "execution_count": null,
   "metadata": {},
   "outputs": [],
   "source": [
    "''' Declare paths to data '''\n",
    "# UTGÅRD - PREVIOUS MEASUREMENTS\n",
    "PREVIOUS_PATHS = {'previous_run_1': RAW_FOLDER + 'mvmelst_042_noShielding_68h.zip',\n",
    "                  'previous_run_2': RAW_FOLDER + 'mvmelst_045_Shielding_1100V_114h22m.zip',\n",
    "                  'previous_run_3': RAW_FOLDER + 'mvmelst_078_2det_45h56m_1vertical.zip',\n",
    "                  \n",
    "                  'previous_run_4': RAW_FOLDER + 'mvmelst_171_191018_130129_First_SEQUOIA_II_Meauserement.zip',\n",
    "                  'previous_run_5': RAW_FOLDER + 'mvmelst_179_191118_065800_SEQUOIA_II_18_11_2019_to_20_11_2019_no_mirrorbor_shielding.zip',\n",
    "                  'previous_run_6': RAW_FOLDER + 'mvmelst_181_191120_100402_SEQUOIA__II_20_11_2019_to_22_11_2019_mirrorbor_shielding_top_and_bottom.zip',\n",
    "                  'previous_run_7': RAW_FOLDER + 'mvmelst_188_191203_101632_SEQUOIA_II_1350_V_03_12_2019_to_05_12_2019_SEQUOIA_II_shielded_with_polyethylene_and_mirrorbor_sides_and_front.zip',\n",
    "                  'previous_run_8': RAW_FOLDER + 'mvmelst_189_191205_093810_SEQUOIA_I_06_12_2019_to_09_12_2019_inside_new_cave.zip'\n",
    "                  }      \n",
    "\n",
    "# UTGÅRD - PREPARATION MEASUREMENTS\n",
    "UTGARD_PATHS = {'utgard_run_1': RAW_FOLDER + 'mvmelst_191_200305_111506_utgard_first_run.zip',\n",
    "                'utgard_run_2': RAW_FOLDER + 'mvmelst_193_200306_040827_mirrobor_covering_front_and_sides.zip',\n",
    "                'utgard_run_3': RAW_FOLDER + 'mvmelst_194_200307_102939_unshielded.zip',\n",
    "                'utgard_run_4': RAW_FOLDER + 'mvmelst_195_200309_033822_mirrorbor_shielding_opening_in_middle.zip',\n",
    "                'utgard_run_5': RAW_FOLDER + 'mvmelst_196_200311_121940_mirrorbor_shielding_opening_at_top.zip',\n",
    "                'utgard_run_6': RAW_FOLDER + 'mvmelst_197_200312_045631_unshielded_first_t0_test.zip',\n",
    "                'utgard_run_7': RAW_FOLDER + 'mvmelst_198_200312_075113_unshielded_second_t0_test.zip',\n",
    "                'utgard_run_8': RAW_FOLDER + 'mvmelst_199_200312_084636_unshielded_no_t0_signals_sent.zip'\n",
    "               }\n",
    "\n",
    "# UTGÅRD - ANTON BACKGROUND MEASUREMENTS\n",
    "ANTON_PATHS = {'anton_run_1': RAW_FOLDER + 'anton/' + 'mvmelst_030_Shielding_22h.zip',\n",
    "               'anton_run_2': RAW_FOLDER + 'anton/' + 'mvmelst_031_Shielding_1100V_28h.zip',\n",
    "               'anton_run_3': RAW_FOLDER + 'anton/' + 'mvmelst_032_Shielding_1100V_20h33m.zip',\n",
    "               'anton_run_4': RAW_FOLDER + 'anton/' + 'mvmelst_033_Shielding_1100V_1h20m.zip',\n",
    "               'anton_run_5': RAW_FOLDER + 'anton/' + 'mvmelst_034_NoShielding_1100V_70h17m.zip',\n",
    "               'anton_run_6': RAW_FOLDER + 'anton/' + 'mvmelst_035_Shielding_1100V_69h20m.zip',\n",
    "               'anton_run_7': RAW_FOLDER + 'anton/' + 'mvmelst_036_Shielding_1100V_28h.zip',\n",
    "               'anton_run_8': RAW_FOLDER + 'anton/' + 'mvmelst_037_Shielding_1100V_69h09m.zip',\n",
    "               'anton_run_9': RAW_FOLDER + 'anton/' + 'mvmelst_042_noShielding_68h.zip',\n",
    "               'anton_run_10': RAW_FOLDER + 'anton/' + 'mvmelst_042_NoShileding_1100V_286h49m.zip',\n",
    "               'anton_run_11': RAW_FOLDER + 'anton/' + 'mvmelst_043_Shielding_20h15m.zip',\n",
    "               'anton_run_12': RAW_FOLDER + 'anton/' + 'mvmelst_043_Shielding_1100V_49h18m.zip',\n",
    "               'anton_run_13': RAW_FOLDER + 'anton/' + 'mvmelst_045_Shielding_1100V_114h22m.zip',\n",
    "               'anton_run_14': RAW_FOLDER + 'anton/' + 'mvmelst_047_NoShielding_Upright_1100V_268h16m.zip',\n",
    "               'anton_run_15': RAW_FOLDER + 'anton/' + 'mvmelst_091_3det_69h34m.zip',\n",
    "               'anton_run_16': RAW_FOLDER + 'anton/' + 'mvmelst_078_2det_45h56m_1vertical.zip',\n",
    "               }      "
   ]
  },
  {
   "cell_type": "markdown",
   "metadata": {},
   "source": [
    "## 2.3 Extract<a class=\"anchor\" id=\"EXTRACT\"></a>"
   ]
  },
  {
   "cell_type": "code",
   "execution_count": null,
   "metadata": {},
   "outputs": [],
   "source": [
    "def extract_mg_data(zipped_path, clusters_save_path, events_save_path):\n",
    "    unzipped_path = mg_read.unzip_data(zipped_path)\n",
    "    data = mg_read.import_data(unzipped_path)\n",
    "    # Extract clusters and save to disc\n",
    "    clusters = mg_read.extract_clusters(data)\n",
    "    mg_read.save_data(clusters, clusters_save_path)\n",
    "    clusters = None\n",
    "    # Extract events and save to disc\n",
    "    events = mg_read.extract_events(data)\n",
    "    mg_read.save_data(events, events_save_path)\n",
    "    events = None\n",
    "    # Clear data\n",
    "    data = None"
   ]
  },
  {
   "cell_type": "code",
   "execution_count": null,
   "metadata": {},
   "outputs": [],
   "source": [
    "# Extract data, cluster, and save to file\n",
    "def extract_and_save(run, raw_path):\n",
    "    clusters_path = PROCESSED_FOLDER + run + '_clu.h5'\n",
    "    events_path = PROCESSED_FOLDER + run + '_ev.h5'\n",
    "    extract_mg_data(raw_path, clusters_path, events_path)"
   ]
  },
  {
   "cell_type": "markdown",
   "metadata": {},
   "source": [
    "### Extract data"
   ]
  },
  {
   "cell_type": "code",
   "execution_count": null,
   "metadata": {
    "scrolled": true
   },
   "outputs": [],
   "source": [
    "# UTGÅRD - PREVIOUS MEASUREMENTS\n",
    "#extract_and_save('previous_run_1', PREVIOUS_PATHS['previous_run_1'])\n",
    "#extract_and_save('previous_run_2', PREVIOUS_PATHS['previous_run_2'])\n",
    "#extract_and_save('previous_run_3', PREVIOUS_PATHS['previous_run_3'])\n",
    "#extract_and_save('previous_run_4', PREVIOUS_PATHS['previous_run_4'])\n",
    "#extract_and_save('previous_run_5', PREVIOUS_PATHS['previous_run_5'])\n",
    "#extract_and_save('previous_run_6', PREVIOUS_PATHS['previous_run_6'])\n",
    "#extract_and_save('previous_run_7', PREVIOUS_PATHS['previous_run_7'])\n",
    "#extract_and_save('previous_run_8', PREVIOUS_PATHS['previous_run_8'])\n",
    "\n",
    "# UTGÅRD - PREPARATION MEASUREMENTS\n",
    "#extract_and_save('utgard_run_1', UTGARD_PATHS['utgard_run_1'])\n",
    "#extract_and_save('utgard_run_2', UTGARD_PATHS['utgard_run_2'])\n",
    "#extract_and_save('utgard_run_3', UTGARD_PATHS['utgard_run_3'])\n",
    "#extract_and_save('utgard_run_4', UTGARD_PATHS['utgard_run_4'])\n",
    "#extract_and_save('utgard_run_5', UTGARD_PATHS['utgard_run_5'])\n",
    "#extract_and_save('utgard_run_6', UTGARD_PATHS['utgard_run_6'])\n",
    "#extract_and_save('utgard_run_7', UTGARD_PATHS['utgard_run_7'])\n",
    "extract_and_save('utgard_run_8', UTGARD_PATHS['utgard_run_8'])\n",
    "\n",
    "# UTGÅRD - ANTONS MEASUREMENTS\n",
    "#extract_and_save('anton_run_1', ANTON_PATHS['anton_run_1'])\n",
    "#extract_and_save('anton_run_2', ANTON_PATHS['anton_run_2'])\n",
    "#extract_and_save('anton_run_3', ANTON_PATHS['anton_run_3'])\n",
    "#extract_and_save('anton_run_4', ANTON_PATHS['anton_run_4'])\n",
    "#extract_and_save('anton_run_5', ANTON_PATHS['anton_run_5'])\n",
    "#extract_and_save('anton_run_6', ANTON_PATHS['anton_run_6'])\n",
    "#extract_and_save('anton_run_7', ANTON_PATHS['anton_run_7'])\n",
    "#extract_and_save('anton_run_8', ANTON_PATHS['anton_run_8'])\n",
    "#extract_and_save('anton_run_9', ANTON_PATHS['anton_run_9'])\n",
    "#extract_and_save('anton_run_10', ANTON_PATHS['anton_run_10'])\n",
    "#extract_and_save('anton_run_11', ANTON_PATHS['anton_run_11'])\n",
    "#extract_and_save('anton_run_12', ANTON_PATHS['anton_run_12'])\n",
    "#extract_and_save('anton_run_13', ANTON_PATHS['anton_run_13'])\n",
    "#extract_and_save('anton_run_14', ANTON_PATHS['anton_run_14'])\n",
    "#extract_and_save('anton_run_15', ANTON_PATHS['anton_run_15'])\n",
    "#extract_and_save('anton_run_16', ANTON_PATHS['anton_run_16'])"
   ]
  },
  {
   "cell_type": "markdown",
   "metadata": {},
   "source": [
    "## 2.4 Load<a class=\"anchor\" id=\"LOAD\"></a>"
   ]
  },
  {
   "cell_type": "code",
   "execution_count": null,
   "metadata": {},
   "outputs": [],
   "source": [
    "# Load clusters and events\n",
    "def load_clusters_and_events(run):\n",
    "    clusters_path = PROCESSED_FOLDER + run + '_clu.h5'\n",
    "    events_path = PROCESSED_FOLDER + run + '_ev.h5'\n",
    "    return mg_read.load_data(clusters_path), mg_read.load_data(events_path)"
   ]
  },
  {
   "cell_type": "markdown",
   "metadata": {},
   "source": [
    "### Load data"
   ]
  },
  {
   "cell_type": "code",
   "execution_count": null,
   "metadata": {
    "scrolled": true
   },
   "outputs": [],
   "source": [
    "# UTGÅRD - PREVIOUS MEASUREMENTS\n",
    "clu_previous_run_1, ev_previous_run_1 = load_clusters_and_events('previous_run_1')\n",
    "clu_previous_run_2, ev_previous_run_2 = load_clusters_and_events('previous_run_2')\n",
    "clu_previous_run_3, ev_previous_run_3 = load_clusters_and_events('previous_run_3')\n",
    "clu_previous_run_4, ev_previous_run_4 = load_clusters_and_events('previous_run_4')\n",
    "clu_previous_run_5, ev_previous_run_5 = load_clusters_and_events('previous_run_5')\n",
    "clu_previous_run_6, ev_previous_run_6 = load_clusters_and_events('previous_run_6')\n",
    "clu_previous_run_7, ev_previous_run_7 = load_clusters_and_events('previous_run_7')\n",
    "clu_previous_run_8, ev_previous_run_8 = load_clusters_and_events('previous_run_8')\n",
    "\n",
    "# UTGÅRD - PREPARATION MEASUREMENTs\n",
    "clu_utgard_run_1, ev_utgard_run_1 = load_clusters_and_events('utgard_run_1')\n",
    "clu_utgard_run_2, ev_utgard_run_2 = load_clusters_and_events('utgard_run_2')\n",
    "clu_utgard_run_3, ev_utgard_run_3 = load_clusters_and_events('utgard_run_3')\n",
    "clu_utgard_run_4, ev_utgard_run_4 = load_clusters_and_events('utgard_run_4')\n",
    "clu_utgard_run_5, ev_utgard_run_5 = load_clusters_and_events('utgard_run_5')\n",
    "clu_utgard_run_6, ev_utgard_run_6 = load_clusters_and_events('utgard_run_6')\n",
    "clu_utgard_run_7, ev_utgard_run_7 = load_clusters_and_events('utgard_run_7')\n",
    "clu_utgard_run_8, ev_utgard_run_8 = load_clusters_and_events('utgard_run_8')\n",
    "\n",
    "# UTGÅRD - ANTON MEASUREMENTS\n",
    "clu_anton_run_1, ev_anton_run_1 = load_clusters_and_events('anton_run_1')\n",
    "clu_anton_run_2, ev_anton_run_2 = load_clusters_and_events('anton_run_2')\n",
    "clu_anton_run_3, ev_anton_run_3 = load_clusters_and_events('anton_run_3')\n",
    "clu_anton_run_4, ev_anton_run_4 = load_clusters_and_events('anton_run_4')\n",
    "clu_anton_run_5, ev_anton_run_5 = load_clusters_and_events('anton_run_5')\n",
    "clu_anton_run_6, ev_anton_run_6 = load_clusters_and_events('anton_run_6')\n",
    "clu_anton_run_7, ev_anton_run_7 = load_clusters_and_events('anton_run_7')\n",
    "clu_anton_run_8, ev_anton_run_8 = load_clusters_and_events('anton_run_8')\n",
    "clu_anton_run_9, ev_anton_run_9 = load_clusters_and_events('anton_run_9')\n",
    "clu_anton_run_10, ev_anton_run_10 = load_clusters_and_events('anton_run_10')\n",
    "clu_anton_run_11, ev_anton_run_11 = load_clusters_and_events('anton_run_11')\n",
    "clu_anton_run_12, ev_anton_run_12 = load_clusters_and_events('anton_run_12')\n",
    "clu_anton_run_13, ev_anton_run_13 = load_clusters_and_events('anton_run_13')\n",
    "clu_anton_run_14, ev_anton_run_14 = load_clusters_and_events('anton_run_14')\n",
    "clu_anton_run_15, ev_anton_run_15 = load_clusters_and_events('anton_run_15')\n",
    "clu_anton_run_16, ev_anton_run_16 = load_clusters_and_events('anton_run_16')"
   ]
  },
  {
   "cell_type": "code",
   "execution_count": null,
   "metadata": {},
   "outputs": [],
   "source": []
  },
  {
   "cell_type": "markdown",
   "metadata": {},
   "source": [
    "## 2.5 Filters<a class=\"anchor\" id=\"FILTER\"></a>"
   ]
  },
  {
   "cell_type": "code",
   "execution_count": null,
   "metadata": {},
   "outputs": [],
   "source": [
    "\"\"\"\n",
    "Filters are declared in the following format:\n",
    "{'PARAMETER': [MIN_VALUE, MAX_VALUE, IS_ACTIVATE]}\n",
    "\"\"\"\n",
    "\n",
    "# Declare filter for multi-grid clusters\n",
    "mg_basic_filter = {'wm': [1, 1, True],                   # Wire multiplicity\n",
    "                   'gm': [1, 5, True],                   # Grid multiplicity\n",
    "                   'wadc': [600, np.inf, True],          # Wire charge\n",
    "                   'gadc': [600, np.inf, True],          # Grid charge\n",
    "                   'tof': [0, np.inf, True],             # Time-of-flight (TDC channels)\n",
    "                   'time': [0, np.inf, True],            # Time (TDC channels)\n",
    "                   'bus': [0, 8, True],                  # Bus\n",
    "                   'flag': [0, 1, False],                # =1 if different buses within same coincidence\n",
    "                   'layer': [0, 19, False],              # Layer, front=0 to back=19\n",
    "                   'row': [0, 11, False],                # Row, right to left (seen from neutrons)\n",
    "                   'gch': [80, 119, True]}               # Grid channel, bottom=80 to top=119\n",
    "\n",
    "# Declare filter for multi-grid clusters\n",
    "mg_low_adc_filter = {'wm': [1, 1, True],                   # Wire multiplicity\n",
    "                   'gm': [1, 5, True],                   # Grid multiplicity\n",
    "                   'wadc': [0, np.inf, True],          # Wire charge\n",
    "                   'gadc': [0, np.inf, True],          # Grid charge\n",
    "                   'tof': [0, np.inf, True],             # Time-of-flight (TDC channels)\n",
    "                   'time': [0, np.inf, True],            # Time (TDC channels)\n",
    "                   'bus': [0, 8, True],                  # Bus\n",
    "                   'flag': [0, 1, False],                # =1 if different buses within same coincidence\n",
    "                   'layer': [0, 19, False],              # Layer, front=0 to back=19\n",
    "                   'row': [0, 11, False],                # Row, right to left (seen from neutrons)\n",
    "                   'gch': [80, 119, True]}               # Grid channel, bottom=80 to top=119\n",
    "\n",
    "# Declare filter for multi-grid clusters\n",
    "mg_high_adc_filter = {'wm': [1, 1, True],                   # Wire multiplicity\n",
    "                   'gm': [1, 5, True],                   # Grid multiplicity\n",
    "                   'wadc': [800, np.inf, True],          # Wire charge\n",
    "                   'gadc': [800, np.inf, True],          # Grid charge\n",
    "                   'tof': [0, np.inf, True],             # Time-of-flight (TDC channels)\n",
    "                   'time': [0, np.inf, True],            # Time (TDC channels)\n",
    "                   'bus': [0, 8, True],                  # Bus\n",
    "                   'flag': [0, 1, False],                # =1 if different buses within same coincidence\n",
    "                   'layer': [0, 19, False],              # Layer, front=0 to back=19\n",
    "                   'row': [0, 11, False],                # Row, right to left (seen from neutrons)\n",
    "                   'gch': [80, 119, True]}               # Grid channel, bottom=80 to top=119\n",
    "\n",
    "# Declare filter for multi-grid clusters\n",
    "mg_filter_no_edges = {'wm': [1, 1, True],                   # Wire multiplicity\n",
    "                   'gm': [1, 5, True],                   # Grid multiplicity\n",
    "                   'wadc': [600, np.inf, True],          # Wire charge\n",
    "                   'gadc': [600, np.inf, True],          # Grid charge\n",
    "                   'tof': [0, np.inf, True],             # Time-of-flight (TDC channels)\n",
    "                   'time': [0, np.inf, True],            # Time (TDC channels)\n",
    "                   'bus': [0, 8, True],                  # Bus\n",
    "                   'flag': [0, 1, False],                # =1 if different buses within same coincidence\n",
    "                   'layer': [0, 19, False],              # Layer, front=0 to back=19\n",
    "                   'row': [0, 11, False],                # Row, right to left (seen from neutrons)\n",
    "                   'gch': [82, 117, True]}               # Grid channel, bottom=80 to top=119"
   ]
  },
  {
   "cell_type": "markdown",
   "metadata": {},
   "source": [
    "## 2.6 Plotting<a class=\"anchor\" id=\"FILTER\"></a>"
   ]
  },
  {
   "cell_type": "code",
   "execution_count": null,
   "metadata": {},
   "outputs": [],
   "source": [
    "def plot_basic(run, clusters_unfiltered, events, df_filter, bus_start, bus_stop, number_rows, area):\n",
    "    mg_hf.set_thick_labels(12)\n",
    "    \n",
    "    # Filter clusters\n",
    "    clusters = mg_read.filter_data(clusters_unfiltered, df_filter)\n",
    "    \n",
    "    # Declare parameters\n",
    "    duration = (clusters.time.values[-1] - clusters.time.values[0]) * 62.5e-9\n",
    "    \n",
    "    # PHS - 1D\n",
    "    vmin = None\n",
    "    vmax = None\n",
    "    bins_phs_1d = 100\n",
    "    fig = plt.figure()\n",
    "    fig.set_figwidth(10)\n",
    "    fig.set_figheight(3*number_rows)\n",
    "    for bus in np.arange(bus_start, bus_stop+1, 1):\n",
    "        plt.subplot(number_rows, 3, bus+1)\n",
    "        events_bus = events[events.bus == bus]\n",
    "        mg_basic_plot.phs_1d_plot(events_bus, bins_phs_1d, bus, vmin, vmax)\n",
    "        #plt.yscale('log')\n",
    "    plt.tight_layout()\n",
    "    fig.show()\n",
    "    \n",
    "    # Save data\n",
    "    #output_path = '../output/%s_phs_1d.png' % run\n",
    "    #fig.savefig(output_path, bbox_inches='tight')\n",
    "    \n",
    "    # PHS - 2D\n",
    "    vmin = 1\n",
    "    vmax = events.shape[0] // 1000 + 100\n",
    "    fig = plt.figure()\n",
    "    fig.set_figwidth(10)\n",
    "    fig.set_figheight(3*number_rows)\n",
    "    for bus in np.arange(bus_start, bus_stop+1, 1):\n",
    "        plt.subplot(number_rows, 3, bus+1)\n",
    "        events_bus = events[events.bus == bus]\n",
    "        if events_bus.shape[0] > 0:\n",
    "            mg_basic_plot.phs_2d_plot(events_bus, bus, vmin, vmax)\n",
    "    plt.tight_layout()\n",
    "    fig.show()\n",
    "    \n",
    "    # Save data\n",
    "    #output_path = '../output/%s_phs_2d.png' % run\n",
    "    #fig.savefig(output_path, bbox_inches='tight')\n",
    "    \n",
    "    # Coincidences - 2D\n",
    "    fig = plt.figure()\n",
    "    fig.set_figwidth(10)\n",
    "    fig.set_figheight(3*number_rows)\n",
    "    if clusters.shape[0] != 0:\n",
    "        vmin = 1\n",
    "        vmax = clusters.shape[0] // 450 + 5\n",
    "    else:\n",
    "        duration = 1\n",
    "        vmin = 1\n",
    "        vmax = 1\n",
    "    for bus in np.arange(bus_start, bus_stop+1, 1):\n",
    "        plt.subplot(number_rows, 3, bus+1)\n",
    "        clusters_bus = clusters[clusters.bus == bus]\n",
    "        # Calculate number of events and rate in a specific bus\n",
    "        number_events = clusters_bus.shape[0]\n",
    "        events_per_s = number_events/duration\n",
    "        events_per_s_m2 = events_per_s/area\n",
    "        title = ('Bus %d\\n(%d events, %.6f events/s/m$^2$)' % (bus, number_events, events_per_s_m2))\n",
    "        if number_events > 0:\n",
    "            mg_basic_plot.clusters_2d_plot(clusters_bus, title, vmin, vmax)\n",
    "    plt.tight_layout()\n",
    "    fig.show()\n",
    "    \n",
    "    # Save data\n",
    "    #output_path = '../output/%s_coincidences_2d.png' % run\n",
    "    #fig.savefig(output_path, bbox_inches='tight')\n",
    "    \n",
    "    # Coincidences - PHS\n",
    "    fig = plt.figure()\n",
    "    fig.set_figwidth(10)\n",
    "    fig.set_figheight(3*number_rows)\n",
    "    if clusters.shape[0] != 0:\n",
    "        vmin = 1\n",
    "        vmax = clusters.shape[0] // 450 + 1000\n",
    "    else:\n",
    "        duration = 1\n",
    "        vmin = 1\n",
    "        vmax = 1\n",
    "    for bus in np.arange(bus_start, bus_stop+1, 1):\n",
    "        plt.subplot(number_rows, 3, bus+1)\n",
    "        clusters_bus = clusters[clusters.bus == bus]\n",
    "        if clusters_bus.shape[0] > 0:\n",
    "            mg_basic_plot.clusters_phs_plot(clusters_bus, bus, vmin, vmax)\n",
    "    plt.tight_layout()\n",
    "    fig.show()\n",
    "    \n",
    "    # Save data\n",
    "    #output_path = '../output/%s_coincidences_phs.png' % run\n",
    "    #fig.savefig(output_path, bbox_inches='tight')\n",
    "    \n",
    "    # Rate \n",
    "    number_bins = 50\n",
    "    fig = plt.figure()\n",
    "    fig.set_figwidth(10)\n",
    "    fig.set_figheight(3*number_rows)\n",
    "    for bus in np.arange(bus_start, bus_stop+1, 1):\n",
    "        plt.subplot(number_rows, 3, bus+1)\n",
    "        clusters_bus = clusters[clusters.bus == bus]\n",
    "        mg_basic_plot.rate_plot(clusters_bus, number_bins, bus, area)\n",
    "    plt.tight_layout()\n",
    "    fig.show()\n",
    "    \n",
    "    # Save data\n",
    "    #output_path = '../output/%s_rate.png' % run\n",
    "    #fig.savefig(output_path, bbox_inches='tight')\n",
    "    \n",
    "    \n",
    "    # TIME-OF-FLIGHT\n",
    "    number_bins = 300\n",
    "    fig = plt.figure()\n",
    "    fig.set_figwidth(10)\n",
    "    fig.set_figheight(3*number_rows)\n",
    "    for bus in np.arange(bus_start, bus_stop+1, 1):\n",
    "        plt.subplot(number_rows, 3, bus+1)\n",
    "        clusters_bus = clusters[clusters.bus == bus]\n",
    "        mg_basic_plot.tof_histogram(clusters_bus, number_bins, bus)\n",
    "    plt.tight_layout()\n",
    "    fig.show()"
   ]
  },
  {
   "cell_type": "markdown",
   "metadata": {},
   "source": [
    "# 3. Utgård - previous measurements"
   ]
  },
  {
   "cell_type": "markdown",
   "metadata": {},
   "source": [
    "## previous_run_1 (Anton, SEQ.I, unshielded, horizontal)"
   ]
  },
  {
   "cell_type": "code",
   "execution_count": null,
   "metadata": {
    "scrolled": false
   },
   "outputs": [],
   "source": [
    "area = 0.0225*0.0225*4*40\n",
    "plot_basic('previous_run_1', clu_previous_run_1, ev_previous_run_1, mg_filter_no_edges, 0, 2, 1, area)"
   ]
  },
  {
   "cell_type": "markdown",
   "metadata": {},
   "source": [
    "## previous_run_2 (Anton, SEQ.I, inside cave, horizontal)"
   ]
  },
  {
   "cell_type": "code",
   "execution_count": null,
   "metadata": {
    "scrolled": false
   },
   "outputs": [],
   "source": [
    "area = 0.0225*0.0225*4*40\n",
    "plot_basic('previous_run_2', clu_previous_run_2, ev_previous_run_2, mg_filter_no_edges, 0, 2, 1, area)"
   ]
  },
  {
   "cell_type": "markdown",
   "metadata": {},
   "source": [
    "## previous_run_3 (Anton, SEQ.I, unshielded, vertical)"
   ]
  },
  {
   "cell_type": "code",
   "execution_count": null,
   "metadata": {
    "scrolled": true
   },
   "outputs": [],
   "source": [
    "area = 0.0225*0.0225*4*40\n",
    "plot_basic('previous_run_3', clu_previous_run_3, ev_previous_run_3, mg_basic_filter, 0, 5, 2, area)"
   ]
  },
  {
   "cell_type": "markdown",
   "metadata": {},
   "source": [
    "## previous_run_4 (SEQ.II, unshielded, horizontal, first run)"
   ]
  },
  {
   "cell_type": "code",
   "execution_count": null,
   "metadata": {
    "scrolled": false
   },
   "outputs": [],
   "source": [
    "area = 0.0225*0.0225*4*40\n",
    "plot_basic('previous_run_4', clu_previous_run_4, ev_previous_run_4, mg_basic_filter, 0, 5, 2, area)"
   ]
  },
  {
   "cell_type": "markdown",
   "metadata": {},
   "source": [
    "## previous_run_5 (SEQ.I, unshielded, horizontal)"
   ]
  },
  {
   "cell_type": "code",
   "execution_count": null,
   "metadata": {
    "scrolled": false
   },
   "outputs": [],
   "source": [
    "area = 0.0225*0.0225*4*40\n",
    "plot_basic('previous_run_5', clu_previous_run_5, ev_previous_run_5, mg_basic_filter, 0, 5, 2, area)"
   ]
  },
  {
   "cell_type": "markdown",
   "metadata": {},
   "source": [
    "## previous_run_6 (SEQ.I, mirrobor shielding, horizontal)"
   ]
  },
  {
   "cell_type": "code",
   "execution_count": null,
   "metadata": {
    "scrolled": false
   },
   "outputs": [],
   "source": [
    "area = 0.0225*0.0225*4*40\n",
    "plot_basic('previous_run_6', clu_previous_run_6, ev_previous_run_6, mg_basic_filter, 0, 5, 2, area)"
   ]
  },
  {
   "cell_type": "markdown",
   "metadata": {},
   "source": [
    "## previous_run_7 (SEQ.II, mirrorbor+polyethylene, horizontal)"
   ]
  },
  {
   "cell_type": "code",
   "execution_count": null,
   "metadata": {
    "scrolled": true
   },
   "outputs": [],
   "source": [
    "area = 0.0225*0.0225*4*40\n",
    "plot_basic('previous_run_7', clu_previous_run_7, ev_previous_run_7, mg_basic_filter, 0, 5, 2, area)"
   ]
  },
  {
   "cell_type": "markdown",
   "metadata": {},
   "source": [
    "## previous_run_8 (SEQ.I, new cave, horizontal)"
   ]
  },
  {
   "cell_type": "code",
   "execution_count": null,
   "metadata": {
    "scrolled": false
   },
   "outputs": [],
   "source": [
    "area = 0.0225*0.0225*4*36\n",
    "plot_basic('previous_run_8', clu_previous_run_8, ev_previous_run_8, mg_filter_no_edges, 0, 5, 2, area)"
   ]
  },
  {
   "cell_type": "markdown",
   "metadata": {},
   "source": [
    "# 4. Utgård - preparations measurements"
   ]
  },
  {
   "cell_type": "markdown",
   "metadata": {},
   "source": [
    "## utgard_run_1 (SEQ.I and SEQ.II, shielded with Mirrobor, horizontal)"
   ]
  },
  {
   "cell_type": "code",
   "execution_count": null,
   "metadata": {},
   "outputs": [],
   "source": [
    "%matplotlib notebook"
   ]
  },
  {
   "cell_type": "code",
   "execution_count": null,
   "metadata": {
    "scrolled": true
   },
   "outputs": [],
   "source": [
    "area = 0.0225*0.0225*4*40\n",
    "plot_basic('utgard_run_1', clu_utgard_run_1, ev_utgard_run_1, mg_high_adc_filter_no_edges, 0, 5, 2, area)"
   ]
  },
  {
   "cell_type": "markdown",
   "metadata": {},
   "source": [
    "## utgard_run_2 (SEQ.I and SEQ.II, shielded with Mirrobor, horizontal)"
   ]
  },
  {
   "cell_type": "code",
   "execution_count": null,
   "metadata": {
    "scrolled": false
   },
   "outputs": [],
   "source": [
    "area = 0.0225*0.0225*4*36\n",
    "plot_basic('utgard_run_2', clu_utgard_run_2, ev_utgard_run_2, mg_filter_no_edges, 0, 5, 2, area)"
   ]
  },
  {
   "cell_type": "markdown",
   "metadata": {},
   "source": [
    "## utgard_run_3 (SEQ.I and SEQ.II, unshielded, horizontal)"
   ]
  },
  {
   "cell_type": "code",
   "execution_count": null,
   "metadata": {
    "scrolled": false
   },
   "outputs": [],
   "source": [
    "area = 0.0225*0.0225*4*36\n",
    "plot_basic('utgard_run_3', clu_utgard_run_3, ev_utgard_run_3, mg_filter_no_edges, 0, 5, 2, area)"
   ]
  },
  {
   "cell_type": "markdown",
   "metadata": {},
   "source": [
    "## utgard_run_4 (SEQ.I and SEQ.II, shielded with opening in middle, horizontal)"
   ]
  },
  {
   "cell_type": "code",
   "execution_count": null,
   "metadata": {
    "scrolled": false
   },
   "outputs": [],
   "source": [
    "area = 0.0225*0.0225*4*40\n",
    "plot_basic('utgard_run_4', clu_utgard_run_4, ev_utgard_run_4, mg_high_adc_filter, 0, 5, 2, area)"
   ]
  },
  {
   "cell_type": "markdown",
   "metadata": {},
   "source": [
    "## utgard_run_5 (SEQ.I and SEQ.II, shielded with opening at top, horizontal)"
   ]
  },
  {
   "cell_type": "code",
   "execution_count": null,
   "metadata": {
    "scrolled": true
   },
   "outputs": [],
   "source": [
    "area = 0.0225*0.0225*4*40\n",
    "plot_basic('utgard_run_5', clu_utgard_run_5, ev_utgard_run_5, mg_high_adc_filter, 0, 5, 2, area)"
   ]
  },
  {
   "cell_type": "code",
   "execution_count": null,
   "metadata": {
    "scrolled": false
   },
   "outputs": [],
   "source": [
    "area = 0.0225*0.0225*4*40\n",
    "plot_basic('utgard_run_6', clu_utgard_run_6, ev_utgard_run_6, mg_high_adc_filter, 0, 5, 2, area)"
   ]
  },
  {
   "cell_type": "code",
   "execution_count": null,
   "metadata": {
    "scrolled": false
   },
   "outputs": [],
   "source": [
    "area = 0.0225*0.0225*4*40\n",
    "plot_basic('utgard_run_7', clu_utgard_run_7, ev_utgard_run_7, mg_filter_no_edges, 0, 5, 2, area)"
   ]
  },
  {
   "cell_type": "code",
   "execution_count": null,
   "metadata": {
    "scrolled": false
   },
   "outputs": [],
   "source": [
    "area = 0.0225*0.0225*4*36\n",
    "plot_basic('utgard_run_8', clu_utgard_run_8, ev_utgard_run_8, mg_filter_no_edges, 0, 5, 2, area)\n",
    "print(clu_utgard_run_8)"
   ]
  },
  {
   "cell_type": "markdown",
   "metadata": {},
   "source": [
    "# 5. Utgård - Antons measurements"
   ]
  },
  {
   "cell_type": "code",
   "execution_count": null,
   "metadata": {
    "scrolled": false
   },
   "outputs": [],
   "source": [
    "%matplotlib notebook\n",
    "area = 0.0225*0.0225*4*36\n",
    "plot_basic('anton_run_1', clu_anton_run_1, ev_anton_run_1, mg_filter_no_edges, 0, 2, 1, area)"
   ]
  },
  {
   "cell_type": "code",
   "execution_count": null,
   "metadata": {
    "scrolled": false
   },
   "outputs": [],
   "source": [
    "area = 0.0225*0.0225*4*36\n",
    "plot_basic('anton_run_2', clu_anton_run_2, ev_anton_run_2, mg_filter_no_edges, 0, 2, 1, area)"
   ]
  },
  {
   "cell_type": "code",
   "execution_count": null,
   "metadata": {
    "scrolled": false
   },
   "outputs": [],
   "source": [
    "area = 0.0225*0.0225*4*36\n",
    "plot_basic('anton_run_3', clu_anton_run_3, ev_anton_run_3, mg_filter_no_edges, 0, 2, 1, area)"
   ]
  },
  {
   "cell_type": "code",
   "execution_count": null,
   "metadata": {
    "scrolled": false
   },
   "outputs": [],
   "source": [
    "area = 0.0225*0.0225*4*36\n",
    "plot_basic('anton_run_4', clu_anton_run_4, ev_anton_run_4, mg_filter_no_edges, 0, 2, 1, area)"
   ]
  },
  {
   "cell_type": "code",
   "execution_count": null,
   "metadata": {
    "scrolled": false
   },
   "outputs": [],
   "source": [
    "area = 0.0225*0.0225*4*36\n",
    "plot_basic('anton_run_5', clu_anton_run_5, ev_anton_run_5, mg_filter_no_edges, 0, 2, 1, area)"
   ]
  },
  {
   "cell_type": "code",
   "execution_count": null,
   "metadata": {
    "scrolled": false
   },
   "outputs": [],
   "source": [
    "area = 0.0225*0.0225*4*36\n",
    "plot_basic('anton_run_6', clu_anton_run_6, ev_anton_run_6, mg_filter_no_edges, 0, 2, 1, area)"
   ]
  },
  {
   "cell_type": "code",
   "execution_count": null,
   "metadata": {
    "scrolled": false
   },
   "outputs": [],
   "source": [
    "area = 0.0225*0.0225*4*36\n",
    "plot_basic('anton_run_7', clu_anton_run_7, ev_anton_run_7, mg_filter_no_edges, 0, 2, 1, area)"
   ]
  },
  {
   "cell_type": "code",
   "execution_count": null,
   "metadata": {
    "scrolled": false
   },
   "outputs": [],
   "source": [
    "area = 0.0225*0.0225*4*36\n",
    "plot_basic('anton_run_8', clu_anton_run_8, ev_anton_run_8, mg_filter_no_edges, 0, 2, 1, area)"
   ]
  },
  {
   "cell_type": "code",
   "execution_count": null,
   "metadata": {
    "scrolled": false
   },
   "outputs": [],
   "source": [
    "area = 0.0225*0.0225*4*36\n",
    "plot_basic('anton_run_9', clu_anton_run_9, ev_anton_run_9, mg_filter_no_edges, 0, 2, 1, area)"
   ]
  },
  {
   "cell_type": "code",
   "execution_count": null,
   "metadata": {
    "scrolled": false
   },
   "outputs": [],
   "source": [
    "area = 0.0225*0.0225*4*36\n",
    "plot_basic('anton_run_10', clu_anton_run_10, ev_anton_run_10, mg_filter_no_edges, 0, 2, 1, area)"
   ]
  },
  {
   "cell_type": "code",
   "execution_count": null,
   "metadata": {
    "scrolled": false
   },
   "outputs": [],
   "source": [
    "area = 0.0225*0.0225*4*36\n",
    "plot_basic('anton_run_11', clu_anton_run_11, ev_anton_run_11, mg_filter_no_edges, 0, 2, 1, area)"
   ]
  },
  {
   "cell_type": "code",
   "execution_count": null,
   "metadata": {
    "scrolled": false
   },
   "outputs": [],
   "source": [
    "area = 0.0225*0.0225*4*36\n",
    "plot_basic('anton_run_12', clu_anton_run_12, ev_anton_run_12, mg_filter_no_edges, 0, 2, 1, area)"
   ]
  },
  {
   "cell_type": "code",
   "execution_count": null,
   "metadata": {
    "scrolled": false
   },
   "outputs": [],
   "source": [
    "area = 0.0225*0.0225*4*36\n",
    "plot_basic('anton_run_13', clu_anton_run_13, ev_anton_run_13, mg_filter_no_edges, 0, 2, 1, area)"
   ]
  },
  {
   "cell_type": "code",
   "execution_count": null,
   "metadata": {
    "scrolled": false
   },
   "outputs": [],
   "source": [
    "area = 0.0225*0.0225*4*36\n",
    "plot_basic('anton_run_14', clu_anton_run_14, ev_anton_run_14, mg_filter_no_edges, 0, 2, 1, area)"
   ]
  },
  {
   "cell_type": "code",
   "execution_count": null,
   "metadata": {
    "scrolled": false
   },
   "outputs": [],
   "source": [
    "area = 0.0225*0.0225*4*36\n",
    "#plot_basic('anton_run_15', clu_anton_run_15, ev_anton_run_15, mg_filter_no_edges, 0, 8, 3, area)"
   ]
  },
  {
   "cell_type": "code",
   "execution_count": null,
   "metadata": {
    "scrolled": false
   },
   "outputs": [],
   "source": [
    "area = 0.0225*0.0225*4*36\n",
    "plot_basic('anton_run_16', clu_anton_run_16, ev_anton_run_16, mg_filter_no_edges, 0, 5, 2, area)"
   ]
  }
 ],
 "metadata": {
  "kernelspec": {
   "display_name": "Python 3",
   "language": "python",
   "name": "python3"
  },
  "language_info": {
   "codemirror_mode": {
    "name": "ipython",
    "version": 3
   },
   "file_extension": ".py",
   "mimetype": "text/x-python",
   "name": "python",
   "nbconvert_exporter": "python",
   "pygments_lexer": "ipython3",
   "version": "3.7.3"
  }
 },
 "nbformat": 4,
 "nbformat_minor": 2
}
