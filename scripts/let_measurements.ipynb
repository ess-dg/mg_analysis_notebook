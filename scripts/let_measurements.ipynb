{
 "cells": [
  {
   "cell_type": "markdown",
   "metadata": {},
   "source": [
    "<font size=\"20\">\n",
    "\n",
    "# LET measurements\n",
    "\n",
    "<font size=\"3\">\n",
    "    \n",
    "> __Author:__ XXX\n",
    "<br/>__Institute:__ XXX\n",
    "<br/>__Date:__ XX/XX-XXXX\n",
    "\n",
    "_Abstract:_\n",
    "This notebook contains the data-analysis tools used for the measurements at the LET instrument at ISIS. It describes how the analysis was performed, and summarizes the results."
   ]
  },
  {
   "cell_type": "markdown",
   "metadata": {},
   "source": [
    "# Contents\n",
    "    \n",
    "* [1. Introduction](#INTRODUCTION)\n",
    "    * [1.1 Packages](#PACKAGES)\n",
    "    * [1.2 Parameters](#PARAMETERS)\n",
    "    * [1.3 Functions](#FUNCTIONS)\n",
    "* [2. Data](#DATA)\n",
    "    * [2.1 Paths](#PATHS)\n",
    "    * [2.2 Extract](#EXTRACT)\n",
    "    * [2.3 Load](#LOAD)\n",
    "* [3. Filters](#FILTER)\n",
    "* [4. Plotting](#PLOTTING)"
   ]
  },
  {
   "cell_type": "markdown",
   "metadata": {},
   "source": [
    "# 1. Introduction"
   ]
  },
  {
   "cell_type": "markdown",
   "metadata": {},
   "source": [
    "Notebook showing the analysis of the LET measurements."
   ]
  },
  {
   "cell_type": "markdown",
   "metadata": {},
   "source": [
    "## 1.1 Packages<a class=\"anchor\" id=\"PACKAGES\"></a>"
   ]
  },
  {
   "cell_type": "markdown",
   "metadata": {},
   "source": [
    "Import all necessary packages."
   ]
  },
  {
   "cell_type": "code",
   "execution_count": null,
   "metadata": {},
   "outputs": [],
   "source": [
    "# Autoload packages when doing an external change\n",
    "%load_ext autoreload\n",
    "%autoreload 2\n",
    "\n",
    "# Activate matplotlib in interactive notebook mode\n",
    "%matplotlib notebook\n",
    "\n",
    "# General packages\n",
    "import os\n",
    "import h5py\n",
    "import numpy as np\n",
    "import pandas as pd\n",
    "import plotly as py\n",
    "import matplotlib.pyplot as plt\n",
    "from matplotlib.colors import LogNorm\n",
    "import plotly.graph_objects as go\n",
    "from plotly.offline import iplot, plot\n",
    "\n",
    "# Data handling\n",
    "import mg.file_handling.read as mg_read\n",
    "import he3_let.read as he3_read\n",
    "\n",
    "# Plotting\n",
    "import mg_let.basic_plot as mg_basic_plot\n",
    "\n",
    "# Helper functions\n",
    "import mg.helper_functions.misc as mg_hf"
   ]
  },
  {
   "cell_type": "markdown",
   "metadata": {},
   "source": [
    "## 1.2 Parameters"
   ]
  },
  {
   "cell_type": "code",
   "execution_count": null,
   "metadata": {},
   "outputs": [],
   "source": [
    "# Declare all global parameters\n",
    "MG_RAW_FOLDER = '../data/let_measurements/mg/raw/'\n",
    "MG_PROCESSED_FOLDER = '../data/let_measurements/mg/processed/'\n",
    "HE3_FOLDER = '../data/let_measurements/he3/'"
   ]
  },
  {
   "cell_type": "markdown",
   "metadata": {},
   "source": [
    "## 1.3 Functions"
   ]
  },
  {
   "cell_type": "markdown",
   "metadata": {},
   "source": [
    "Declare all functions used in the analysis."
   ]
  },
  {
   "cell_type": "markdown",
   "metadata": {},
   "source": [
    "## Multi-Grid detector"
   ]
  },
  {
   "cell_type": "markdown",
   "metadata": {},
   "source": [
    "### Plotting"
   ]
  },
  {
   "cell_type": "code",
   "execution_count": null,
   "metadata": {},
   "outputs": [],
   "source": [
    "def mg_plot_basic(run, clusters_unfiltered, events, df_filter, bus_start, bus_stop, number_rows, area):\n",
    "    \"\"\"\n",
    "    Function to plot all basic plots for SEQUOIA detector,\n",
    "    such as PHS, Coincidences and rate.\n",
    "    \n",
    "    Ordering of plotting is:\n",
    "    \n",
    "    PHS 2D - NOT FILTERED\n",
    "    MULTIPLICITY - FILTERED\n",
    "    PHS 1D - FILTERED\n",
    "    COINCIDENCES 2D - FILTERED\n",
    "    PHS CORRELATION - FILTERED\n",
    "    RATE - FILTERED\n",
    "    TOF - FILTERED\n",
    "    \n",
    "    Note that all plots are filtered except the PHS 2D.\n",
    "    \n",
    "    Args:\n",
    "        run (str): File run\n",
    "        clusters_unfiltered (DataFrame): Unfiltered clusteres\n",
    "        events (DataFrame): Individual events\n",
    "        df_filter (dict): Dictionary specifying the filter which will be used on the clustered data\n",
    "        bus_start (int): First bus to plot\n",
    "        bus_stop (int): Last bus to plot\n",
    "        number_rows (int): Number of rows in plots (number of rows must be larger than number_buses/3)\n",
    "        area (float): Area in m^2 of the active detector surface\n",
    "\n",
    "    Yields:\n",
    "        Plots the basic analysis\n",
    "    \n",
    "    \"\"\"\n",
    "    \n",
    "    mg_hf.set_thick_labels(12)\n",
    "    \n",
    "    # Filter clusters\n",
    "    clusters = mg_read.filter_data(clusters_unfiltered, df_filter)\n",
    "    \n",
    "    # Declare parameters\n",
    "    duration = (clusters_unfiltered.time.values[-1] - clusters_unfiltered.time.values[0]) * 62.5e-9\n",
    "    \n",
    "    # PHS - 2D\n",
    "    vmin = 1\n",
    "    vmax = events.shape[0] // 1000 + 100\n",
    "    fig = plt.figure()\n",
    "    fig.set_figwidth(14)\n",
    "    fig.set_figheight(4*number_rows)\n",
    "    for i, bus in enumerate(np.arange(bus_start, bus_stop+1, 1)):\n",
    "        plt.subplot(number_rows, 3, i+1)\n",
    "        events_bus = events[events.bus == bus]\n",
    "        if events_bus.shape[0] > 0:\n",
    "            mg_basic_plot.phs_2d_plot(events_bus, bus, vmin, vmax)\n",
    "    plt.tight_layout()\n",
    "    \n",
    "    # Save data\n",
    "    output_path = '../output/%s_phs_2d.png' % run\n",
    "    fig.savefig(output_path, bbox_inches='tight')\n",
    "    \n",
    "    # Multiplicity\n",
    "    vmin = None\n",
    "    vmax = None\n",
    "    fig = plt.figure()\n",
    "    fig.set_figwidth(14)\n",
    "    fig.set_figheight(4*number_rows)\n",
    "    for i, bus in enumerate(np.arange(bus_start, bus_stop+1, 1)):\n",
    "        plt.subplot(number_rows, 3, i+1)\n",
    "        clusters_bus = clusters[clusters.bus == bus]\n",
    "        if clusters_bus.shape[0] > 1:\n",
    "            mg_basic_plot.multiplicity_plot_perc(clusters_bus, bus, duration)\n",
    "    plt.tight_layout()\n",
    "    \n",
    "    # Save data\n",
    "    output_path = '../output/%s_multiplicity_2d.png' % run\n",
    "    fig.savefig(output_path, bbox_inches='tight')\n",
    "    \n",
    "    # PHS - 1D\n",
    "    vmin = None\n",
    "    vmax = None\n",
    "    bins_phs_1d = 300\n",
    "    fig = plt.figure()\n",
    "    fig.set_figwidth(14)\n",
    "    fig.set_figheight(4*number_rows)\n",
    "    for i, bus in enumerate(np.arange(bus_start, bus_stop+1, 1)):\n",
    "        plt.subplot(number_rows, 3, i+1)\n",
    "        clusters_bus = clusters[clusters.bus == bus]\n",
    "        clusters_uf_bus = clusters_unfiltered[clusters_unfiltered.bus == bus]\n",
    "        mg_basic_plot.phs_clusters_1d_plot(clusters_bus, clusters_uf_bus, bins_phs_1d, bus, duration)\n",
    "        plt.yscale('log')\n",
    "    plt.tight_layout()\n",
    "    \n",
    "    # Save data\n",
    "    output_path = '../output/%s_phs_1d.png' % run\n",
    "    fig.savefig(output_path, bbox_inches='tight')\n",
    "    \n",
    "    # Coincidences - 2D\n",
    "    fig = plt.figure()\n",
    "    fig.set_figwidth(14)\n",
    "    fig.set_figheight(4*number_rows)\n",
    "    if clusters.shape[0] != 0:\n",
    "        vmin = (1 * 1/duration)\n",
    "        vmax = (clusters.shape[0] // 450 + 5) * 1/duration\n",
    "    else:\n",
    "        duration = 1\n",
    "        vmin = 1\n",
    "        vmax = 1\n",
    "    for i, bus in enumerate(np.arange(bus_start, bus_stop+1, 1)):\n",
    "        plt.subplot(number_rows, 3, i+1)\n",
    "        clusters_bus = clusters[clusters.bus == bus]\n",
    "        # Calculate number of events and rate in a specific bus\n",
    "        number_events = clusters_bus.shape[0]\n",
    "        events_per_s = number_events/duration\n",
    "        events_per_s_m2 = events_per_s/area\n",
    "        title = ('Bus %d\\n(%d events, %.6f events/s/m$^2$)' % (bus, number_events, events_per_s_m2))\n",
    "        if number_events > 1:\n",
    "            mg_basic_plot.clusters_2d_plot(clusters_bus, title, vmin, vmax, duration)\n",
    "    plt.tight_layout()\n",
    "    \n",
    "    # Save data\n",
    "    output_path = '../output/%s_coincidences_2d.png' % run\n",
    "    fig.savefig(output_path, bbox_inches='tight')\n",
    "    \n",
    "    # Coincidences - PHS\n",
    "    fig = plt.figure()\n",
    "    fig.set_figwidth(14)\n",
    "    fig.set_figheight(4*number_rows)\n",
    "    if clusters.shape[0] != 0:\n",
    "        vmin = 1/duration\n",
    "        vmax = (clusters.shape[0] // 450 + 1000) / duration\n",
    "    else:\n",
    "        duration = 1\n",
    "        vmin = 1\n",
    "        vmax = 1\n",
    "    for i, bus in enumerate(np.arange(bus_start, bus_stop+1, 1)):\n",
    "        plt.subplot(number_rows, 3, i+1)\n",
    "        clusters_bus = clusters[clusters.bus == bus]\n",
    "        if clusters_bus.shape[0] > 1:\n",
    "            mg_basic_plot.clusters_phs_plot(clusters_bus, bus, duration, vmin, vmax)\n",
    "    plt.tight_layout()\n",
    "    \n",
    "    # Save data\n",
    "    output_path = '../output/%s_coincidences_phs.png' % run\n",
    "    fig.savefig(output_path, bbox_inches='tight')\n",
    "    \n",
    "    # Rate \n",
    "    number_bins = 50\n",
    "    fig = plt.figure()\n",
    "    fig.set_figwidth(14)\n",
    "    fig.set_figheight(4*number_rows)\n",
    "    for i, bus in enumerate(np.arange(bus_start, bus_stop+1, 1)):\n",
    "        plt.subplot(number_rows, 3, i+1)\n",
    "        clusters_bus = clusters[clusters.bus == bus]\n",
    "        mg_basic_plot.rate_plot(clusters_bus, number_bins, bus, area)\n",
    "    plt.tight_layout()\n",
    "    \n",
    "    # Save data\n",
    "    output_path = '../output/%s_rate.png' % run\n",
    "    fig.savefig(output_path, bbox_inches='tight')\n",
    "    \n",
    "    # TIME-OF-FLIGHT\n",
    "    number_bins = 300\n",
    "    fig = plt.figure()\n",
    "    fig.set_figwidth(14)\n",
    "    fig.set_figheight(4*number_rows)\n",
    "    for i, bus in enumerate(np.arange(bus_start, bus_stop+1, 1)):\n",
    "        plt.subplot(number_rows, 3, i+1)\n",
    "        clusters_bus = clusters[clusters.bus == bus]\n",
    "        mg_basic_plot.tof_histogram(clusters_bus, number_bins, bus)\n",
    "    plt.tight_layout()\n",
    "    \n",
    "    # Save data\n",
    "    output_path = '../output/%s_tof.png' % run\n",
    "    fig.savefig(output_path, bbox_inches='tight')"
   ]
  },
  {
   "cell_type": "markdown",
   "metadata": {},
   "source": [
    "### Normalization"
   ]
  },
  {
   "cell_type": "code",
   "execution_count": null,
   "metadata": {},
   "outputs": [],
   "source": []
  },
  {
   "cell_type": "markdown",
   "metadata": {},
   "source": [
    "## Helium-3 tubes"
   ]
  },
  {
   "cell_type": "markdown",
   "metadata": {},
   "source": [
    "### Plotting"
   ]
  },
  {
   "cell_type": "code",
   "execution_count": null,
   "metadata": {},
   "outputs": [],
   "source": [
    "def plot_helium_3_coordinates(pixels, region=None):\n",
    "    # Define labels\n",
    "    labels = []\n",
    "    for i in np.arange(0, len(pixels['x'])+1, 1):\n",
    "        labels.append('ID: %d' % i)\n",
    "    trace_1 = go.Scatter3d(\n",
    "        x=pixels['x'],\n",
    "        y=pixels['y'],\n",
    "        z=pixels['z'],\n",
    "        mode='markers',\n",
    "        marker=dict(\n",
    "            size=4,\n",
    "            line=dict(\n",
    "                color='rgba(0, 0, 255, 1)',\n",
    "                width=1.0\n",
    "            ),\n",
    "            opacity=1.0\n",
    "        ),\n",
    "        name='Helium-3 tubes',\n",
    "        text=labels\n",
    "    )\n",
    "    \n",
    "    trace_2 = go.Scatter3d(\n",
    "        x=[0],\n",
    "        y=[0],\n",
    "        z=[0],\n",
    "        mode='markers',\n",
    "        marker=dict(\n",
    "            size=4,\n",
    "            line=dict(\n",
    "                color='rgba(255, 0, 0, 1)',\n",
    "                width=5.0\n",
    "            ),\n",
    "            opacity=1.0\n",
    "        ),\n",
    "        name='Sample'\n",
    "    )\n",
    "    \n",
    "    if region is not None:\n",
    "        # Define labels\n",
    "        labels = []\n",
    "        for i in region:\n",
    "            labels.append('ID: %d' % i)\n",
    "        trace_3 = go.Scatter3d(\n",
    "                            x=pixels['x'][region],\n",
    "                            y=pixels['y'][region],\n",
    "                            z=pixels['z'][region],\n",
    "                            mode='markers',\n",
    "                            marker=dict(\n",
    "                                    size=4,\n",
    "                                    line=dict(\n",
    "                                            color='rgba(0, 255, 0, 1)',\n",
    "                                            width=1.0\n",
    "                                            ),\n",
    "                                    opacity=1.0\n",
    "                            ),\n",
    "                            name='Multi-Grid sized region',\n",
    "                            text=labels\n",
    "                            )\n",
    "\n",
    "        \n",
    "    \n",
    "    camera = dict(\n",
    "        up=dict(x=0, y=1, z=0),\n",
    "        center=dict(x=0, y=0, z=0),\n",
    "        eye=dict(x=-1.5, y=1.5, z=-1.5)\n",
    "    )\n",
    "\n",
    "    layout = go.Layout(\n",
    "        margin=dict(\n",
    "            l=0,\n",
    "            r=0,\n",
    "            b=0,\n",
    "            t=0\n",
    "        ),\n",
    "        scene=dict(\n",
    "                camera=camera,\n",
    "                xaxis = dict(\n",
    "                        title='x [m]'),\n",
    "                yaxis = dict(\n",
    "                        title='y [m]'),\n",
    "                zaxis = dict(\n",
    "                        title='z [m]'),)\n",
    "    )\n",
    "    py.offline.init_notebook_mode()\n",
    "    if region is None:\n",
    "        data = [trace_1, trace_2]\n",
    "    else:\n",
    "        data = [trace_1, trace_2, trace_3]\n",
    "    fig = go.Figure(data=data, layout=layout)\n",
    "    py.offline.iplot(fig)\n",
    "    \n",
    "\n",
    "def he3_tof_histogram_plot(df, number_bins):\n",
    "    # Get tof distances\n",
    "    tof_in_us = df['tof']\n",
    "    # Plot\n",
    "    fig = plt.figure()\n",
    "    plt.hist(tof_in_us, range=[0, 100000], bins=number_bins,\n",
    "             histtype='step', color='black', zorder=10\n",
    "            )\n",
    "    plt.grid(True, which='major', linestyle='--', zorder=0)\n",
    "    plt.grid(True, which='minor', linestyle='--', zorder=0)\n",
    "    plt.yscale('log')\n",
    "    plt.title('Time-of-flight histogram')\n",
    "    plt.xlabel('tof (μs)')\n",
    "    plt.ylabel('counts')\n",
    "    plt.show()\n",
    "    \n",
    "\n",
    "def he3_energy_histogram_plot(df, mapping, number_bins):\n",
    "    # Get tof distances\n",
    "    tof_in_us = df['tof']\n",
    "    sample_to_detection_in_m = mapping['r'][df['pixel_id']]\n",
    "    # Get energies\n",
    "    energies = get_energy(tof_in_us, sample_to_detection_in_m)\n",
    "    # Plot\n",
    "    fig = plt.figure()\n",
    "    plt.hist(energies,\n",
    "             range=[0, 30], bins=number_bins,\n",
    "             histtype='step', color='black', zorder=10\n",
    "            )\n",
    "    plt.grid(True, which='major', linestyle='--', zorder=0)\n",
    "    plt.grid(True, which='minor', linestyle='--', zorder=0)\n",
    "    plt.yscale('log')\n",
    "    plt.title('Energy histogram')\n",
    "    plt.xlabel('E (meV)')\n",
    "    plt.ylabel('counts')\n",
    "    plt.show()\n"
   ]
  },
  {
   "cell_type": "markdown",
   "metadata": {},
   "source": [
    "### Normalization"
   ]
  },
  {
   "cell_type": "code",
   "execution_count": null,
   "metadata": {},
   "outputs": [],
   "source": [
    "def he3_get_area(number_pixels, pixels_per_tube=256):\n",
    "    tube_length = 4 # [m]\n",
    "    tube_diameter = 0.0254 # [m]\n",
    "    segment_area = (tube_length*tube_diameter)/pixels_per_tube\n",
    "    area = segment_area * number_pixels\n",
    "    return area\n",
    "\n",
    "def he3_get_solid_angle(pixels, pixels_per_tube=256):\n",
    "    # Get area of one pixel\n",
    "    pixel_area = he3_get_area(1)\n",
    "    # Get solid angle by summing contribution from each pixel\n",
    "    solid_angle = 0\n",
    "    for r, theta, phi in zip(pixels['r'], pixels['theta'], pixels['phi']):\n",
    "        projected_area = pixel_area * np.cos(theta)\n",
    "        pixel_solid_angle = projected_area / (r ** 2)\n",
    "        solid_angle += pixel_solid_angle\n",
    "    return solid_angle\n",
    "\n",
    "def get_duration(path):\n",
    "    nxs = h5py.File(path, 'r')\n",
    "    duration = nxs['raw_data_1']['duration'][0] # In seconds\n",
    "    return duration\n",
    "    "
   ]
  },
  {
   "cell_type": "markdown",
   "metadata": {},
   "source": [
    "### Energy calculation"
   ]
  },
  {
   "cell_type": "code",
   "execution_count": null,
   "metadata": {},
   "outputs": [],
   "source": [
    "def get_energy(tof_in_us, sample_to_detection_in_m):\n",
    "    # Instrument definition\n",
    "    MODERATOR_TO_SAMPLE_IN_M = 25 # m\n",
    "    # Energy calculation\n",
    "    full_distance = MODERATOR_TO_SAMPLE_IN_M + sample_to_detection_in_m\n",
    "    v_in_km_per_s = (full_distance * 1e-3)/(tof_in_us * 1e-6)\n",
    "    energies = 5.227 * (v_in_km_per_s ** 2) # Calculated according to Squires (p. 3)\n",
    "    return energies"
   ]
  },
  {
   "cell_type": "markdown",
   "metadata": {},
   "source": [
    "# 2. Data"
   ]
  },
  {
   "cell_type": "markdown",
   "metadata": {},
   "source": [
    "## 2.1 Paths<a class=\"anchor\" id=\"EXTRACT\"></a>"
   ]
  },
  {
   "cell_type": "markdown",
   "metadata": {},
   "source": [
    "## Multi-Grid detector"
   ]
  },
  {
   "cell_type": "code",
   "execution_count": null,
   "metadata": {},
   "outputs": [],
   "source": [
    "MG_PATHS = {'mg_run_1': MG_RAW_FOLDER + 'mvmelst_212_200401_051232_SEQ1CaveShielded_SEQ2UnshieldedHorizontal_GasInAtTheStartOfTheRun_Continued_NoRHWGnd.zip'}"
   ]
  },
  {
   "cell_type": "markdown",
   "metadata": {},
   "source": [
    "## Helium-3 tube"
   ]
  },
  {
   "cell_type": "code",
   "execution_count": null,
   "metadata": {},
   "outputs": [],
   "source": [
    "HE3_PATHS = {'he3_run_1': HE3_FOLDER + 'LET00068153.nxs',\n",
    "             'he3_run_2': HE3_FOLDER + 'LET00068806.nxs'}"
   ]
  },
  {
   "cell_type": "markdown",
   "metadata": {},
   "source": [
    "## 2.2 Extract<a class=\"anchor\" id=\"EXTRACT\"></a>"
   ]
  },
  {
   "cell_type": "markdown",
   "metadata": {},
   "source": [
    "## Multi-Grid detector"
   ]
  },
  {
   "cell_type": "code",
   "execution_count": null,
   "metadata": {
    "scrolled": true
   },
   "outputs": [],
   "source": [
    "# Note that the 'extract_and_save'-function only needs to performed once.\n",
    "# After that, the data has been clustered and saved. The data can then\n",
    "# be accessed using the 'load_clusters_and_events'-function.\n",
    "\n",
    "#mg_read.extract_and_save('mg_run_1', MG_PATHS['mg_run_1'], MG_PROCESSED_FOLDER)"
   ]
  },
  {
   "cell_type": "markdown",
   "metadata": {},
   "source": [
    "## Helium-3 tube"
   ]
  },
  {
   "cell_type": "code",
   "execution_count": null,
   "metadata": {},
   "outputs": [],
   "source": [
    "# The data is in the format of NeXuS files, provided by the LET team"
   ]
  },
  {
   "cell_type": "markdown",
   "metadata": {},
   "source": [
    "## 2.3 Load<a class=\"anchor\" id=\"LOAD\"></a>"
   ]
  },
  {
   "cell_type": "markdown",
   "metadata": {},
   "source": [
    "## Multi-Grid detector"
   ]
  },
  {
   "cell_type": "code",
   "execution_count": null,
   "metadata": {
    "scrolled": true
   },
   "outputs": [],
   "source": [
    "mg_clu_run_1, mg_ev_run_1 = mg_read.load_clusters_and_events('mg_run_1', MG_PROCESSED_FOLDER)"
   ]
  },
  {
   "cell_type": "markdown",
   "metadata": {},
   "source": [
    "## Helium-3 tubes"
   ]
  },
  {
   "cell_type": "code",
   "execution_count": null,
   "metadata": {},
   "outputs": [],
   "source": [
    "he3_mapping_1 = he3_read.get_pixel_to_xyz_mapping(HE3_PATHS['he3_run_1'])"
   ]
  },
  {
   "cell_type": "code",
   "execution_count": null,
   "metadata": {},
   "outputs": [],
   "source": [
    "df_he3_run_1 = he3_read.import_data(HE3_PATHS['he3_run_1'])"
   ]
  },
  {
   "cell_type": "markdown",
   "metadata": {},
   "source": [
    "# 3. Filters<a class=\"anchor\" id=\"FILTER\"></a>"
   ]
  },
  {
   "cell_type": "markdown",
   "metadata": {},
   "source": [
    "Declare filters which can be used on the data. Below are a few template filters."
   ]
  },
  {
   "cell_type": "markdown",
   "metadata": {},
   "source": [
    "## Multi-Grid detector"
   ]
  },
  {
   "cell_type": "code",
   "execution_count": null,
   "metadata": {},
   "outputs": [],
   "source": [
    "\"\"\"\n",
    "Filters are declared in the following format: {'PARAMETER': [MIN_VALUE, MAX_VALUE, IS_ACTIVATE]}\n",
    "\"\"\"\n",
    "\n",
    "# Declare filters for SEQUOIA module\n",
    "mg_filter_basic = {'wm': [1, 1, True],                   # Wire multiplicity\n",
    "                   'gm': [1, 5, True],                   # Grid multiplicity\n",
    "                   'wadc': [600, np.inf, True],          # Wire charge\n",
    "                   'gadc': [600, np.inf, True],          # Grid charge\n",
    "                   'tof': [0, np.inf, True],             # Time-of-flight (TDC channels)\n",
    "                   'time': [0, np.inf, True],            # Time (TDC channels)\n",
    "                   'bus': [0, 8, True],                  # Bus\n",
    "                   'flag': [0, 1, False],                # =1 if different buses within same coincidence\n",
    "                   'layer': [0, 19, False],              # Layer, front=0 to back=19\n",
    "                   'row': [0, 11, False],                # Row, right to left (seen from neutrons)\n",
    "                   'gch': [80, 119, True]}               # Grid channel, bottom=80 to top=119          "
   ]
  },
  {
   "cell_type": "markdown",
   "metadata": {},
   "source": [
    "## Helium-3 tubes"
   ]
  },
  {
   "cell_type": "code",
   "execution_count": null,
   "metadata": {},
   "outputs": [],
   "source": [
    "# Declare region of interest\n",
    "pixels = []\n",
    "start_pixel = 16384\n",
    "height = 60\n",
    "diff_tubes = 256\n",
    "number_tubes = 32\n",
    "for i in np.arange(0, 16, 1):\n",
    "    start = start_pixel+diff_tubes*i\n",
    "    stop = start_pixel+diff_tubes*i + height\n",
    "    for j in np.arange(start, stop):\n",
    "        pixels.append(j)\n",
    "region_of_interest = np.array(pixels)"
   ]
  },
  {
   "cell_type": "markdown",
   "metadata": {},
   "source": [
    "# 4. Plotting<a class=\"anchor\" id=\"FILTER\"></a>"
   ]
  },
  {
   "cell_type": "markdown",
   "metadata": {},
   "source": [
    "## 4.1 Multi-Grid detector"
   ]
  },
  {
   "cell_type": "markdown",
   "metadata": {},
   "source": [
    "### run_1: (test data from preparations at Utgård)"
   ]
  },
  {
   "cell_type": "code",
   "execution_count": null,
   "metadata": {
    "scrolled": false
   },
   "outputs": [],
   "source": [
    "area = 0.0225*0.0225*4*40\n",
    "mg_plot_basic('run_1', mg_clu_run_1, mg_ev_run_1, mg_filter_basic, 0, 2, 1, area)"
   ]
  },
  {
   "cell_type": "markdown",
   "metadata": {},
   "source": [
    "## 4.2 Helium-3 tubes"
   ]
  },
  {
   "cell_type": "markdown",
   "metadata": {},
   "source": [
    "### Selection of region of interest"
   ]
  },
  {
   "cell_type": "code",
   "execution_count": null,
   "metadata": {},
   "outputs": [],
   "source": [
    "plot_helium_3_coordinates(he3_mapping_1, region=region_of_interest)"
   ]
  },
  {
   "cell_type": "markdown",
   "metadata": {},
   "source": [
    "### run_1: (test data sent from Ross)"
   ]
  },
  {
   "cell_type": "code",
   "execution_count": null,
   "metadata": {
    "scrolled": false
   },
   "outputs": [],
   "source": [
    "# Declare parameters\n",
    "number_bins = 1000\n",
    "\n",
    "# Define region of interest as a series of pixel id's\n",
    "region_of_interest = np.arange(0, 98305, 1)\n",
    "\n",
    "# Make geometrical cut\n",
    "df_he3_run_1_cut = df_he3_run_1[df_he3_run_1['pixel_id'].isin(region_of_interest)]\n",
    "\n",
    "# Plot\n",
    "he3_tof_histogram_plot(df_he3_run_1_cut, number_bins)\n",
    "he3_energy_histogram_plot(df_he3_run_1_cut, he3_mapping_1, number_bins)"
   ]
  }
 ],
 "metadata": {
  "kernelspec": {
   "display_name": "Python 3",
   "language": "python",
   "name": "python3"
  },
  "language_info": {
   "codemirror_mode": {
    "name": "ipython",
    "version": 3
   },
   "file_extension": ".py",
   "mimetype": "text/x-python",
   "name": "python",
   "nbconvert_exporter": "python",
   "pygments_lexer": "ipython3",
   "version": "3.7.7"
  }
 },
 "nbformat": 4,
 "nbformat_minor": 2
}
