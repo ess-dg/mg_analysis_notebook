{
 "cells": [
  {
   "cell_type": "markdown",
   "metadata": {},
   "source": [
    "<font size=\"20\">\n",
    "\n",
    "# LET measurements\n",
    "\n",
    "<font size=\"3\">\n",
    "    \n",
    "> __Author:__ Alexander Backis\n",
    "<br/>__Institutes:__ University of Glasgow, European Spallation Source\n",
    "<br/>__Dates:__ 2/10-2020 to 16/10-2020\n",
    "\n",
    "_Abstract:_\n",
    "This notebook contains the data-analysis tools used for the measurements at the LET instrument at ISIS. It describes how the analysis was performed, and summarizes the results."
   ]
  },
  {
   "cell_type": "markdown",
   "metadata": {},
   "source": [
    "# Contents\n",
    "    \n",
    "* [1. Introduction](#INTRODUCTION)\n",
    "    * [1.1 Packages](#PACKAGES)\n",
    "    * [1.2 Parameters](#PARAMETERS)\n",
    "    * [1.3 Functions](#FUNCTIONS)\n",
    "* [2. Data](#DATA)\n",
    "    * [2.1 Paths](#PATHS)\n",
    "    * [2.2 Extract](#EXTRACT)\n",
    "    * [2.3 Load](#LOAD)\n",
    "* [3. Filters](#FILTER)\n",
    "* [4. Plotting](#PLOTTING)\n",
    "* [5. Distance calibration](#CALIBRATION)"
   ]
  },
  {
   "cell_type": "markdown",
   "metadata": {},
   "source": [
    "# 1. Introduction"
   ]
  },
  {
   "cell_type": "markdown",
   "metadata": {},
   "source": [
    "Notebook showing the analysis of the LET measurements."
   ]
  },
  {
   "cell_type": "markdown",
   "metadata": {},
   "source": [
    "## 1.1 Packages<a class=\"anchor\" id=\"PACKAGES\"></a>"
   ]
  },
  {
   "cell_type": "markdown",
   "metadata": {},
   "source": [
    "Import all necessary packages."
   ]
  },
  {
   "cell_type": "code",
   "execution_count": null,
   "metadata": {},
   "outputs": [],
   "source": [
    "# Autoload packages when doing an external change\n",
    "%load_ext autoreload\n",
    "%autoreload 2\n",
    "\n",
    "# Activate matplotlib in interactive notebook mode\n",
    "%matplotlib notebook\n",
    "\n",
    "# General packages\n",
    "import os\n",
    "import h5py\n",
    "import numpy as np\n",
    "import pandas as pd\n",
    "import plotly as py\n",
    "import matplotlib.pyplot as plt\n",
    "from matplotlib.colors import LogNorm\n",
    "import plotly.graph_objects as go\n",
    "import scipy.optimize as sci_opt\n",
    "import scipy.signal as sci_sig\n",
    "from plotly.offline import iplot, plot\n",
    "\n",
    "# Data handling\n",
    "import mg.file_handling.read as mg_read\n",
    "import he3_let.read as he3_read\n",
    "\n",
    "# Plotting\n",
    "import mg_let.basic_plot as mg_basic_plot\n",
    "\n",
    "# Helper functions\n",
    "import mg.helper_functions.misc as mg_hf"
   ]
  },
  {
   "cell_type": "markdown",
   "metadata": {},
   "source": [
    "## 1.2 Parameters"
   ]
  },
  {
   "cell_type": "code",
   "execution_count": null,
   "metadata": {},
   "outputs": [],
   "source": [
    "# Declare all global parameters\n",
    "MG_RAW_FOLDER = '../data/let_measurements/mg/raw/'\n",
    "MG_PROCESSED_FOLDER = '../data/let_measurements/mg/processed/'\n",
    "HE3_FOLDER = '../data/let_measurements/he3/'\n",
    "\n",
    "# Instrument definition\n",
    "MODERATOR_TO_SAMPLE_IN_M = 25 # m\n",
    "\n",
    "# Convertion factors\n",
    "MG_TDC_TO_US = 62.5e-9 * 1e6"
   ]
  },
  {
   "cell_type": "markdown",
   "metadata": {},
   "source": [
    "## 1.3 Functions"
   ]
  },
  {
   "cell_type": "markdown",
   "metadata": {},
   "source": [
    "Declare all functions used in the analysis."
   ]
  },
  {
   "cell_type": "markdown",
   "metadata": {},
   "source": [
    "## Multi-Grid detector"
   ]
  },
  {
   "cell_type": "markdown",
   "metadata": {},
   "source": [
    "### Plotting"
   ]
  },
  {
   "cell_type": "code",
   "execution_count": null,
   "metadata": {},
   "outputs": [],
   "source": [
    "def mg_plot_basic(run, clusters_unfiltered, events, df_filter, bus_start, bus_stop, number_rows, area):\n",
    "    \"\"\"\n",
    "    Function to plot all basic plots for SEQUOIA detector,\n",
    "    such as PHS, Coincidences and rate.\n",
    "    \n",
    "    Ordering of plotting is:\n",
    "    \n",
    "    PHS 2D - NOT FILTERED\n",
    "    MULTIPLICITY - FILTERED\n",
    "    PHS 1D - FILTERED\n",
    "    COINCIDENCES 2D - FILTERED\n",
    "    PHS CORRELATION - FILTERED\n",
    "    RATE - FILTERED\n",
    "    TOF - FILTERED\n",
    "    \n",
    "    Note that all plots are filtered except the PHS 2D.\n",
    "    \n",
    "    Args:\n",
    "        run (str): File run\n",
    "        clusters_unfiltered (DataFrame): Unfiltered clusteres\n",
    "        events (DataFrame): Individual events\n",
    "        df_filter (dict): Dictionary specifying the filter which will be used on the clustered data\n",
    "        bus_start (int): First bus to plot\n",
    "        bus_stop (int): Last bus to plot\n",
    "        number_rows (int): Number of rows in plots (number of rows must be larger than number_buses/3)\n",
    "        area (float): Area in m^2 of the active detector surface\n",
    "\n",
    "    Yields:\n",
    "        Plots the basic analysis\n",
    "    \n",
    "    \"\"\"\n",
    "    \n",
    "    mg_hf.set_thick_labels(12)\n",
    "    \n",
    "    # Filter clusters\n",
    "    clusters = mg_read.filter_data(clusters_unfiltered, df_filter)\n",
    "    \n",
    "    # Declare parameters\n",
    "    duration = (clusters_unfiltered.time.values[-1] - clusters_unfiltered.time.values[0]) * 62.5e-9\n",
    "    \n",
    "    # PHS - 2D\n",
    "    vmin = 1\n",
    "    vmax = events.shape[0] // 1000 + 100\n",
    "    fig = plt.figure()\n",
    "    fig.set_figwidth(14)\n",
    "    fig.set_figheight(4*number_rows)\n",
    "    for i, bus in enumerate(np.arange(bus_start, bus_stop+1, 1)):\n",
    "        plt.subplot(number_rows, 3, i+1)\n",
    "        events_bus = events[events.bus == bus]\n",
    "        if events_bus.shape[0] > 0:\n",
    "            mg_basic_plot.phs_2d_plot(events_bus, bus, vmin, vmax)\n",
    "    plt.tight_layout()\n",
    "    \n",
    "    # Save data\n",
    "    output_path = '../output/%s_phs_2d.png' % run\n",
    "    fig.savefig(output_path, bbox_inches='tight')\n",
    "    \n",
    "    # Multiplicity\n",
    "    vmin = None\n",
    "    vmax = None\n",
    "    fig = plt.figure()\n",
    "    fig.set_figwidth(14)\n",
    "    fig.set_figheight(4*number_rows)\n",
    "    for i, bus in enumerate(np.arange(bus_start, bus_stop+1, 1)):\n",
    "        plt.subplot(number_rows, 3, i+1)\n",
    "        clusters_bus = clusters[clusters.bus == bus]\n",
    "        if clusters_bus.shape[0] > 1:\n",
    "            mg_basic_plot.multiplicity_plot_perc(clusters_bus, bus, duration)\n",
    "    plt.tight_layout()\n",
    "    \n",
    "    # Save data\n",
    "    output_path = '../output/%s_multiplicity_2d.png' % run\n",
    "    fig.savefig(output_path, bbox_inches='tight')\n",
    "    \n",
    "    # PHS - 1D\n",
    "    vmin = None\n",
    "    vmax = None\n",
    "    bins_phs_1d = 300\n",
    "    fig = plt.figure()\n",
    "    fig.set_figwidth(14)\n",
    "    fig.set_figheight(4*number_rows)\n",
    "    for i, bus in enumerate(np.arange(bus_start, bus_stop+1, 1)):\n",
    "        plt.subplot(number_rows, 3, i+1)\n",
    "        clusters_bus = clusters[clusters.bus == bus]\n",
    "        clusters_uf_bus = clusters_unfiltered[clusters_unfiltered.bus == bus]\n",
    "        mg_basic_plot.phs_clusters_1d_plot(clusters_bus, clusters_uf_bus, bins_phs_1d, bus, duration)\n",
    "        plt.yscale('log')\n",
    "    plt.tight_layout()\n",
    "    \n",
    "    # Save data\n",
    "    output_path = '../output/%s_phs_1d.png' % run\n",
    "    fig.savefig(output_path, bbox_inches='tight')\n",
    "    \n",
    "    # Coincidences - 2D\n",
    "    fig = plt.figure()\n",
    "    fig.set_figwidth(14)\n",
    "    fig.set_figheight(4*number_rows)\n",
    "    if clusters.shape[0] != 0:\n",
    "        vmin = (1 * 1/duration)\n",
    "        vmax = (clusters.shape[0] // 450 + 5) * 1/duration\n",
    "    else:\n",
    "        duration = 1\n",
    "        vmin = 1\n",
    "        vmax = 1\n",
    "    for i, bus in enumerate(np.arange(bus_start, bus_stop+1, 1)):\n",
    "        plt.subplot(number_rows, 3, i+1)\n",
    "        clusters_bus = clusters[clusters.bus == bus]\n",
    "        # Calculate number of events and rate in a specific bus\n",
    "        number_events = clusters_bus.shape[0]\n",
    "        events_per_s = number_events/duration\n",
    "        events_per_s_m2 = events_per_s/area\n",
    "        title = ('Bus %d\\n(%d events, %.6f events/s/m$^2$)' % (bus, number_events, events_per_s_m2))\n",
    "        if number_events > 1:\n",
    "            mg_basic_plot.clusters_2d_plot(clusters_bus, title, vmin, vmax, duration)\n",
    "    plt.tight_layout()\n",
    "    \n",
    "    # Save data\n",
    "    output_path = '../output/%s_coincidences_2d.png' % run\n",
    "    fig.savefig(output_path, bbox_inches='tight')\n",
    "    \n",
    "    # Coincidences - PHS\n",
    "    fig = plt.figure()\n",
    "    fig.set_figwidth(14)\n",
    "    fig.set_figheight(4*number_rows)\n",
    "    if clusters.shape[0] != 0:\n",
    "        vmin = 1/duration\n",
    "        vmax = (clusters.shape[0] // 450 + 1000) / duration\n",
    "    else:\n",
    "        duration = 1\n",
    "        vmin = 1\n",
    "        vmax = 1\n",
    "    for i, bus in enumerate(np.arange(bus_start, bus_stop+1, 1)):\n",
    "        plt.subplot(number_rows, 3, i+1)\n",
    "        clusters_bus = clusters[clusters.bus == bus]\n",
    "        if clusters_bus.shape[0] > 1:\n",
    "            mg_basic_plot.clusters_phs_plot(clusters_bus, bus, duration, vmin, vmax)\n",
    "    plt.tight_layout()\n",
    "    \n",
    "    # Save data\n",
    "    output_path = '../output/%s_coincidences_phs.png' % run\n",
    "    fig.savefig(output_path, bbox_inches='tight')\n",
    "    \n",
    "    # Rate \n",
    "    number_bins = 50\n",
    "    fig = plt.figure()\n",
    "    fig.set_figwidth(14)\n",
    "    fig.set_figheight(4*number_rows)\n",
    "    for i, bus in enumerate(np.arange(bus_start, bus_stop+1, 1)):\n",
    "        plt.subplot(number_rows, 3, i+1)\n",
    "        clusters_bus = clusters[clusters.bus == bus]\n",
    "        mg_basic_plot.rate_plot(clusters_bus, number_bins, bus, area)\n",
    "    plt.tight_layout()\n",
    "    \n",
    "    # Save data\n",
    "    output_path = '../output/%s_rate.png' % run\n",
    "    fig.savefig(output_path, bbox_inches='tight')\n",
    "    \n",
    "    # TIME-OF-FLIGHT\n",
    "    number_bins = 300\n",
    "    fig = plt.figure()\n",
    "    fig.set_figwidth(14)\n",
    "    fig.set_figheight(4*number_rows)\n",
    "    for i, bus in enumerate(np.arange(bus_start, bus_stop+1, 1)):\n",
    "        plt.subplot(number_rows, 3, i+1)\n",
    "        clusters_bus = clusters[clusters.bus == bus]\n",
    "        mg_basic_plot.tof_histogram(clusters_bus, number_bins, bus)\n",
    "    plt.tight_layout()\n",
    "    \n",
    "    # Save data\n",
    "    output_path = '../output/%s_tof.png' % run\n",
    "    fig.savefig(output_path, bbox_inches='tight')"
   ]
  },
  {
   "cell_type": "markdown",
   "metadata": {},
   "source": [
    "### Normalization"
   ]
  },
  {
   "cell_type": "code",
   "execution_count": null,
   "metadata": {},
   "outputs": [],
   "source": []
  },
  {
   "cell_type": "markdown",
   "metadata": {},
   "source": [
    "### Distance calibration"
   ]
  },
  {
   "cell_type": "code",
   "execution_count": null,
   "metadata": {},
   "outputs": [],
   "source": [
    "def distance_calibration(df, E_in_meV, number_bins=100):\n",
    "    \"\"\"\n",
    "    Function to calibrate the distance to each voxel in the MG from the sample. Data is collected\n",
    "    from a monochromatic neutron beam incident on a small vanadium sample. The script histograms\n",
    "    data from each voxel, takes the tof corrsponding to the peak maximum, and calculates the \n",
    "    sample-detector distance based on this.\n",
    "    \n",
    "    Args:\n",
    "        df (pd.DataFrame): DataFrame containing the Multi-Grid data\n",
    "        E_in_meV (float): Incident energy of neutrons\n",
    "        number_bins (int): Number of bins for histogram\n",
    "\n",
    "    Returns:\n",
    "        distances (np.array): A 3D-array containing the '(bus, wch, gch) -> distance'-mapping\n",
    "    \n",
    "    \"\"\"\n",
    "    # Define parameters\n",
    "    buses = np.array([0, 1])\n",
    "    whcs = np.arange(0, 80, 1)\n",
    "    gchs = np.arange(80, 120, 1)\n",
    "    # Calculate velocity of incident neutrons\n",
    "    v_in_m_per_s = np.sqrt((E_in_meV/5.227)) *1e3 # From Squires (p. 3)\n",
    "    tof_moderator_to_sample_in_s = (MODERATOR_TO_SAMPLE_IN_M/v_in_m_per_s)\n",
    "    # Declare 3-dimensional numpy array\n",
    "    distances = np.zeros((len(buses), 80, 120), dtype='float')\n",
    "    # Iterate through all voxels\n",
    "    for bus in buses:\n",
    "        for wch in whcs:\n",
    "            for gch in gchs:\n",
    "                # Get data from a single voxel\n",
    "                voxel_data = df[(df.bus == bus) &\n",
    "                                (df.wch == wch) &\n",
    "                                (df.gch == gch)]\n",
    "                # Histogram tof data\n",
    "                hist, bin_edges = np.histogram(voxel_data['tof'], bins=number_bins)\n",
    "                bin_centers = (bin_edges[:-1] + bin_edges[1:]) / 2\n",
    "                # Get tof corresponding to peak maximum\n",
    "                idx_max_value = np.argmax(hist)\n",
    "                tof_in_s = bin_centers[idx_max_value] * 1e-6\n",
    "                # Get distance corresponding to tof\n",
    "                tof_sample_to_detection_in_s = tof_in_s - tof_moderator_to_sample_in_s\n",
    "                distance_in_m = v_in_m_per_s * tof_sample_to_detection_in_s\n",
    "                # Save in distances 3D-matrix\n",
    "                distances[bus, wch, gch] = distance_in_m\n",
    "    return distances\n"
   ]
  },
  {
   "cell_type": "markdown",
   "metadata": {},
   "source": [
    "## Helium-3 tubes"
   ]
  },
  {
   "cell_type": "markdown",
   "metadata": {},
   "source": [
    "### Plotting"
   ]
  },
  {
   "cell_type": "code",
   "execution_count": null,
   "metadata": {},
   "outputs": [],
   "source": [
    "def he3_plot_coordinates(pixels, region=None):\n",
    "    \"\"\"\n",
    "    Function to plot the positions of all the pixels in the LET helium-3 array, as well as\n",
    "    highlighting a region of interest.\n",
    "    \n",
    "    Args:\n",
    "        pixels (np.array): Pixel coordinates in Helium-3 array\n",
    "        region (np.array): Pixel ID's corresponding to a small region in the Helium-3 array\n",
    "                           which is to be highlighted.\n",
    "\n",
    "    Yields:\n",
    "        A 3D plot showing all the pixels in the helium-3 array (blue), as well highlightning\n",
    "        the position of the pixel id's provided in 'region' (green), and showing the sample\n",
    "        position (red).\n",
    "    \n",
    "    \"\"\"\n",
    "    # Define labels\n",
    "    labels = []\n",
    "    for i in np.arange(0, len(pixels['x']), 1):\n",
    "        labels.append('ID: %d<br>θ: %.2f°<br>φ: %.2f°' % (i, pixels['theta'][i], pixels['phi'][i]))\n",
    "    trace_1 = go.Scatter3d(\n",
    "        x=pixels['x'],\n",
    "        y=pixels['y'],\n",
    "        z=pixels['z'],\n",
    "        mode='markers',\n",
    "        marker=dict(\n",
    "            size=4,\n",
    "            line=dict(\n",
    "                color='rgba(0, 0, 255, 1)',\n",
    "                width=1.0\n",
    "            ),\n",
    "            opacity=1.0\n",
    "        ),\n",
    "        name='Helium-3 tubes',\n",
    "        text=labels\n",
    "    )\n",
    "    \n",
    "    trace_2 = go.Scatter3d(\n",
    "        x=[0],\n",
    "        y=[0],\n",
    "        z=[0],\n",
    "        mode='markers',\n",
    "        marker=dict(\n",
    "            size=4,\n",
    "            line=dict(\n",
    "                color='rgba(255, 0, 0, 1)',\n",
    "                width=5.0\n",
    "            ),\n",
    "            opacity=1.0\n",
    "        ),\n",
    "        name='Sample'\n",
    "    )\n",
    "    \n",
    "    if region is not None:\n",
    "        # Define labels\n",
    "        labels = []\n",
    "        for i in region:\n",
    "            labels.append('ID: %d<br>θ: %.2f°<br>φ: %.2f°' % (i, pixels['theta'][i], pixels['phi'][i]))\n",
    "        trace_3 = go.Scatter3d(\n",
    "                            x=pixels['x'][region],\n",
    "                            y=pixels['y'][region],\n",
    "                            z=pixels['z'][region],\n",
    "                            mode='markers',\n",
    "                            marker=dict(\n",
    "                                    size=4,\n",
    "                                    line=dict(\n",
    "                                            color='rgba(0, 255, 0, 1)',\n",
    "                                            width=1.0\n",
    "                                            ),\n",
    "                                    opacity=1.0\n",
    "                            ),\n",
    "                            name='Multi-Grid sized region',\n",
    "                            text=labels\n",
    "                            )\n",
    "\n",
    "        \n",
    "    \n",
    "    camera = dict(\n",
    "        up=dict(x=0, y=1, z=0),\n",
    "        center=dict(x=0, y=0, z=0),\n",
    "        eye=dict(x=-1.5, y=1.5, z=-1.5)\n",
    "    )\n",
    "\n",
    "    layout = go.Layout(\n",
    "        margin=dict(\n",
    "            l=0,\n",
    "            r=0,\n",
    "            b=0,\n",
    "            t=0\n",
    "        ),\n",
    "        scene=dict(\n",
    "                camera=camera,\n",
    "                xaxis = dict(\n",
    "                        title='x (m)'),\n",
    "                yaxis = dict(\n",
    "                        title='y (m)'),\n",
    "                zaxis = dict(\n",
    "                        title='z (m)'),)\n",
    "    )\n",
    "    py.offline.init_notebook_mode()\n",
    "    if region is None:\n",
    "        data = [trace_1, trace_2]\n",
    "    else:\n",
    "        data = [trace_1, trace_2, trace_3]\n",
    "    fig = go.Figure(data=data, layout=layout)\n",
    "    py.offline.iplot(fig)"
   ]
  },
  {
   "cell_type": "code",
   "execution_count": null,
   "metadata": {},
   "outputs": [],
   "source": [
    "def plot_helium_3_(pixels, region=None):\n",
    "    "
   ]
  },
  {
   "cell_type": "markdown",
   "metadata": {},
   "source": [
    "### Normalization"
   ]
  },
  {
   "cell_type": "code",
   "execution_count": null,
   "metadata": {},
   "outputs": [],
   "source": [
    "def he3_get_area(number_pixels, pixels_per_tube=256):\n",
    "    \"\"\"\n",
    "    Get area covered by the specified number of pixels in the helium-3 tubes.\n",
    "    \n",
    "    Args:\n",
    "        number_pixels (np.array): Number of pixels\n",
    "        pixels_per_tube (int): Number of pixels per tube\n",
    "\n",
    "    Return:\n",
    "        area_in_m2 (float): Area in m^2 covered by pixels\n",
    "    \"\"\"\n",
    "    tube_length = 4 # [m]\n",
    "    tube_diameter = 0.0254 # [m]\n",
    "    segment_area = (tube_length*tube_diameter)/pixels_per_tube\n",
    "    area_in_m2 = segment_area * number_pixels\n",
    "    return area_in_m2\n",
    "\n",
    "def he3_get_solid_angle(pixels, pixels_per_tube=256):\n",
    "    \"\"\"\n",
    "    Get solid angle covered by the specified pixels in the helium-3 tubes.\n",
    "    \n",
    "    Args:\n",
    "        pixels (np.array): Pixel coordinates in Helium-3 array\n",
    "        pixels_per_tube (int): Number of pixels per tube\n",
    "\n",
    "    Return:\n",
    "        solid_angle (float): Solid angle in radians covered by pixels\n",
    "    \"\"\"\n",
    "    # Get area of one pixel\n",
    "    pixel_area = he3_get_area(1)\n",
    "    # Get solid angle by summing contribution from each pixel\n",
    "    solid_angle = 0\n",
    "    for r, theta, phi in zip(pixels['r'], pixels['theta'], pixels['phi']):\n",
    "        projected_area = pixel_area * np.cos(phi * ((2*np.pi)/360))\n",
    "        pixel_solid_angle = projected_area / (r ** 2)\n",
    "        solid_angle += pixel_solid_angle\n",
    "    return solid_angle\n",
    "\n",
    "def get_duration(path):\n",
    "    \"\"\"\n",
    "    Get measurement duration of file.\n",
    "    \n",
    "    Args:\n",
    "        path (str): Path to '.nxs'-file.\n",
    "\n",
    "    Return:\n",
    "        duration_in_s (float): Duration of measurements in seconds\n",
    "    \"\"\"\n",
    "    nxs = h5py.File(path, 'r')\n",
    "    duration_in_s = nxs['raw_data_1']['duration'][0] # In seconds\n",
    "    return duration_in_s\n",
    "    "
   ]
  },
  {
   "cell_type": "markdown",
   "metadata": {},
   "source": [
    "## Common"
   ]
  },
  {
   "cell_type": "markdown",
   "metadata": {},
   "source": [
    "### Energy calculation"
   ]
  },
  {
   "cell_type": "code",
   "execution_count": null,
   "metadata": {},
   "outputs": [],
   "source": [
    "def get_energy(tof_in_us, sample_to_detection_in_m):\n",
    "    \"\"\"\n",
    "    Function to calculate neutron energy by first calculating neutron velocity\n",
    "    from time-of-flight and flight distance.\n",
    "    \n",
    "    Args:\n",
    "        tof_in_us (np.array): Time-of-flight in micro seconds\n",
    "        sample_to_detection_in_m (np.array): Sample-to-detection distance in meters\n",
    "\n",
    "    Return:\n",
    "        energies_in_meV (np.array): Neutron energies\n",
    "    \"\"\"\n",
    "    # Energy calculation\n",
    "    full_distance = MODERATOR_TO_SAMPLE_IN_M + sample_to_detection_in_m\n",
    "    v_in_km_per_s = (full_distance * 1e-3)/(tof_in_us * 1e-6)\n",
    "    energies_in_meV = 5.227 * (v_in_km_per_s ** 2) # Calculated according to Squires (p. 3)\n",
    "    return energies_in_meV"
   ]
  },
  {
   "cell_type": "markdown",
   "metadata": {},
   "source": [
    "### Energy transfer"
   ]
  },
  {
   "cell_type": "code",
   "execution_count": null,
   "metadata": {},
   "outputs": [],
   "source": [
    "def get_energy_transfer(Ei_in_meV, tof_in_us, sample_to_detection_in_m):\n",
    "    \"\"\"\n",
    "    Function to calculate neutron energy transfer by calculating the initial neutron velocity, v_i, \n",
    "    as well as the final neutron velocity, v_f, after the scattering.\n",
    "    \n",
    "    Args:\n",
    "        Ei_in_meV (float): Initial energy in meV\n",
    "        tof_in_us (np.array): Time-of-flight in micro seconds\n",
    "        sample_to_detection_in_m (np.array): Sample-to-detection distance in meters\n",
    "\n",
    "    Return:\n",
    "        delta_E (np.array): Neutron energy transfer (Ei - Ef)\n",
    "    \"\"\"\n",
    "    \n",
    "    # Get initial neutron velocity\n",
    "    vi_in_m_per_s = np.sqrt((Ei_in_meV/5.227)) * 1e3 # From Squires (p. 3)\n",
    "    # Get final neutron velocity\n",
    "    tof_moderator_to_sample_in_s = (MODERATOR_TO_SAMPLE_IN_M/vi_in_m_per_s)\n",
    "    tof_sample_to_detection_in_s = (tof_in_us * 1e-6) - tof_moderator_to_sample_in_s\n",
    "    vf_in_km_per_s = (sample_to_detection_in_m/tof_sample_to_detection_in_s) * 1e-3\n",
    "    # Get final neutron energy\n",
    "    Ef_in_meV = 5.227 * (vf_in_km_per_s ** 2) # Calculated according to Squires (p. 3)\n",
    "    # Calculate energy transfer\n",
    "    delta_E = Ei_in_meV - Ef_in_meV\n",
    "    return delta_E"
   ]
  },
  {
   "cell_type": "markdown",
   "metadata": {},
   "source": [
    "### Gaussian fitting"
   ]
  },
  {
   "cell_type": "code",
   "execution_count": null,
   "metadata": {},
   "outputs": [],
   "source": [
    "# Perform Gaussian fitting procedure\n",
    "def fit_data(hist, bins, a_guess, x0_guess, sigma_guess):\n",
    "    \"\"\"\n",
    "    Function to fit a Gaussian distribution.\n",
    "    \n",
    "    Args:\n",
    "        hist (np.array): Histogram\n",
    "        bins (np.array): Bin centers\n",
    "        a_guess (float): Guess of a, as defined below\n",
    "        x0_guess (float): Guess of x0, as defined in below\n",
    "        sigma_guess (float): Guess of sigma, as defined below\n",
    "\n",
    "    Return:\n",
    "        a (float): a, as defined below\n",
    "        x0 (float): x0, as defined below\n",
    "        sigma (float): sigma, as defined below\n",
    "        perr (np.array): Array with uncertainites on fit parameters\n",
    "    \"\"\"\n",
    "    \n",
    "    def Gaussian(x, a, x0, sigma):\n",
    "        return a*np.exp(-(x-x0)**2/(2*sigma**2))\n",
    "\n",
    "    popt, pcov = sci_opt.curve_fit(Gaussian, bins, hist, p0=[a_guess, x0_guess, sigma_guess])\n",
    "    a, x0, sigma = popt[0], popt[1], abs(popt[2])\n",
    "    perr = np.sqrt(np.diag(pcov))\n",
    "    return a, x0, sigma, perr\n",
    "\n",
    "# Get an approximation of the fit parameters, to aid the 'curve_fit' algorithm\n",
    "def get_fit_parameters_guesses(hist, bins):\n",
    "    \"\"\"\n",
    "    Function to estimate the parameters of a Gaussian.\n",
    "    \n",
    "    Args:\n",
    "        hist (np.array): Histogram\n",
    "        bins (np.array): Bin centers\n",
    "\n",
    "    Return:\n",
    "        a_guess (float): Guess of a, as defined in 'fit_data' above\n",
    "        x0_guess (float): Guess of x0, as defined in 'fit_data' above\n",
    "        sigma_guess (float): Guess of sigma, as defined in 'fit_data' above\n",
    "    \"\"\"\n",
    "    \n",
    "    def find_nearest(array, value):\n",
    "        idx = (np.abs(array - value)).argmin()\n",
    "        return idx\n",
    "    \n",
    "    # Extract relavant parameters\n",
    "    maximum = max(hist)\n",
    "    maximum_idx = find_nearest(hist, maximum)\n",
    "    half_maximum = maximum/2\n",
    "    half_maximum_idx_1 = find_nearest(hist[:maximum_idx], half_maximum)\n",
    "    half_maximum_idx_2 = find_nearest(hist[maximum_idx:], half_maximum) + maximum_idx\n",
    "    FWHM = bins[half_maximum_idx_2] - bins[half_maximum_idx_1]\n",
    "    # Calculate guesses\n",
    "    a_guess = maximum\n",
    "    x0_guess = bins[maximum_idx]\n",
    "    sigma_guess = FWHM/(2*np.sqrt(2*np.log(2)))\n",
    "    return a_guess, x0_guess, sigma_guess\n"
   ]
  },
  {
   "cell_type": "markdown",
   "metadata": {},
   "source": [
    "### Plotting"
   ]
  },
  {
   "cell_type": "code",
   "execution_count": null,
   "metadata": {},
   "outputs": [],
   "source": [
    "def tof_histogram_plot(df, number_bins, label=None):\n",
    "    \"\"\"\n",
    "    Function to plot a time-of-flight histogram.\n",
    "    \n",
    "    Args:\n",
    "        df (pd.DataFrame): DataFrame containing the data\n",
    "        number_bins (int): Number of bins in the histogram\n",
    "        label (str): Label on data\n",
    "\n",
    "    Yields:\n",
    "        A histogram of time-of-flight\n",
    "    \n",
    "    Returns:\n",
    "        hist (np.array): tof histogram\n",
    "        bins (np.array): bin edges\n",
    "    \n",
    "    \"\"\"\n",
    "    \n",
    "    # Get tof\n",
    "    tof_in_us = df['tof']\n",
    "    # Plot\n",
    "    hist, bins, __ = plt.hist(tof_in_us, range=[0, 100000], bins=number_bins,\n",
    "                              histtype='step', zorder=10, label=label\n",
    "                              )\n",
    "    plt.grid(True, which='major', linestyle='--', zorder=0)\n",
    "    plt.grid(True, which='minor', linestyle='--', zorder=0)\n",
    "    plt.yscale('log')\n",
    "    plt.title('Time-of-flight histogram')\n",
    "    plt.xlabel('tof (μs)')\n",
    "    plt.ylabel('counts')\n",
    "    return hist, bins\n",
    "    \n",
    "\n",
    "def energy_histogram_plot(tof_in_us, sample_to_detection_in_m, number_bins, label=None):\n",
    "    \"\"\"\n",
    "    Function to plot an energy histogram.\n",
    "    \n",
    "    Args:\n",
    "        tof_in_us (np.array): Time-of-flight values in micro-seconds\n",
    "        sample_to_detection_in_m (np.array): Sample-to-detection distance in meters\n",
    "        number_bins (int): Number of bins in histogra\n",
    "        label (str): Label on data\n",
    "\n",
    "    Yields:\n",
    "        A histogram of energy\n",
    "        \n",
    "    Returns:\n",
    "        hist (np.array): energy histogram\n",
    "        bins (np.array): bin edges\n",
    "    \n",
    "    \"\"\"\n",
    "    \n",
    "    # Get energies\n",
    "    energies = get_energy(tof_in_us, sample_to_detection_in_m)\n",
    "    # Plot\n",
    "    hist, bins, __ = plt.hist(energies, range=[0, 30], bins=number_bins,\n",
    "                              histtype='step', zorder=10\n",
    "                              )\n",
    "    plt.grid(True, which='major', linestyle='--', zorder=0)\n",
    "    plt.grid(True, which='minor', linestyle='--', zorder=0)\n",
    "    plt.yscale('log')\n",
    "    plt.title('Energy histogram')\n",
    "    plt.xlabel('E (meV)')\n",
    "    plt.ylabel('counts')\n",
    "    return hist, bins\n",
    "\n",
    "\n",
    "def energy_transfer_plot(Ei_in_meV, tof_in_us, sample_to_detection_in_m, number_bins, label=None):\n",
    "    \"\"\"\n",
    "    Function to plot an energy transfer histogram.\n",
    "    \n",
    "    Args:\n",
    "        Ei_in_meV (float): Initial energy in meV\n",
    "        tof_in_us (np.array): Time-of-flight in micro seconds\n",
    "        sample_to_detection_in_m (np.array): Sample-to-detection distance in meters\n",
    "        number_bins (int): Number of bins in histogra\n",
    "        label (str): Label on data\n",
    "\n",
    "    Yields:\n",
    "        A histogram of energy transfer plot\n",
    "        \n",
    "    Returns:\n",
    "        hist (np.array): energy transfer histogram\n",
    "        bins (np.array): bin edges\n",
    "    \n",
    "    \"\"\"\n",
    "    \n",
    "    # Get energy transfer data\n",
    "    delta_E = get_energy_transfer(Ei_in_meV, tof_in_us, sample_to_detection_in_m)\n",
    "    # Plot data\n",
    "    delta_E_limit = Ei_in_meV * 0.2\n",
    "    hist, bins, __ = plt.hist(delta_E, range=[-delta_E_limit, delta_E_limit],\n",
    "                              bins=number_bins, histtype='step', zorder=10, label=label\n",
    "                              )\n",
    "    plt.grid(True, which='major', linestyle='--', zorder=0)\n",
    "    plt.grid(True, which='minor', linestyle='--', zorder=0)\n",
    "    plt.yscale('log')\n",
    "    plt.title('Energy transfer histogram, E$_i$ = %.2f meV' % Ei_in_meV)\n",
    "    plt.xlabel('E$_i$ - E$_f$ (meV)')\n",
    "    plt.ylabel('counts')\n",
    "    return hist, bins\n",
    "    \n",
    "def get_all_energy_transfer_plot(tof_in_us, sample_to_detection_in_m, number_bins, prominence=1e4):\n",
    "    \"\"\"\n",
    "    Function to plot all energy transfer histogram.\n",
    "    \n",
    "    Args:\n",
    "        tof_in_us (np.array): Time-of-flight in micro seconds\n",
    "        sample_to_detection_in_m (np.array): Sample-to-detection distance in meters\n",
    "        number_bins (int): Number of bins in histogra\n",
    "        prominence (float): Peak prominence for the peak search algorithm to find\n",
    "\n",
    "    Yields:\n",
    "        All energy transfer histograms\n",
    "    \n",
    "    \"\"\"\n",
    "    \n",
    "    \n",
    "    \n",
    "    # Produce an energy histogram over all energies\n",
    "    hist, bin_edges = energy_histogram_plot(tof_in_us, sample_to_detection_in_m, 1000)\n",
    "    bin_centers = (bin_edges[:-1] + bin_edges[1:]) / 2\n",
    "    # Get peaks\n",
    "    peak_idxs = sci_sig.find_peaks(hist, prominence=prominence)[0]\n",
    "    Eis_in_meV = bin_centers[peak_idxs]\n",
    "    # Plot all energy transfer plots\n",
    "    for Ei_in_meV in Eis_in_meV:\n",
    "        fig = plt.figure()\n",
    "        hist, bin_edges = energy_transfer_plot(Ei_in_meV, tof_in_us, sample_to_detection_in_m, number_bins)\n",
    "        plt.show()\n",
    "        \n"
   ]
  },
  {
   "cell_type": "markdown",
   "metadata": {},
   "source": [
    "# 2. Data"
   ]
  },
  {
   "cell_type": "markdown",
   "metadata": {},
   "source": [
    "## 2.1 Paths<a class=\"anchor\" id=\"EXTRACT\"></a>"
   ]
  },
  {
   "cell_type": "markdown",
   "metadata": {},
   "source": [
    "## Multi-Grid detector"
   ]
  },
  {
   "cell_type": "code",
   "execution_count": null,
   "metadata": {},
   "outputs": [],
   "source": [
    "MG_PATHS = {'mg_run_1': MG_RAW_FOLDER + 'mvmelst_212_200401_051232_SEQ1CaveShielded_SEQ2UnshieldedHorizontal_GasInAtTheStartOfTheRun_Continued_NoRHWGnd.zip',\n",
    "            'mg_run_2': MG_RAW_FOLDER + 'ISIS_Source_FirstRun_mvmelst_241_201104_112406.zip',\n",
    "            'mg_run_3': MG_RAW_FOLDER + 'ISIS_Source_2RUN_mvmelst_242_201104_115413.zip',\n",
    "            'mg_run_4': MG_RAW_FOLDER + 'ISIS_Source_3RUN_mvmelst_243_201105_043444.zip',\n",
    "            'mg_run_5': MG_RAW_FOLDER + 'BG_ISIS_mvmelst_244_201105_064156.zip'}"
   ]
  },
  {
   "cell_type": "markdown",
   "metadata": {},
   "source": [
    "## Helium-3 tube"
   ]
  },
  {
   "cell_type": "code",
   "execution_count": null,
   "metadata": {},
   "outputs": [],
   "source": [
    "HE3_PATHS = {'he3_run_1': HE3_FOLDER + 'LET00068153.nxs',\n",
    "             'he3_run_2': HE3_FOLDER + 'LET00068806.nxs'}"
   ]
  },
  {
   "cell_type": "markdown",
   "metadata": {},
   "source": [
    "## 2.2 Extract<a class=\"anchor\" id=\"EXTRACT\"></a>"
   ]
  },
  {
   "cell_type": "markdown",
   "metadata": {},
   "source": [
    "## Multi-Grid detector"
   ]
  },
  {
   "cell_type": "code",
   "execution_count": null,
   "metadata": {
    "scrolled": true
   },
   "outputs": [],
   "source": [
    "# Note that the 'extract_and_save'-function only needs to performed once.\n",
    "# After that, the data has been clustered and saved. The data can then\n",
    "# be accessed using the 'load_clusters_and_events'-function.\n",
    "\n",
    "#mg_read.extract_and_save('mg_run_1', MG_PATHS['mg_run_1'], MG_PROCESSED_FOLDER)\n",
    "#mg_read.extract_and_save('mg_run_2', MG_PATHS['mg_run_2'], MG_PROCESSED_FOLDER)\n",
    "#mg_read.extract_and_save('mg_run_3', MG_PATHS['mg_run_3'], MG_PROCESSED_FOLDER)\n",
    "#mg_read.extract_and_save('mg_run_4', MG_PATHS['mg_run_4'], MG_PROCESSED_FOLDER)\n",
    "#mg_read.extract_and_save('mg_run_5', MG_PATHS['mg_run_5'], MG_PROCESSED_FOLDER)"
   ]
  },
  {
   "cell_type": "markdown",
   "metadata": {},
   "source": [
    "## Helium-3 tube"
   ]
  },
  {
   "cell_type": "code",
   "execution_count": null,
   "metadata": {},
   "outputs": [],
   "source": [
    "# The data is in the format of NeXuS files, provided by the LET team."
   ]
  },
  {
   "cell_type": "markdown",
   "metadata": {},
   "source": [
    "## 2.3 Load<a class=\"anchor\" id=\"LOAD\"></a>"
   ]
  },
  {
   "cell_type": "markdown",
   "metadata": {},
   "source": [
    "## Multi-Grid detector"
   ]
  },
  {
   "cell_type": "code",
   "execution_count": null,
   "metadata": {
    "scrolled": true
   },
   "outputs": [],
   "source": [
    "#mg_clu_run_1, mg_ev_run_1 = mg_read.load_clusters_and_events('mg_run_1', MG_PROCESSED_FOLDER)\n",
    "mg_clu_run_2, mg_ev_run_2 = mg_read.load_clusters_and_events('mg_run_2', MG_PROCESSED_FOLDER)\n",
    "mg_clu_run_3, mg_ev_run_3 = mg_read.load_clusters_and_events('mg_run_3', MG_PROCESSED_FOLDER)\n",
    "mg_clu_run_4, mg_ev_run_4 = mg_read.load_clusters_and_events('mg_run_4', MG_PROCESSED_FOLDER)\n",
    "mg_clu_run_5, mg_ev_run_5 = mg_read.load_clusters_and_events('mg_run_5', MG_PROCESSED_FOLDER)"
   ]
  },
  {
   "cell_type": "markdown",
   "metadata": {},
   "source": [
    "## Helium-3 tubes"
   ]
  },
  {
   "cell_type": "code",
   "execution_count": null,
   "metadata": {},
   "outputs": [],
   "source": [
    "he3_mapping_1 = he3_read.get_pixel_to_xyz_mapping(HE3_PATHS['he3_run_1'])\n",
    "df_he3_run_1 = he3_read.import_data(HE3_PATHS['he3_run_1'])"
   ]
  },
  {
   "cell_type": "markdown",
   "metadata": {},
   "source": [
    "# 3. Filters<a class=\"anchor\" id=\"FILTER\"></a>"
   ]
  },
  {
   "cell_type": "markdown",
   "metadata": {},
   "source": [
    "Declare filters which can be used on the data. Below are a few template filters."
   ]
  },
  {
   "cell_type": "markdown",
   "metadata": {},
   "source": [
    "## Multi-Grid detector"
   ]
  },
  {
   "cell_type": "code",
   "execution_count": null,
   "metadata": {},
   "outputs": [],
   "source": [
    "\"\"\"\n",
    "Filters are declared in the following format: {'PARAMETER': [MIN_VALUE, MAX_VALUE, IS_ACTIVATE]}\n",
    "\"\"\"\n",
    "\n",
    "# Declare filters for SEQUOIA module\n",
    "mg_filter_basic = {'wm': [1, 1, True],                   # Wire multiplicity\n",
    "                   'gm': [1, 5, True],                   # Grid multiplicity\n",
    "                   'wadc': [1000, np.inf, True],          # Wire charge\n",
    "                   'gadc': [1000, np.inf, True],          # Grid charge\n",
    "                   'tof': [0, np.inf, True],             # Time-of-flight (TDC channels)\n",
    "                   'time': [0, np.inf, True],            # Time (TDC channels)\n",
    "                   'bus': [0, 8, True],                  # Bus\n",
    "                   'flag': [0, 1, False],                # =1 if different buses within same coincidence\n",
    "                   'layer': [0, 19, False],              # Layer, front=0 to back=19\n",
    "                   'row': [0, 11, False],                # Row, right to left (seen from neutrons)\n",
    "                   'gch': [80, 119, True]}               # Grid channel, bottom=80 to top=119     \n",
    "\n",
    "mg_filter_none  = {'wm': [1, 1, False],                   # Wire multiplicity\n",
    "                   'gm': [1, 5, False],                   # Grid multiplicity\n",
    "                   'wadc': [600, np.inf, False],          # Wire charge\n",
    "                   'gadc': [600, np.inf, False],          # Grid charge\n",
    "                   'tof': [0, np.inf, False],             # Time-of-flight (TDC channels)\n",
    "                   'time': [0, np.inf, False],            # Time (TDC channels)\n",
    "                   'bus': [0, 8, False],                  # Bus\n",
    "                   'flag': [0, 1, False],                # =1 if different buses within same coincidence\n",
    "                   'layer': [0, 19, False],              # Layer, front=0 to back=19\n",
    "                   'row': [0, 11, False],                # Row, right to left (seen from neutrons)\n",
    "                   'gch': [80, 119, False]}               # Grid channel, bottom=80 to top=119       "
   ]
  },
  {
   "cell_type": "markdown",
   "metadata": {},
   "source": [
    "## Helium-3 tubes"
   ]
  },
  {
   "cell_type": "code",
   "execution_count": null,
   "metadata": {},
   "outputs": [],
   "source": [
    "# Declare region of interest\n",
    "pixels = []\n",
    "start_pixel = 16384\n",
    "height = 60\n",
    "diff_tubes = 256\n",
    "number_tubes = 32\n",
    "for i in np.arange(0, 16, 1):\n",
    "    start = start_pixel+diff_tubes*i\n",
    "    stop = start_pixel+diff_tubes*i + height\n",
    "    for j in np.arange(start, stop):\n",
    "        pixels.append(j)\n",
    "region_of_interest = np.array(pixels)"
   ]
  },
  {
   "cell_type": "markdown",
   "metadata": {},
   "source": [
    "# 4. Plotting<a class=\"anchor\" id=\"FILTER\"></a>"
   ]
  },
  {
   "cell_type": "markdown",
   "metadata": {},
   "source": [
    "## 4.1 Multi-Grid detector"
   ]
  },
  {
   "cell_type": "markdown",
   "metadata": {},
   "source": [
    "### run_1: (test data from preparations at Utgård)"
   ]
  },
  {
   "cell_type": "code",
   "execution_count": null,
   "metadata": {
    "scrolled": false
   },
   "outputs": [],
   "source": [
    "area = 0.0225*0.0225*4*40\n",
    "mg_plot_basic('run_1', mg_clu_run_1, mg_ev_run_1, mg_filter_basic, 0, 2, 1, area)"
   ]
  },
  {
   "cell_type": "markdown",
   "metadata": {},
   "source": [
    "### run_2: (ISIS_Source_FirstRun_mvmelst_241_201104_112406.zip)"
   ]
  },
  {
   "cell_type": "code",
   "execution_count": null,
   "metadata": {
    "scrolled": false
   },
   "outputs": [],
   "source": [
    "area = 0.0225*0.0225*4*40\n",
    "mg_plot_basic('run_2', mg_clu_run_2, mg_ev_run_2, mg_filter_basic, 0, 2, 1, area)"
   ]
  },
  {
   "cell_type": "markdown",
   "metadata": {},
   "source": [
    "### run_3: (ISIS_Source_2RUN_mvmelst_242_201104_115413.zip)"
   ]
  },
  {
   "cell_type": "code",
   "execution_count": null,
   "metadata": {
    "scrolled": true
   },
   "outputs": [],
   "source": [
    "area = 0.0225*0.0225*4*40\n",
    "mg_plot_basic('run_3', mg_clu_run_3, mg_ev_run_3, mg_filter_basic, 0, 2, 1, area)"
   ]
  },
  {
   "cell_type": "markdown",
   "metadata": {},
   "source": [
    "### run_4: (ISIS_Source_3RUN_mvmelst_243_201105_043444.zip)"
   ]
  },
  {
   "cell_type": "code",
   "execution_count": null,
   "metadata": {
    "scrolled": true
   },
   "outputs": [],
   "source": [
    "area = 0.0225*0.0225*4*40\n",
    "mg_plot_basic('run_4', mg_clu_run_4, mg_ev_run_4, mg_filter_basic, 0, 2, 1, area)"
   ]
  },
  {
   "cell_type": "markdown",
   "metadata": {},
   "source": [
    "### run_5: (BG_ISIS_mvmelst_244_201105_064156.zip)"
   ]
  },
  {
   "cell_type": "code",
   "execution_count": null,
   "metadata": {
    "scrolled": true
   },
   "outputs": [],
   "source": [
    "area = 0.0225*0.0225*4*40\n",
    "mg_plot_basic('run_5', mg_clu_run_5, mg_ev_run_5, mg_filter_basic, 0, 2, 1, area)"
   ]
  },
  {
   "cell_type": "markdown",
   "metadata": {},
   "source": [
    "## 4.2 Helium-3 tubes"
   ]
  },
  {
   "cell_type": "markdown",
   "metadata": {},
   "source": [
    "### Selection of region of interest"
   ]
  },
  {
   "cell_type": "code",
   "execution_count": null,
   "metadata": {},
   "outputs": [],
   "source": [
    "he3_plot_coordinates(he3_mapping_1, region=region_of_interest)"
   ]
  },
  {
   "cell_type": "markdown",
   "metadata": {},
   "source": [
    "### run_1: (test data sent from Ross)"
   ]
  },
  {
   "cell_type": "code",
   "execution_count": null,
   "metadata": {
    "scrolled": false
   },
   "outputs": [],
   "source": [
    "# Declare parameters\n",
    "number_bins = 1000\n",
    "\n",
    "# Define region of interest as a series of pixel id's\n",
    "region_of_interest = np.arange(0, 98304, 1)\n",
    "\n",
    "# Make geometrical cut\n",
    "df_he3_run_1_cut = df_he3_run_1[df_he3_run_1['pixel_id'].isin(region_of_interest)]\n",
    "\n",
    "# Plot\n",
    "fig = plt.figure()\n",
    "tof_histogram_plot(df_he3_run_1_cut, number_bins)\n",
    "plt.show()\n",
    "fig = plt.figure()\n",
    "energy_histogram_plot(df_he3_run_1_cut['tof'],\n",
    "                      he3_mapping_1['r'][df_he3_run_1_cut['pixel_id']],\n",
    "                      number_bins)\n",
    "plt.show()\n",
    "\n",
    "# Get all energy transfer plots\n",
    "get_all_energy_transfer_plot(df_he3_run_1_cut['tof'],\n",
    "                             he3_mapping_1['r'][df_he3_run_1_cut['pixel_id']],\n",
    "                             number_bins, prominence=1e4)"
   ]
  }
 ],
 "metadata": {
  "kernelspec": {
   "display_name": "Python 3",
   "language": "python",
   "name": "python3"
  },
  "language_info": {
   "codemirror_mode": {
    "name": "ipython",
    "version": 3
   },
   "file_extension": ".py",
   "mimetype": "text/x-python",
   "name": "python",
   "nbconvert_exporter": "python",
   "pygments_lexer": "ipython3",
   "version": "3.7.7"
  }
 },
 "nbformat": 4,
 "nbformat_minor": 2
}
