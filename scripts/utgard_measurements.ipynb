{
 "cells": [
  {
   "cell_type": "markdown",
   "metadata": {},
   "source": [
    "<font size=\"20\">\n",
    "\n",
    "# Background measurements at Utgård\n",
    "\n",
    "<font size=\"3\">\n",
    "\n",
    "\n",
    "> __Author:__ A. Backis\n",
    "<br/>__Institute:__ European Spallation Source (ESS), University of Glasgow\n",
    "<br/>__Date:__ 7/2-2020\n",
    "\n",
    "_Abstract:_\n",
    "This notebook contains the data-analysis for measurements conducted at Utgård 2019-06 to 2019-12. The notebook presents a summary of all the measurements conducted and compares them to each other."
   ]
  },
  {
   "cell_type": "markdown",
   "metadata": {},
   "source": [
    "# Contents\n",
    "* [1. Introduction](#INTRODUCTION)\n",
    "    * [1.1 Packages](#PACKAGES)\n",
    "* [2. Data](#DATA)\n",
    "    * [2.1 Declare paths](#PATHS)\n",
    "    * [2.2 Extract data](#EXTRACT)\n",
    "    * [2.3 Declare filters](#FILTER)\n",
    "* [3. Background measurements](#MEASUREMENTS)\n",
    "    * [3.1 SEQUOIA](#SEQUOIA)\n",
    "    * [3.2 Utgård - part 1](#UTGARD_1)\n",
    "    * [3.3 Utgård - part 2](#UTGARD_2)\n",
    "* [4. Analysis](#ANALYSIS)\n",
    "* [Acknowledgements](#ACKNOWLEDGEMENTS)\n",
    "* [References](#REFERENCES)"
   ]
  },
  {
   "cell_type": "markdown",
   "metadata": {},
   "source": [
    "# 1. Introduction<a class=\"anchor\" id=\"INTRODUCTION\"></a>"
   ]
  },
  {
   "cell_type": "markdown",
   "metadata": {},
   "source": [
    "## 1.1 Packages<a class=\"anchor\" id=\"PACKAGES\"></a>"
   ]
  },
  {
   "cell_type": "code",
   "execution_count": null,
   "metadata": {},
   "outputs": [],
   "source": [
    "# Autoload packages when doing an external change\n",
    "%load_ext autoreload\n",
    "%autoreload 2\n",
    "\n",
    "# Make matplotlib interactive mode in notebook\n",
    "%matplotlib inline\n",
    "%matplotlib notebook\n",
    "\n",
    "# General packages\n",
    "import os\n",
    "import numpy as np\n",
    "import pandas as pd\n",
    "import matplotlib.pyplot as plt\n",
    "from matplotlib.colors import LogNorm\n",
    "\n",
    "# Data handling\n",
    "import mg.file_handling.read as mg_read\n",
    "\n",
    "# Plotting\n",
    "import mg.plotting.basic_plot as mg_basic_plot\n",
    "import mg.plotting.advanced_plot as mg_advanced_plot\n",
    "\n",
    "# Helper functions\n",
    "import mg.helper_functions.misc as mg_hf"
   ]
  },
  {
   "cell_type": "markdown",
   "metadata": {},
   "source": [
    "# 2. Data<a class=\"anchor\" id=\"DATA\"></a>"
   ]
  },
  {
   "cell_type": "markdown",
   "metadata": {},
   "source": [
    "## 2.1 Declare paths"
   ]
  },
  {
   "cell_type": "code",
   "execution_count": null,
   "metadata": {},
   "outputs": [],
   "source": [
    "# Declare folder to raw data\n",
    "folder = '../data/utgard_measurements/raw/'\n",
    "\n",
    "# Paths to background measurement at SEQUOIA\n",
    "background_at_sequoia_path = folder + 'mvmelst_039.zip'\n",
    "\n",
    "# Paths to background measurements at Utgård, 2019-06 -> 2019-10\n",
    "summer_68h_no_shielding_path = folder + 'mvmelst_042_noShielding_68h.zip'\n",
    "summer_287h_no_shielding_path = folder + 'mvmelst_042_NoShileding_1100V_286h49m.zip'\n",
    "sumer_268h_no_shielding_upright_path = folder + 'mvmelst_047_NoShielding_Upright_1100V_268h16m.zip'\n",
    "summer_46h_no_shielding_upright_path = folder + 'mvmelst_078_2det_45h56m_1vertical.zip'\n",
    "summer_69h_shielding_path = folder + 'mvmelst_035_Shielding_1100V_69h20m.zip'\n",
    "summer_114h_shielding_path = folder + 'mvmelst_045_Shielding_1100V_114h22m.zip'\n",
    "\n",
    "# Paths to background measurements at Utgård, 2019-11 -> 2019-12\n",
    "seqI_no_shielding_path = folder + 'mvmelst_179_191118_065800_SEQUOIA_II_18_11_2019_to_20_11_2019_no_mirrorbor_shielding.zip'\n",
    "seqI_mirrorbor_shielding_front_path = folder + 'mvmelst_177_191115_095131_SEQUOIA__II_15_11_2019_to_18_11_2019_mirrorbor_covering_detector_front.zip'\n",
    "seqI_mirrorbor_shielding_front_and_back_path = folder + 'mvmelst_181_191120_100402_SEQUOIA__II_20_11_2019_to_22_11_2019_mirrorbor_shielding_top_and_bottom.zip'\n",
    "seqI_mirrorbor_shielding_front_and_back_setup_2_path = folder + 'mvmelst_185_191125_091109_SEQUOIA_II_25_11_2019_to_29_11_2019_mirrorbor_shielding_top_and_bottom_setup_2_attempt_2.zip'\n",
    "seqI_inside_new_cave_path = folder + 'mvmelst_189_191205_093810_SEQUOIA_I_06_12_2019_to_09_12_2019_inside_new_cave.zip'\n",
    "seqII_mirrorbor_and_polyethylene_shielding_path = folder + 'mvmelst_188_191203_101632_SEQUOIA_II_1350_V_03_12_2019_to_05_12_2019_SEQUOIA_II_shielded_with_polyethylene_and_mirrorbor_sides_and_front.zip'"
   ]
  },
  {
   "cell_type": "markdown",
   "metadata": {},
   "source": [
    "## 2.2 Extract data<a class=\"anchor\" id=\"EXTRACT\"></a>"
   ]
  },
  {
   "cell_type": "code",
   "execution_count": null,
   "metadata": {},
   "outputs": [],
   "source": [
    "# =============================================================================\n",
    "#                    EXTRACT CLUSTERS AND INDIVIDUAL EVENTS\n",
    "# =============================================================================\n",
    "\n",
    "def extract_mg_data(zipped_path):\n",
    "    unzipped_path = mg_read.unzip_data(zipped_path)\n",
    "    data = mg_read.import_data(unzipped_path)\n",
    "    # Extract clusters\n",
    "    clusters = mg_read.extract_clusters(data)\n",
    "    # Extract events \n",
    "    events = mg_read.extract_events(data)\n",
    "    return clusters, events"
   ]
  },
  {
   "cell_type": "code",
   "execution_count": null,
   "metadata": {
    "scrolled": true
   },
   "outputs": [],
   "source": [
    "# Background measurement at SEQUOIA\n",
    "background_at_sequoia_clusters, background_at_sequoia_events = extract_mg_data(background_at_sequoia_path)\n",
    "\n",
    "# Paths to background measurements at Utgård, 2019-06 -> 2019-10\n",
    "#a_68h_ns_clu, a_68h_ns_ev = extract_mg_data(summer_68h_no_shielding_path)\n",
    "a_287h_ns_clu, a_287h_ns_ev = extract_mg_data(summer_287h_no_shielding_path)\n",
    "a_268h_ns_upright_clu, a_268h_ns_upright_ev = extract_mg_data(summer_268h_no_shielding_upright_path)\n",
    "#a_46h_ns_upright_clu, a_46h_ns_upright_ev = extract_mg_data(summer_46h_no_shielding_upright_path)\n",
    "a_69h_s_clu, a_69h_s_ev = extract_mg_data(summer_69h_shielding_path)\n",
    "#a_114h_s_clu, a_114h_s_ev = extract_mg_data(summer_114h_shielding_path)\n",
    "\n",
    "# Paths to background measurements at Utgård, 2019-11 -> 2019-12\n",
    "ra_ns_clu, ra_ns_ev = extract_mg_data(seqI_no_shielding_path)\n",
    "ra_mb_front_clu, ra_mb_front_ev = extract_mg_data(seqI_mirrorbor_shielding_front_path)\n",
    "ra_mb_front_back_clu, ra_mb_front_back_ev = extract_mg_data(seqI_mirrorbor_shielding_front_and_back_path)\n",
    "ra_mb_front_back_2_clu, ra_mb_front_back_2_ev = extract_mg_data(seqI_mirrorbor_shielding_front_and_back_setup_2_path)\n",
    "ra_mb_new_cave_clu, ra_mb_new_cave_ev = extract_mg_data(seqI_inside_new_cave_path)\n",
    "ra_mb_seqII_mb_pe_clu, ra_mb_seqII_mb_pe_ev = extract_mg_data(seqII_mirrorbor_and_polyethylene_shielding_path)"
   ]
  },
  {
   "cell_type": "markdown",
   "metadata": {},
   "source": [
    "## 2.3 Declare filters<a class=\"anchor\" id=\"FILTER\"></a>"
   ]
  },
  {
   "cell_type": "code",
   "execution_count": null,
   "metadata": {},
   "outputs": [],
   "source": [
    "\"\"\"\n",
    "Filters are declared in the following format:\n",
    "{'PARAMETER': [MIN_VALUE, MAX_VALUE, IS_ACTIVATE]}\n",
    "\"\"\"\n",
    "\n",
    "# Filter: basic \n",
    "filter_basic = {'wm': [1, 1, True],                   # Wire multiplicity\n",
    "                'gm': [1, 5, True],                   # Grid multiplicity\n",
    "                'wadc': [500, np.inf, True],          # Wire charge\n",
    "                'gadc': [500, np.inf, True],          # Grid charge\n",
    "                'time': [0, np.inf, True],            # Time (TDC channels)\n",
    "                'bus': [0, 2, True],                  # Bus\n",
    "                'flag': [0, 1, False],                # =1 if different buses within same coincidence\n",
    "                'layer': [0, 19, True],               # Layer, front=0 to back=19\n",
    "                'row': [0, 11, True],                 # Row, right to left (seen from neutrons)\n",
    "                'gch': [80, 119, True]}               # Grid channel, bottom=80 to top=119\n",
    "\n",
    "# Filter: basic + edges removed\n",
    "filter_no_edges = {'wm': [1, 1, True],                   # Wire multiplicity\n",
    "                   'gm': [1, 5, True],                   # Grid multiplicity\n",
    "                   'wadc': [500, np.inf, True],          # Wire charge\n",
    "                   'gadc': [500, np.inf, True],          # Grid charge\n",
    "                   'time': [0, np.inf, True],            # Time (TDC channels)\n",
    "                   'bus': [0, 2, True],                  # Bus\n",
    "                   'flag': [0, 1, False],                # =1 if different buses within same coincidence\n",
    "                   'layer': [0, 19, True],               # Layer, front=0 to back=19\n",
    "                   'row': [0, 11, True],                 # Row, right to left (seen from neutrons)\n",
    "                   'gch': [81, 118, True]}               # Grid channel, bottom=80 to top=119\n",
    "\n",
    "# Filter: basic + edges removed + back removed\n",
    "filter_no_edges_no_back = {'wm': [1, 1, True],                   # Wire multiplicity\n",
    "                           'gm': [1, 5, True],                   # Grid multiplicity\n",
    "                           'wadc': [500, np.inf, True],          # Wire charge\n",
    "                           'gadc': [500, np.inf, True],          # Grid charge\n",
    "                           'time': [0, np.inf, True],            # Time (TDC channels)\n",
    "                           'bus': [0, 2, True],                  # Bus\n",
    "                           'flag': [0, 1, False],                # =1 if different buses within same coincidence\n",
    "                           'layer': [0, 15, True],               # Layer, front=0 to back=19\n",
    "                           'row': [0, 11, True],                 # Row, right to left (seen from neutrons)\n",
    "                           'gch': [81, 118, True]}               # Grid channel, bottom=80 to top=119\n",
    "\n",
    "# Filter: basic + edges removed + high ADC threshold\n",
    "filter_no_edges_high_adc_thres = {'wm': [1, 1, True],                   # Wire multiplicity\n",
    "                                  'gm': [1, 5, True],                   # Grid multiplicity\n",
    "                                  'wadc': [1200, np.inf, True],          # Wire charge\n",
    "                                  'gadc': [1200, np.inf, True],          # Grid charge\n",
    "                                  'time': [0, np.inf, True],            # Time (TDC channels)\n",
    "                                  'bus': [0, 2, True],                  # Bus\n",
    "                                  'flag': [0, 1, False],                # =1 if different buses within same coincidence\n",
    "                                  'layer': [0, 19, True],               # Layer, front=0 to back=19\n",
    "                                  'row': [0, 11, True],                 # Row, right to left (seen from neutrons)\n",
    "                                  'gch': [83, 116, True]}               # Grid channel, bottom=80 to top=119\n",
    "\n",
    "# Filter: basic + edges removed + high ADC threshold, adapted for different buses\n",
    "filter_no_edges_high_adc_thres_2_4 = {'wm': [1, 1, True],                   # Wire multiplicity\n",
    "                        'gm': [1, 5, True],                   # Grid multiplicity\n",
    "                        'wadc': [1200, np.inf, True],          # Wire charge\n",
    "                        'gadc': [1200, np.inf, True],          # Grid charge\n",
    "                        'time': [0, np.inf, True],            # Time (TDC channels)\n",
    "                        'bus': [2, 4, True],                  # Bus\n",
    "                        'flag': [0, 1, False],                # =1 if different buses within same coincidence\n",
    "                        'layer': [0, 19, True],               # Layer, front=0 to back=19\n",
    "                        'row': [0, 11, False],                 # Row, right to left (seen from neutrons)\n",
    "                        'gch': [83, 116, True]}               # Grid channel, bottom=80 to top=119\n",
    "\n",
    "# Filter: basic + edges removed + high ADC threshold, adapted for different buses\n",
    "time_lim = (25 * 60 * 60) / (62.5e-9)\n",
    "filter_no_edges_high_adc_thres_6_8 = {'wm': [1, 1, True],                   # Wire multiplicity\n",
    "                        'gm': [1, 5, True],                   # Grid multiplicity\n",
    "                        'wadc': [1200, np.inf, True],          # Wire charge\n",
    "                        'gadc': [1200, np.inf, True],          # Grid charge\n",
    "                        'time': [0, time_lim, True],            # Time (TDC channels)\n",
    "                        'bus': [6, 8, True],                  # Bus\n",
    "                        'flag': [0, 1, False],                # =1 if different buses within same coincidence\n",
    "                        'layer': [0, 19, True],               # Layer, front=0 to back=19\n",
    "                        'row': [0, 11, False],                 # Row, right to left (seen from neutrons)\n",
    "                        'gch': [83, 116, True]}               # Grid channel, bottom=80 to top=119\n",
    "\n",
    "# Filter: basic + edges removed + high ADC threshold, adapted for different buses\n",
    "filter_no_edges_high_adc_thres_0_1 = {'wm': [1, 1, True],                   # Wire multiplicity\n",
    "                        'gm': [1, 5, True],                   # Grid multiplicity\n",
    "                        'wadc': [1200, np.inf, True],          # Wire charge\n",
    "                        'gadc': [1200, np.inf, True],          # Grid charge\n",
    "                        'time': [0, np.inf, True],            # Time (TDC channels)\n",
    "                        'bus': [0, 1, True],                  # Bus\n",
    "                        'flag': [0, 1, False],                # =1 if different buses within same coincidence\n",
    "                        'layer': [0, 19, True],               # Layer, front=0 to back=19\n",
    "                        'row': [0, 11, False],                 # Row, right to left (seen from neutrons)\n",
    "                        'gch': [83, 116, True]}               # Grid channel, bottom=80 to top=119\n",
    "\n",
    "# Filter: basic + edges removed + high ADC threshold, adapted for different buses\n",
    "filter_no_edges_high_adc_thres_3_5 = {'wm': [1, 1, True],                   # Wire multiplicity\n",
    "                        'gm': [1, 5, True],                   # Grid multiplicity\n",
    "                        'wadc': [1200, np.inf, True],          # Wire charge\n",
    "                        'gadc': [1200, np.inf, True],          # Grid charge\n",
    "                        'time': [0, np.inf, True],            # Time (TDC channels)\n",
    "                        'bus': [3, 5, True],                  # Bus\n",
    "                        'flag': [0, 1, False],                # =1 if different buses within same coincidence\n",
    "                        'layer': [0, 19, True],               # Layer, front=0 to back=19\n",
    "                        'row': [0, 11, False],                 # Row, right to left (seen from neutrons)\n",
    "                        'gch': [83, 116, True]}               # Grid channel, bottom=80 to top=119"
   ]
  },
  {
   "cell_type": "markdown",
   "metadata": {},
   "source": [
    "# 3. Background measurements<a class=\"anchor\" id=\"VISUALIZATION\"></a>"
   ]
  },
  {
   "cell_type": "code",
   "execution_count": null,
   "metadata": {
    "scrolled": false
   },
   "outputs": [],
   "source": [
    "def plot_all(clusters, events, cluster_filter, bus_start, bus_stop):\n",
    "    # Declare parameters\n",
    "    ce_filtered = mg_read.filter_data(clusters, cluster_filter)\n",
    "    duration = (ce_filtered.time.values[-1] - ce_filtered.time.values[0]) * 62.5e-9\n",
    "    \n",
    "    # PHS - 2D\n",
    "    fig = mg_basic_plot.phs_2d_plot(events, bus_start, bus_stop, '')\n",
    "    fig.show()\n",
    "    \n",
    "    # PHS - grid vs adc\n",
    "    fig = plt.figure()\n",
    "    fig.set_figheight(4)\n",
    "    fig.set_figwidth(14)\n",
    "    plt.hist2d(clusters.gadc, clusters.gch, norm=LogNorm(), cmap='jet', bins=[100, 40],\n",
    "               range=[[0, 4095], [79.5, 119.5]])\n",
    "    plt.colorbar()\n",
    "    plt.xlabel('Collected charge (adc channels)')\n",
    "    plt.ylabel('Grid')\n",
    "    fig.show()\n",
    "    \n",
    "    # PHS - 1D\n",
    "    number_bins = 500\n",
    "    interval = [0, 5000]\n",
    "    fig = plt.figure()\n",
    "    fig.set_figheight(4)\n",
    "    fig.set_figwidth(14)\n",
    "    plt.yscale('log')\n",
    "    mg_basic_plot.phs_1d_plot(ce_filtered, number_bins, interval, '')\n",
    "    fig.show()\n",
    "\n",
    "    # PHS - wires vs grids\n",
    "    fig = mg_basic_plot.phs_wires_vs_grids_plot(ce_filtered, bus_start, bus_stop, '')\n",
    "    fig.show()\n",
    "    \n",
    "\n",
    "    # Coincidences - wires vs grids\n",
    "    fig, __ = mg_basic_plot.ce_2d_plot(ce_filtered, duration, bus_start, bus_stop, '')\n",
    "    fig.show()\n",
    "\n",
    "    # Coincidences - projections\n",
    "    fig = plt.figure()\n",
    "    fig.set_figheight(4)\n",
    "    fig.set_figwidth(14)\n",
    "    mg_basic_plot.ce_projections_plot(ce_filtered, bus_start, bus_stop, '')\n",
    "    fig.show()\n",
    "    \n",
    "    # Coincidences - 3D rotation\n",
    "    #mg_basic_plot.ce_3d_plot(ce_filtered, '')\n",
    "\n",
    "    # Counts - layer by layer, grid by grid\n",
    "    fig = mg_advanced_plot.layers_counts(ce_filtered, duration, '')\n",
    "    fig.show()\n",
    "\n",
    "    # Rate\n",
    "    fig = plt.figure()\n",
    "    fig.set_figheight(4)\n",
    "    fig.set_figwidth(14)\n",
    "    number_bins = 200\n",
    "    mg_basic_plot.rate_plot(ce_filtered, number_bins, '')\n",
    "    fig.show()"
   ]
  },
  {
   "cell_type": "markdown",
   "metadata": {},
   "source": [
    "## 3.1 SEQUOIA<a class=\"anchor\" id=\"PHS\"></a>"
   ]
  },
  {
   "cell_type": "code",
   "execution_count": null,
   "metadata": {
    "scrolled": false
   },
   "outputs": [],
   "source": [
    "%matplotlib inline\n",
    "%matplotlib notebook\n",
    "bus_start, bus_stop = 6, 8\n",
    "plot_all(background_at_sequoia_clusters, background_at_sequoia_events,\n",
    "         filter_no_edges_high_adc_thres_6_8, bus_start, bus_stop)"
   ]
  },
  {
   "cell_type": "markdown",
   "metadata": {},
   "source": [
    "## 3.2 Utgård - Part 1"
   ]
  },
  {
   "cell_type": "markdown",
   "metadata": {},
   "source": [
    "### 3.2.1 SEQ I, Outside cave - horizontal"
   ]
  },
  {
   "cell_type": "code",
   "execution_count": null,
   "metadata": {
    "scrolled": false
   },
   "outputs": [],
   "source": [
    "bus_start, bus_stop = 0, 2\n",
    "plot_all(a_287h_ns_clu, a_287h_ns_ev, filter_no_edges_high_adc_thres, bus_start, bus_stop)"
   ]
  },
  {
   "cell_type": "markdown",
   "metadata": {},
   "source": [
    "### 3.2.2 SEQ I, Outside cave - vertical"
   ]
  },
  {
   "cell_type": "code",
   "execution_count": null,
   "metadata": {
    "scrolled": false
   },
   "outputs": [],
   "source": [
    "bus_start, bus_stop = 0, 2\n",
    "plot_all(a_268h_ns_upright_clu, a_268h_ns_upright_ev, filter_no_edges_high_adc_thres, bus_start, bus_stop)"
   ]
  },
  {
   "cell_type": "markdown",
   "metadata": {},
   "source": [
    "### 3.2.3 SEQ I, Inside cave"
   ]
  },
  {
   "cell_type": "code",
   "execution_count": null,
   "metadata": {
    "scrolled": false
   },
   "outputs": [],
   "source": [
    "bus_start, bus_stop = 0, 2\n",
    "plot_all(a_69h_s_clu, a_69h_s_ev, filter_no_edges_high_adc_thres, bus_start, bus_stop)"
   ]
  },
  {
   "cell_type": "markdown",
   "metadata": {},
   "source": [
    "## 3.3 Utgård - Part 2"
   ]
  },
  {
   "cell_type": "markdown",
   "metadata": {},
   "source": [
    "### 3.3.1 SEQ I, No shielding: - horizontal"
   ]
  },
  {
   "cell_type": "code",
   "execution_count": null,
   "metadata": {
    "scrolled": false
   },
   "outputs": [],
   "source": [
    "bus_start, bus_stop = 2, 4\n",
    "plot_all(ra_ns_clu, ra_ns_ev, filter_no_edges_high_adc_thres_2_4, bus_start, bus_stop)"
   ]
  },
  {
   "cell_type": "markdown",
   "metadata": {},
   "source": [
    "### 3.3.2 SEQ I, Mirrorbor shielding (front) - horizontal"
   ]
  },
  {
   "cell_type": "code",
   "execution_count": null,
   "metadata": {
    "scrolled": false
   },
   "outputs": [],
   "source": [
    "bus_start, bus_stop = 2, 4\n",
    "plot_all(ra_mb_front_clu, ra_mb_front_ev, filter_no_edges_high_adc_thres_2_4, bus_start, bus_stop)"
   ]
  },
  {
   "cell_type": "markdown",
   "metadata": {},
   "source": [
    "### 3.3.3 SEQ I, Mirrorbor shielding (front & back) - horizontal"
   ]
  },
  {
   "cell_type": "code",
   "execution_count": null,
   "metadata": {
    "scrolled": false
   },
   "outputs": [],
   "source": [
    "bus_start, bus_stop = 2, 4\n",
    "plot_all(ra_mb_front_back_2_clu, ra_mb_front_back_2_ev, filter_no_edges_high_adc_thres_2_4, bus_start, bus_stop)"
   ]
  },
  {
   "cell_type": "markdown",
   "metadata": {},
   "source": [
    "### 3.3.4 SEQ I, Inside new cave"
   ]
  },
  {
   "cell_type": "code",
   "execution_count": null,
   "metadata": {
    "scrolled": false
   },
   "outputs": [],
   "source": [
    "bus_start, bus_stop = 2, 4\n",
    "plot_all(ra_mb_new_cave_clu, ra_mb_new_cave_ev, filter_no_edges_high_adc_thres_2_4, bus_start, bus_stop)"
   ]
  },
  {
   "cell_type": "markdown",
   "metadata": {},
   "source": [
    "### 3.3.5 SEQ.II, Mirrorbor + polyethylene shielding (front, back & sides) - horizontal"
   ]
  },
  {
   "cell_type": "code",
   "execution_count": null,
   "metadata": {
    "scrolled": false
   },
   "outputs": [],
   "source": [
    "bus_start, bus_stop = 0, 2\n",
    "plot_all(ra_mb_seqII_mb_pe_clu, ra_mb_seqII_mb_pe_ev, filter_no_edges_high_adc_thres_0_1, bus_start, bus_stop)"
   ]
  },
  {
   "cell_type": "markdown",
   "metadata": {},
   "source": [
    "## 4. Analysis<a class=\"anchor\" id=\"ANALYSIS\"></a>"
   ]
  },
  {
   "cell_type": "markdown",
   "metadata": {},
   "source": [
    "### Acknowledgements"
   ]
  },
  {
   "cell_type": "markdown",
   "metadata": {},
   "source": [
    "### References"
   ]
  },
  {
   "cell_type": "code",
   "execution_count": null,
   "metadata": {},
   "outputs": [],
   "source": []
  }
 ],
 "metadata": {
  "kernelspec": {
   "display_name": "Python 3",
   "language": "python",
   "name": "python3"
  },
  "language_info": {
   "codemirror_mode": {
    "name": "ipython",
    "version": 3
   },
   "file_extension": ".py",
   "mimetype": "text/x-python",
   "name": "python",
   "nbconvert_exporter": "python",
   "pygments_lexer": "ipython3",
   "version": "3.7.3"
  }
 },
 "nbformat": 4,
 "nbformat_minor": 2
}
