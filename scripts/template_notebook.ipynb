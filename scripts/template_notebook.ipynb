{
 "cells": [
  {
   "cell_type": "markdown",
   "metadata": {},
   "source": [
    "<font size=\"20\">\n",
    "\n",
    "# TEMPLATE NOTEBOOK\n",
    "\n",
    "<font size=\"3\">\n",
    "    \n",
    "> __Author:__ XXX\n",
    "<br/>__Institute:__ XXX\n",
    "<br/>__Date:__ XX/XX-XXXX\n",
    "\n",
    "_Abstract:_\n",
    "This is a template notebook used for multi-grid analysis. Please copy this notebook, rename it, and commit, before editing and pushing new content. Place your raw data in the '/data/template/raw/'-folder. The test-data in that folder can be deleted after initial testing.\n",
    "    \n",
    "    \n",
    "_How to run the notebook:_ \n",
    "* Section 1.1 - Compile the cell to import dependencies\n",
    "* Section 1.2 - Define global parameters, such as paths to data folder\n",
    "* Section 1.3 - Compile all cells to define all necesarry functions\n",
    "\n",
    "* Section 2.1 - Declare paths to all data sets\n",
    "* Section 2.2 - Extract, cluster and save all data sets\n",
    "* Section 2.3 - Load clusters and events into the Jupyter Notebook\n",
    "\n",
    "* Section 3.  - Declare all filters data will be used on the data\n",
    "\n",
    "* Section 4.  - Plot all data"
   ]
  },
  {
   "cell_type": "markdown",
   "metadata": {},
   "source": [
    "# Contents\n",
    "    \n",
    "* [1. Introduction](#INTRODUCTION)\n",
    "    * [1.1 Packages](#PACKAGES)\n",
    "    * [1.2 Parameters](#PARAMETERS)\n",
    "    * [1.3 Functions](#FUNCTIONS)\n",
    "* [2. Data](#DATA)\n",
    "    * [2.1 Paths](#PATHS)\n",
    "    * [2.2 Extract](#EXTRACT)\n",
    "    * [2.3 Load](#LOAD)\n",
    "* [3. Filters](#FILTER)\n",
    "* [4. Plotting](#PLOTTING)"
   ]
  },
  {
   "cell_type": "markdown",
   "metadata": {},
   "source": [
    "# 1. Introduction"
   ]
  },
  {
   "cell_type": "markdown",
   "metadata": {},
   "source": [
    "Summary of content in notebook."
   ]
  },
  {
   "cell_type": "markdown",
   "metadata": {},
   "source": [
    "## 1.1 Packages<a class=\"anchor\" id=\"PACKAGES\"></a>"
   ]
  },
  {
   "cell_type": "markdown",
   "metadata": {},
   "source": [
    "Import all necessary packages."
   ]
  },
  {
   "cell_type": "code",
   "execution_count": null,
   "metadata": {},
   "outputs": [],
   "source": [
    "# Autoload packages when doing an external change\n",
    "%load_ext autoreload\n",
    "%autoreload 2\n",
    "\n",
    "# General packages\n",
    "import os\n",
    "import numpy as np\n",
    "import pandas as pd\n",
    "import matplotlib.pyplot as plt\n",
    "from matplotlib.colors import LogNorm\n",
    "import plotly.graph_objects as go\n",
    "from plotly.offline import iplot, plot\n",
    "\n",
    "# Data handling\n",
    "import mg.file_handling.read as mg_read\n",
    "import mg_cncs.read as cncs_read\n",
    "\n",
    "# Plotting\n",
    "import mg_let.basic_plot as mg_basic_plot\n",
    "\n",
    "# Helper functions\n",
    "import mg.helper_functions.misc as mg_hf\n",
    "import mg_cncs.helper_functions as cncs_hf\n",
    "\n",
    "# Import widgets\n",
    "import ipywidgets as widgets\n",
    "from ipywidgets import interact, interact_manual, HBox, Label\n",
    "\n",
    "# For animation\n",
    "import imageio\n",
    "import shutil"
   ]
  },
  {
   "cell_type": "markdown",
   "metadata": {},
   "source": [
    "## 1.2 Parameters"
   ]
  },
  {
   "cell_type": "code",
   "execution_count": null,
   "metadata": {},
   "outputs": [],
   "source": [
    "# Declare all global parameters\n",
    "RAW_FOLDER = '../data/template/raw/'\n",
    "PROCESSED_FOLDER = '../data/template/processed/'"
   ]
  },
  {
   "cell_type": "markdown",
   "metadata": {},
   "source": [
    "## 1.3 Global functions"
   ]
  },
  {
   "cell_type": "markdown",
   "metadata": {},
   "source": [
    "Declare all functions used in the analysis."
   ]
  },
  {
   "cell_type": "markdown",
   "metadata": {},
   "source": [
    "### Extract"
   ]
  },
  {
   "cell_type": "code",
   "execution_count": null,
   "metadata": {},
   "outputs": [],
   "source": [
    "def extract_mg_data(zipped_path, clusters_save_path, events_save_path):\n",
    "    \"\"\"\n",
    "    Function to extract, cluster and save data.\n",
    "    \n",
    "    Args:\n",
    "        zipped_path (str): Location of raw data\n",
    "        clusters_save_path (str): Destination for clusters\n",
    "        events_save_path (str): Destination for events\n",
    "\n",
    "    Yields:\n",
    "        Clusters and events are extracted from the raw data and saved at the specified locations\n",
    "    \n",
    "    \"\"\"\n",
    "    unzipped_path = mg_read.unzip_data(zipped_path)\n",
    "    data = mg_read.import_data(unzipped_path)\n",
    "    # Extract clusters and save to disc\n",
    "    clusters = mg_read.extract_clusters(data)\n",
    "    mg_read.save_data(clusters, clusters_save_path)\n",
    "    clusters = None\n",
    "    # Extract events and save to disc\n",
    "    events = mg_read.extract_events(data)\n",
    "    mg_read.save_data(events, events_save_path)\n",
    "    events = None\n",
    "    # Clear data\n",
    "    data = None"
   ]
  },
  {
   "cell_type": "code",
   "execution_count": null,
   "metadata": {},
   "outputs": [],
   "source": [
    "# Extract data, cluster, and save to file\n",
    "def extract_and_save(run, raw_path):\n",
    "    \"\"\"\n",
    "    Function to extract, cluster and save data.\n",
    "    \n",
    "    Args:\n",
    "        run (str): File run, as specified in the 'Paths'-declaration below\n",
    "        raw_path (str): Path to the raw data in the '.zip'-file\n",
    "\n",
    "    Yields:\n",
    "        Clusters and events are extracted from the raw data and saved in the 'processed'-folder.\n",
    "    \n",
    "    \"\"\"\n",
    "    clusters_path = PROCESSED_FOLDER + run + '_clu.h5'\n",
    "    events_path = PROCESSED_FOLDER + run + '_ev.h5'\n",
    "    extract_mg_data(raw_path, clusters_path, events_path)"
   ]
  },
  {
   "cell_type": "markdown",
   "metadata": {},
   "source": [
    "### Load"
   ]
  },
  {
   "cell_type": "code",
   "execution_count": null,
   "metadata": {},
   "outputs": [],
   "source": [
    "# Load clusters and events\n",
    "def load_clusters_and_events(run):\n",
    "    \"\"\"\n",
    "    Function to load data from a specific run.\n",
    "    \n",
    "    Args:\n",
    "        run (str): File run, as specified in the 'Paths'-declaration below\n",
    "\n",
    "    Returns:\n",
    "        Clusters (DataFrame)\n",
    "        Events (DataFrame)\n",
    "    \n",
    "    \"\"\"\n",
    "    clusters_path = PROCESSED_FOLDER + run + '_clu.h5'\n",
    "    events_path = PROCESSED_FOLDER + run + '_ev.h5'\n",
    "    return mg_read.load_data(clusters_path), mg_read.load_data(events_path)"
   ]
  },
  {
   "cell_type": "markdown",
   "metadata": {},
   "source": [
    "### Plotting (SEQUOIA prototype)"
   ]
  },
  {
   "cell_type": "code",
   "execution_count": null,
   "metadata": {},
   "outputs": [],
   "source": [
    "def plot_basic(run, clusters_unfiltered, events, df_filter, bus_start, bus_stop, number_rows, area):\n",
    "    \"\"\"\n",
    "    Function to plot all basic plots for SEQUOIA detector,\n",
    "    such as PHS, Coincidences and rate.\n",
    "    \n",
    "    Ordering of plotting is:\n",
    "    \n",
    "    PHS 2D - NOT FILTERED\n",
    "    MULTIPLICITY - NOT FILTERED\n",
    "    PHS 1D - FILTERED\n",
    "    COINCIDENCES 2D - FILTERED\n",
    "    PHS CORRELATION - FILTERED\n",
    "    RATE - FILTERED\n",
    "    TOF - FILTERED\n",
    "    \n",
    "    Note that all plots are filtered except the first two.\n",
    "    \n",
    "    Args:\n",
    "        run (str): File run\n",
    "        clusters_unfiltered (DataFrame): Unfiltered clusteres\n",
    "        events (DataFrame): Individual events\n",
    "        df_filter (dict): Dictionary specifying the filter which will be used on the clustered data\n",
    "        bus_start (int): First bus to plot\n",
    "        bus_stop (int): Last bus to plot\n",
    "        number_rows (int): Number of rows in plots (number of rows must be larger than number_buses/3)\n",
    "        area (float): Area in m^2 of the active detector surface\n",
    "\n",
    "    Yields:\n",
    "        Plots the basic analysis\n",
    "    \n",
    "    \"\"\"\n",
    "    mg_hf.set_thick_labels(12)\n",
    "    \n",
    "    # Filter clusters\n",
    "    clusters = mg_read.filter_data(clusters_unfiltered, df_filter)\n",
    "    \n",
    "    # Declare parameters\n",
    "    duration = (clusters_unfiltered.time.values[-1] - clusters_unfiltered.time.values[0]) * 62.5e-9\n",
    "    \n",
    "    # PHS - 2D\n",
    "    vmin = 1\n",
    "    vmax = events.shape[0] // 1000 + 100\n",
    "    fig = plt.figure()\n",
    "    fig.set_figwidth(14)\n",
    "    fig.set_figheight(4*number_rows)\n",
    "    for i, bus in enumerate(np.arange(bus_start, bus_stop+1, 1)):\n",
    "        plt.subplot(number_rows, 3, i+1)\n",
    "        events_bus = events[events.bus == bus]\n",
    "        if events_bus.shape[0] > 0:\n",
    "            mg_basic_plot.phs_2d_plot(events_bus, bus, vmin, vmax)\n",
    "    plt.tight_layout()\n",
    "    fig.show()\n",
    "    \n",
    "    # Save data\n",
    "    output_path = '../output/%s_phs_2d.png' % run\n",
    "    fig.savefig(output_path, bbox_inches='tight')\n",
    "    \n",
    "    # Multiplicity\n",
    "    vmin = None\n",
    "    vmax = None\n",
    "    fig = plt.figure()\n",
    "    fig.set_figwidth(14)\n",
    "    fig.set_figheight(4*number_rows)\n",
    "    for i, bus in enumerate(np.arange(bus_start, bus_stop+1, 1)):\n",
    "        plt.subplot(number_rows, 3, i+1)\n",
    "        clusters_bus = clusters[clusters.bus == bus]\n",
    "        if clusters_bus.shape[0] > 1:\n",
    "            mg_basic_plot.multiplicity_plot_perc(clusters_bus, bus, duration)\n",
    "    plt.tight_layout()\n",
    "    fig.show()\n",
    "    \n",
    "    # Save data\n",
    "    output_path = '../output/%s_multiplicity_2d.png' % run\n",
    "    fig.savefig(output_path, bbox_inches='tight')\n",
    "    \n",
    "    # PHS - 1D\n",
    "    vmin = None\n",
    "    vmax = None\n",
    "    bins_phs_1d = 300\n",
    "    fig = plt.figure()\n",
    "    fig.set_figwidth(14)\n",
    "    fig.set_figheight(4*number_rows)\n",
    "    for i, bus in enumerate(np.arange(bus_start, bus_stop+1, 1)):\n",
    "        plt.subplot(number_rows, 3, i+1)\n",
    "        clusters_bus = clusters[clusters.bus == bus]\n",
    "        clusters_uf_bus = clusters_unfiltered[clusters_unfiltered.bus == bus]\n",
    "        mg_basic_plot.phs_clusters_1d_plot(clusters_bus, clusters_uf_bus, bins_phs_1d, bus, duration)\n",
    "        plt.yscale('log')\n",
    "    plt.tight_layout()\n",
    "    fig.show()\n",
    "    \n",
    "    # Save data\n",
    "    output_path = '../output/%s_phs_1d.png' % run\n",
    "    fig.savefig(output_path, bbox_inches='tight')\n",
    "    \n",
    "    # Coincidences - 2D\n",
    "    fig = plt.figure()\n",
    "    fig.set_figwidth(14)\n",
    "    fig.set_figheight(4*number_rows)\n",
    "    if clusters.shape[0] != 0:\n",
    "        vmin = (1 * 1/duration)\n",
    "        vmax = (clusters.shape[0] // 450 + 5) * 1/duration\n",
    "    else:\n",
    "        duration = 1\n",
    "        vmin = 1\n",
    "        vmax = 1\n",
    "    for i, bus in enumerate(np.arange(bus_start, bus_stop+1, 1)):\n",
    "        plt.subplot(number_rows, 3, i+1)\n",
    "        clusters_bus = clusters[clusters.bus == bus]\n",
    "        # Calculate number of events and rate in a specific bus\n",
    "        number_events = clusters_bus.shape[0]\n",
    "        events_per_s = number_events/duration\n",
    "        events_per_s_m2 = events_per_s/area\n",
    "        title = ('Bus %d\\n(%d events, %.6f events/s/m$^2$)' % (bus, number_events, events_per_s_m2))\n",
    "        if number_events > 1:\n",
    "            mg_basic_plot.clusters_2d_plot(clusters_bus, title, vmin, vmax, duration)\n",
    "    plt.tight_layout()\n",
    "    fig.show()\n",
    "    \n",
    "    # Save data\n",
    "    output_path = '../output/%s_coincidences_2d.png' % run\n",
    "    fig.savefig(output_path, bbox_inches='tight')\n",
    "    \n",
    "    # Coincidences - PHS\n",
    "    fig = plt.figure()\n",
    "    fig.set_figwidth(14)\n",
    "    fig.set_figheight(4*number_rows)\n",
    "    if clusters.shape[0] != 0:\n",
    "        vmin = 1/duration\n",
    "        vmax = (clusters.shape[0] // 450 + 1000) / duration\n",
    "    else:\n",
    "        duration = 1\n",
    "        vmin = 1\n",
    "        vmax = 1\n",
    "    for i, bus in enumerate(np.arange(bus_start, bus_stop+1, 1)):\n",
    "        plt.subplot(number_rows, 3, i+1)\n",
    "        clusters_bus = clusters[clusters.bus == bus]\n",
    "        if clusters_bus.shape[0] > 1:\n",
    "            mg_basic_plot.clusters_phs_plot(clusters_bus, bus, duration, vmin, vmax)\n",
    "    plt.tight_layout()\n",
    "    fig.show()\n",
    "    \n",
    "    # Save data\n",
    "    output_path = '../output/%s_coincidences_phs.png' % run\n",
    "    fig.savefig(output_path, bbox_inches='tight')\n",
    "    \n",
    "    # Rate \n",
    "    number_bins = 50\n",
    "    fig = plt.figure()\n",
    "    fig.set_figwidth(14)\n",
    "    fig.set_figheight(4*number_rows)\n",
    "    for i, bus in enumerate(np.arange(bus_start, bus_stop+1, 1)):\n",
    "        plt.subplot(number_rows, 3, i+1)\n",
    "        clusters_bus = clusters[clusters.bus == bus]\n",
    "        mg_basic_plot.rate_plot(clusters_bus, number_bins, bus, area)\n",
    "    plt.tight_layout()\n",
    "    fig.show()\n",
    "    \n",
    "    # Save data\n",
    "    output_path = '../output/%s_rate.png' % run\n",
    "    fig.savefig(output_path, bbox_inches='tight')\n",
    "    \n",
    "    \n",
    "    # TIME-OF-FLIGHT\n",
    "    number_bins = 300\n",
    "    fig = plt.figure()\n",
    "    fig.set_figwidth(14)\n",
    "    fig.set_figheight(4*number_rows)\n",
    "    for i, bus in enumerate(np.arange(bus_start, bus_stop+1, 1)):\n",
    "        plt.subplot(number_rows, 3, i+1)\n",
    "        clusters_bus = clusters[clusters.bus == bus]\n",
    "        mg_basic_plot.tof_histogram(clusters_bus, number_bins, bus)\n",
    "    plt.tight_layout()\n",
    "    fig.show()\n",
    "    \n",
    "    # Save data\n",
    "    output_path = '../output/%s_tof.png' % run\n",
    "    fig.savefig(output_path, bbox_inches='tight')"
   ]
  },
  {
   "cell_type": "markdown",
   "metadata": {},
   "source": [
    "### Plotting (CNCS prototype)"
   ]
  },
  {
   "cell_type": "code",
   "execution_count": null,
   "metadata": {},
   "outputs": [],
   "source": [
    "def plot_basic_cncs(run, path, clusters_unfiltered, df_filter, area, extra=''):\n",
    "    # Set plot label thicknesses\n",
    "    mg_hf.set_thick_labels(15)\n",
    "    \n",
    "    # Filter clusters\n",
    "    clusters = mg_read.filter_data(clusters_unfiltered, df_filter)\n",
    "    \n",
    "    # Declare parameters\n",
    "    duration = cncs_hf.get_measurement_time(path)\n",
    "    phs_attributes = ['w_adc_m1', 'w_adc_m2','g_adc_m1', 'g_adc_m2']\n",
    "    phs_titles = ['Wires (multiplicity 1)', 'Wires (multiplicity 2)',\n",
    "                  'Grids (multiplicity 1)', 'Grids (multiplicity 2)']\n",
    "    \n",
    "    # PHS \n",
    "    fig = plt.figure()\n",
    "    fig.set_figwidth(12)\n",
    "    fig.set_figheight(10)\n",
    "    for i, (attribute, title) in enumerate(zip(phs_attributes, phs_titles)):\n",
    "        plt.subplot(2, 2, i+1)\n",
    "        plt.hist(clusters[attribute], histtype='step', color='black',\n",
    "                 range=[0, 4095], bins=100, zorder=5, label='Filtered')\n",
    "        plt.hist(clusters_unfiltered[attribute], histtype='step', color='red',\n",
    "                 range=[0, 4095], bins=100, zorder=5, label='Unfiltered')\n",
    "        plt.xlabel('Charge (adc channels)')\n",
    "        plt.ylabel('Counts') \n",
    "        plt.title(title)\n",
    "        plt.yscale('log')\n",
    "        plt.grid(True, which='major', zorder=0)\n",
    "        plt.grid(True, which='minor', linestyle='--', zorder=0)\n",
    "        plt.legend()\n",
    "    plt.tight_layout()\n",
    "    fig.show()\n",
    "    output_path = '../output/%s_phs_plot%s.png' % (run, extra)\n",
    "    fig.savefig(output_path, bbox_inches='tight')\n",
    "    \n",
    "    # Coincidences\n",
    "    grids = clusters['g_ch_m1']\n",
    "    wires = clusters['w_ch_m1']\n",
    "    number_events = len(grids)\n",
    "    vmin = 1\n",
    "    vmax = (number_events // 450 + 5)\n",
    "    \n",
    "    fig = plt.figure()\n",
    "    plt.suptitle('Coincidences')\n",
    "    fig.set_figwidth(12)\n",
    "    fig.set_figheight(5)\n",
    "    plt.subplot(1, 2, 1)\n",
    "    plt.hist2d(wires, grids,\n",
    "               bins=[64, 48],\n",
    "               range=[[-0.5, 63.5], [-0.5, 47.5]],\n",
    "               vmin=vmin, vmax=vmax,\n",
    "               norm=LogNorm(),\n",
    "               cmap='jet')\n",
    "    plt.xlabel('Wire (Channel number)')\n",
    "    plt.ylabel('Grid (Channel number)')\n",
    "    plt.title('Module 1')\n",
    "    cbar = plt.colorbar()\n",
    "    cbar.set_label('Counts')\n",
    "    plt.subplot(1, 2, 2)\n",
    "    plt.hist2d(wires, grids,\n",
    "           bins=[64, 48],\n",
    "           range=[[63.5, 127.5], [47.5, 95.5]],\n",
    "           norm=LogNorm(),\n",
    "           vmin=vmin, vmax=vmax,\n",
    "           cmap='jet')\n",
    "    plt.xlabel('Wire (Channel number)')\n",
    "    plt.ylabel('Grid (Channel number)')\n",
    "    plt.title('Module 2')\n",
    "    cbar = plt.colorbar()\n",
    "    cbar.set_label('Counts')\n",
    "    plt.tight_layout()\n",
    "    fig.show()\n",
    "    output_path = '../output/%s_coincidences_plot%s.png' % (run, extra)\n",
    "    fig.savefig(output_path, bbox_inches='tight')\n",
    "    \n",
    "    # Delimiters\n",
    "    plot_delimiters(run + extra, clusters)\n",
    "    \n",
    "    # Coincidences full\n",
    "    fig = plt.figure()\n",
    "    fig.set_figwidth(12)\n",
    "    fig.set_figheight(10)\n",
    "    plt.hist2d(wires, grids,\n",
    "               weights=np.ones(len(wires))*(1/duration),\n",
    "               bins=[128, 96],\n",
    "               range=[[-2, 127.5], [-2, 95.5]],\n",
    "               norm=LogNorm(), cmap='jet',\n",
    "               vmin=1e-5, vmax=5e-4\n",
    "               )\n",
    "    plt.xlabel('Wire (Channel number)')\n",
    "    plt.ylabel('Grid (Channel number)')\n",
    "    plt.title('Coincidences')\n",
    "    cbar = plt.colorbar()\n",
    "    cbar.set_label('Counts/s')\n",
    "    fig.show()\n",
    "    output_path = '../output/%s_coincidences_full_plot%s.png' % (run, extra)\n",
    "    fig.savefig(output_path, bbox_inches='tight')\n",
    "    \n",
    "    # Plot tof\n",
    "    fig = plt.figure()\n",
    "    fig.set_figwidth(10)\n",
    "    fig.set_figheight(5)\n",
    "    plt.hist(clusters['tof'], histtype='step', color='black', bins=500)\n",
    "    plt.xlabel('tof (adc channels)')\n",
    "    plt.ylabel('Counts') \n",
    "    plt.yscale('log')\n",
    "    plt.tight_layout()\n",
    "    plt.grid(True, which='major', zorder=0)\n",
    "    plt.grid(True, which='minor', linestyle='--', zorder=0)\n",
    "    fig.show()\n",
    "    output_path = '../output/%s_tof_plot%s.png' % (run, extra)\n",
    "    fig.savefig(output_path, bbox_inches='tight')\n",
    "    \n",
    "    # Print key values\n",
    "    print('Number of events: %.2f' % number_events)\n",
    "    print('Duration: %.2f hours' % (duration/(60*60)))\n",
    "    print('Area: %.2f m^2' % area)\n",
    "    print('Rate: %.2f Hz/m^2' % (number_events/(duration*area)))\n",
    "\n",
    "def plot_delimiters(run, clusters):\n",
    "    # Import delimiters\n",
    "    delimiters_dict = cncs_hf.import_delimiter_table()\n",
    "    \n",
    "    # Iterate through all attributes\n",
    "    events = ['wires', 'wires', 'grids', 'grids']\n",
    "    attributes = ['w_ch_adc_m1', 'w_ch_adc_m2', 'g_ch_adc_m1', 'g_ch_adc_m2']\n",
    "    intervals = [16, 16, 96, 96]\n",
    "    plot_ranges = [[0, 4000], [0, 4000], [0, 4000], [0, 4000]]\n",
    "    for i, (event, attribute, interval, plot_range) in enumerate(zip(events, attributes, intervals, plot_ranges)):\n",
    "        delimiters = delimiters_dict[event]\n",
    "        fig = plt.figure()\n",
    "        fig.set_figwidth(12)\n",
    "        fig.set_figheight(5)\n",
    "        plt.grid(True, which='major', zorder=0)\n",
    "        plt.grid(True, which='minor', linestyle='--', zorder=0)\n",
    "        plt.hist(clusters[attribute], histtype='step', color='black',\n",
    "                 range=plot_range, bins=1500, zorder=10)\n",
    "        plt.xlabel('Charge (adc channels)')\n",
    "        plt.ylabel('Counts') \n",
    "        plt.title(attribute)\n",
    "        plt.yscale('log')\n",
    "        for delimiter in delimiters:\n",
    "            plt.axvline(delimiter[0], color='red', zorder=15)\n",
    "            plt.axvline(delimiter[1], color='red', zorder=15)\n",
    "            small_delimiters = np.linspace(delimiter[0], delimiter[1], interval+1)\n",
    "            previous_delimiter = small_delimiters[0]\n",
    "            for delimiter in small_delimiters[1:]:\n",
    "                plt.axvline(previous_delimiter, color='blue', zorder=5)\n",
    "                plt.axvline(delimiter, color='blue', zorder=5)\n",
    "                previous_delimiter = delimiter\n",
    "                \n",
    "        plt.tight_layout()\n",
    "        fig.show()\n",
    "    \n",
    "        # Save data\n",
    "        output_path = '../output/%s_delimiters_plot_%d.png' % (run, i)\n",
    "        fig.savefig(output_path, bbox_inches='tight')"
   ]
  },
  {
   "cell_type": "markdown",
   "metadata": {},
   "source": [
    "# 2. Data"
   ]
  },
  {
   "cell_type": "markdown",
   "metadata": {},
   "source": [
    "## 2.1 Paths<a class=\"anchor\" id=\"EXTRACT\"></a>"
   ]
  },
  {
   "cell_type": "code",
   "execution_count": null,
   "metadata": {},
   "outputs": [],
   "source": [
    "SEQUOIA_PATHS = {'sequoia_run_1': RAW_FOLDER + 'sequoia_test_1.zip',\n",
    "                 'sequoia_run_2': RAW_FOLDER + 'sequoia_test_2.zip'}\n",
    "\n",
    "CNCS_PATHS = {'cncs_run_1': RAW_FOLDER + 'cncs_test_1'}"
   ]
  },
  {
   "cell_type": "markdown",
   "metadata": {},
   "source": [
    "## 2.2 Extract<a class=\"anchor\" id=\"EXTRACT\"></a>"
   ]
  },
  {
   "cell_type": "code",
   "execution_count": null,
   "metadata": {
    "scrolled": true
   },
   "outputs": [],
   "source": [
    "# Note that the 'extract_and_save'-function only needs to performed one.\n",
    "# After that, the data has been clustered and saved. The data can then\n",
    "# be accessed using the 'load_clusters_and_events'-function.\n",
    "\n",
    "extract_and_save('sequoia_run_1', SEQUOIA_PATHS['sequoia_run_1'])\n",
    "extract_and_save('sequoia_run_2', SEQUOIA_PATHS['sequoia_run_2'])"
   ]
  },
  {
   "cell_type": "markdown",
   "metadata": {},
   "source": [
    "## 2.3 Load<a class=\"anchor\" id=\"LOAD\"></a>"
   ]
  },
  {
   "cell_type": "code",
   "execution_count": null,
   "metadata": {
    "scrolled": true
   },
   "outputs": [],
   "source": [
    "clu_sequoia_run_1, ev_sequoia_run_1 = load_clusters_and_events('sequoia_run_1')\n",
    "clu_sequoia_run_2, ev_sequoia_run_2 = load_clusters_and_events('sequoia_run_2')"
   ]
  },
  {
   "cell_type": "markdown",
   "metadata": {},
   "source": [
    "# 3. Filters<a class=\"anchor\" id=\"FILTER\"></a>"
   ]
  },
  {
   "cell_type": "markdown",
   "metadata": {},
   "source": [
    "Declare filters which can be used on the data. Below are a few template filters."
   ]
  },
  {
   "cell_type": "markdown",
   "metadata": {},
   "source": [
    "## SEQUOIA"
   ]
  },
  {
   "cell_type": "code",
   "execution_count": null,
   "metadata": {},
   "outputs": [],
   "source": [
    "\"\"\"\n",
    "Filters are declared in the following format: {'PARAMETER': [MIN_VALUE, MAX_VALUE, IS_ACTIVATE]}\n",
    "\"\"\"\n",
    "\n",
    "# Declare filters for SEQUOIA module\n",
    "mg_filter_basic = {'wm': [1, 1, True],                   # Wire multiplicity\n",
    "                   'gm': [1, 5, True],                   # Grid multiplicity\n",
    "                   'wadc': [1200, np.inf, True],         # Wire charge\n",
    "                   'gadc': [1200, np.inf, True],         # Grid charge\n",
    "                   'tof': [0, np.inf, True],             # Time-of-flight (TDC channels)\n",
    "                   'time': [0, np.inf, True],            # Time (TDC channels)\n",
    "                   'bus': [0, 8, True],                  # Bus\n",
    "                   'flag': [0, 1, False],                # =1 if different buses within same coincidence\n",
    "                   'layer': [0, 19, False],              # Layer, front=0 to back=19\n",
    "                   'row': [0, 11, False],                # Row, right to left (seen from neutrons)\n",
    "                   'gch': [80, 119, True]}               # Grid channel, bottom=80 to top=119\n",
    "\n",
    "mg_filter_no_edges = {'wm': [1, 1, True],                 \n",
    "                      'gm': [1, 5, True],                  \n",
    "                      'wadc': [1200, np.inf, True],        \n",
    "                      'gadc': [1200, np.inf, True],          \n",
    "                      'tof': [0, np.inf, True],            \n",
    "                      'time': [0, np.inf, True],            \n",
    "                      'bus': [0, 8, True],                 \n",
    "                      'flag': [0, 1, False],                \n",
    "                      'layer': [0, 19, False],              \n",
    "                      'row': [0, 11, False],                \n",
    "                      'gch': [82, 117, True]}               \n",
    "\n",
    "mg_filter_no_edges_no_back = {'wm': [1, 1, True],                   \n",
    "                              'gm': [1, 5, True],                  \n",
    "                              'wadc': [1200, np.inf, True],          \n",
    "                              'gadc': [1200, np.inf, True],          \n",
    "                              'tof': [0, np.inf, True],             \n",
    "                              'time': [0, np.inf, True],      \n",
    "                              'bus': [0, 8, True],                  \n",
    "                              'flag': [0, 1, False],                \n",
    "                              'layer': [0, 15, True],              \n",
    "                              'row': [0, 11, False],                \n",
    "                              'gch': [82, 117, True]}               \n",
    "\n",
    "mg_filter_no_edges_no_back_no_middle = {'wm': [1, 1, True],             \n",
    "                                        'gm': [1, 5, True],                \n",
    "                                        'wadc': [1200, np.inf, True],         \n",
    "                                        'gadc': [1200, np.inf, True],          \n",
    "                                        'tof': [0, np.inf, True],           \n",
    "                                        'time': [0, np.inf, True],           \n",
    "                                        'bus': [0, 8, True],                  \n",
    "                                        'flag': [0, 1, False],               \n",
    "                                        'layer': [0, 15, True],            \n",
    "                                        'row': [0, 11, False],               \n",
    "                                        'gch': [82, 95, True]}               "
   ]
  },
  {
   "cell_type": "markdown",
   "metadata": {},
   "source": [
    "## CNCS"
   ]
  },
  {
   "cell_type": "code",
   "execution_count": null,
   "metadata": {},
   "outputs": [],
   "source": [
    "# Declare filter for the CNCS module\n",
    "mg_filter_cncs = {'w_adc_m1': [1500, np.inf, True],\n",
    "                  'w_adc_m2': [0, np.inf, False],\n",
    "                  'w_ch_adc_m1': [200, np.inf, True],\n",
    "                  'w_ch_adc_m2': [0, np.inf, False],\n",
    "                  'g_adc_m1': [1200, np.inf, True],\n",
    "                  'g_adc_m2': [0, np.inf, False],\n",
    "                  'g_ch_adc_m1': [200, np.inf, True],\n",
    "                  'g_ch_adc_m2': [0, np.inf, False]}\n",
    "\n",
    "mg_no_filter_cncs = {'w_adc_m1': [300, np.inf, False],\n",
    "                     'w_adc_m2': [300, np.inf, False],\n",
    "                     'w_ch_adc_m1': [300, np.inf, False],\n",
    "                     'w_ch_adc_m2': [300, np.inf, False],\n",
    "                     'g_adc_m1': [300, np.inf, False],\n",
    "                     'g_adc_m2': [300, np.inf, False],\n",
    "                     'g_ch_adc_m1': [300, np.inf, False],\n",
    "                     'g_ch_adc_m2': [300, np.inf, False],\n",
    "                     'tof': [0, np.inf, False],\n",
    "                     'w_ch_m1': [0, np.inf, False],\n",
    "                     'g_ch_m1': [0, np.inf, False],\n",
    "                     'g_ch_m2': [0, np.inf, False]}"
   ]
  },
  {
   "cell_type": "markdown",
   "metadata": {},
   "source": [
    "# 4. Plotting<a class=\"anchor\" id=\"FILTER\"></a>"
   ]
  },
  {
   "cell_type": "markdown",
   "metadata": {},
   "source": [
    "## SEQUOIA"
   ]
  },
  {
   "cell_type": "markdown",
   "metadata": {},
   "source": [
    "### sequoia_run_1"
   ]
  },
  {
   "cell_type": "code",
   "execution_count": null,
   "metadata": {
    "scrolled": false
   },
   "outputs": [],
   "source": [
    "area = 0.0225*0.0225*4*40\n",
    "plot_basic('sequoia_run_1', clu_sequoia_run_1, ev_sequoia_run_1, mg_filter_basic, 0, 5, 2, area)"
   ]
  },
  {
   "cell_type": "markdown",
   "metadata": {},
   "source": [
    "### sequoia_run_2"
   ]
  },
  {
   "cell_type": "code",
   "execution_count": null,
   "metadata": {
    "scrolled": false
   },
   "outputs": [],
   "source": [
    "area = 0.0225*0.0225*4*40\n",
    "plot_basic('sequoia_run_2', clu_sequoia_run_2, ev_sequoia_run_2, mg_filter_basic, 0, 5, 2, area)"
   ]
  },
  {
   "cell_type": "markdown",
   "metadata": {},
   "source": [
    "## CNCS"
   ]
  },
  {
   "cell_type": "markdown",
   "metadata": {},
   "source": [
    "### cncs_run_1"
   ]
  },
  {
   "cell_type": "code",
   "execution_count": null,
   "metadata": {
    "scrolled": false
   },
   "outputs": [],
   "source": [
    "# Import data and declare parameters\n",
    "run = 'cncs_run_1'\n",
    "path = CNCS_PATHS['cncs_run_1']\n",
    "clusters_unfiltered = cncs_read.extract_clusters(CNCS_PATHS['cncs_run_1'])\n",
    "df_filter = mg_filter_cncs\n",
    "area = 0.0225 * 0.0225 * 4 * 48 * 2 # m^2\n",
    "\n",
    "# Plot data\n",
    "plot_basic_cncs(run, path, clusters_unfiltered, df_filter, area, extra='_with_filter')"
   ]
  }
 ],
 "metadata": {
  "kernelspec": {
   "display_name": "Python 3",
   "language": "python",
   "name": "python3"
  },
  "language_info": {
   "codemirror_mode": {
    "name": "ipython",
    "version": 3
   },
   "file_extension": ".py",
   "mimetype": "text/x-python",
   "name": "python",
   "nbconvert_exporter": "python",
   "pygments_lexer": "ipython3",
   "version": "3.7.3"
  }
 },
 "nbformat": 4,
 "nbformat_minor": 2
}
